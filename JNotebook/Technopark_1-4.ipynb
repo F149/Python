{
 "cells": [
  {
   "cell_type": "markdown",
   "metadata": {},
   "source": [
    "![title](img/002.png)"
   ]
  },
  {
   "cell_type": "markdown",
   "metadata": {},
   "source": [
    "<p style=\"text-align: center;\"><font size=\"7\"> * * * </font></p>\n",
    "<hr style=\"height:2px; background-color: rbg(0,0,0);\">"
   ]
  },
  {
   "cell_type": "markdown",
   "metadata": {},
   "source": [
    "# #1"
   ]
  },
  {
   "cell_type": "code",
   "execution_count": 1,
   "metadata": {},
   "outputs": [
    {
     "name": "stdout",
     "output_type": "stream",
     "text": [
      "Hi all! o/\n"
     ]
    }
   ],
   "source": [
    "print(\"Hi all! o/\")"
   ]
  },
  {
   "cell_type": "code",
   "execution_count": 222,
   "metadata": {},
   "outputs": [
    {
     "name": "stdout",
     "output_type": "stream",
     "text": [
      "(2, 2)\n",
      "2 22\n"
     ]
    }
   ],
   "source": [
    "a = divmod(22, 10)\n",
    "print(a)\n",
    "b, c = divmod(222, 100)\n",
    "print(b, c)"
   ]
  },
  {
   "cell_type": "code",
   "execution_count": 5,
   "metadata": {},
   "outputs": [
    {
     "name": "stdout",
     "output_type": "stream",
     "text": [
      "22000000\n"
     ]
    }
   ],
   "source": [
    "big_amount = 22_000_000\n",
    "print(big_amount)"
   ]
  },
  {
   "cell_type": "code",
   "execution_count": 10,
   "metadata": {},
   "outputs": [
    {
     "name": "stdout",
     "output_type": "stream",
     "text": [
      "77689142522643953432857984943405160607459375066866993426360941500585379496167494554414812738317551290610125506942363201912811852077589887445080329133236084882706758976853160280299220802735308699614184679198052359338219884186570298955013643597740982700186080103802243114935671443344639972611689529406831778230237557486483970597676232979670032540178649466573489259451610193432410434961292070905832062516015156301535032295736862042589225660949159580073017293290337975775881136212936121912254638873440212608666735186892816384\n"
     ]
    }
   ],
   "source": [
    "big_number = 222 ** 222\n",
    "print(big_number)"
   ]
  },
  {
   "cell_type": "code",
   "execution_count": 11,
   "metadata": {},
   "outputs": [
    {
     "data": {
      "text/plain": [
       "int"
      ]
     },
     "execution_count": 11,
     "metadata": {},
     "output_type": "execute_result"
    }
   ],
   "source": [
    "type(big_number)"
   ]
  },
  {
   "cell_type": "code",
   "execution_count": 99,
   "metadata": {},
   "outputs": [
    {
     "name": "stdout",
     "output_type": "stream",
     "text": [
      "0.30000000000000004\n",
      "0.22\n",
      "0.3\n"
     ]
    }
   ],
   "source": [
    "from decimal import Decimal\n",
    "print(0.1 + 0.2)\n",
    "print(.1 + .12)\n",
    "print(Decimal('0.1') + Decimal('0.2'))"
   ]
  },
  {
   "cell_type": "code",
   "execution_count": 23,
   "metadata": {},
   "outputs": [
    {
     "ename": "ValueError",
     "evalue": "invalid literal for int() with base 10: '12dwfwef'",
     "output_type": "error",
     "traceback": [
      "\u001b[0;31m---------------------------------------------------------------------------\u001b[0m",
      "\u001b[0;31mValueError\u001b[0m                                Traceback (most recent call last)",
      "\u001b[0;32m<ipython-input-23-8c460f956c53>\u001b[0m in \u001b[0;36m<module>\u001b[0;34m\u001b[0m\n\u001b[0;32m----> 1\u001b[0;31m \u001b[0mprint\u001b[0m\u001b[0;34m(\u001b[0m\u001b[0mint\u001b[0m\u001b[0;34m(\u001b[0m\u001b[0;34m'12dwfwef'\u001b[0m\u001b[0;34m)\u001b[0m\u001b[0;34m)\u001b[0m\u001b[0;34m\u001b[0m\u001b[0m\n\u001b[0m",
      "\u001b[0;31mValueError\u001b[0m: invalid literal for int() with base 10: '12dwfwef'"
     ]
    }
   ],
   "source": [
    "print(int('12dwfwef'))"
   ]
  },
  {
   "cell_type": "code",
   "execution_count": 35,
   "metadata": {},
   "outputs": [
    {
     "name": "stdout",
     "output_type": "stream",
     "text": [
      "True False True True XXXXXX XXX\n"
     ]
    }
   ],
   "source": [
    "print('XXX' < 'XXXX',\n",
    "      'XXX' > 'XXXX',\n",
    "      'XXX' == 'XXX',\n",
    "      'XXX' is 'XXX',\n",
    "      'XXX' + 'XXX',\n",
    "      'X' * 3,\n",
    "     )\n"
   ]
  },
  {
   "cell_type": "code",
   "execution_count": 15,
   "metadata": {},
   "outputs": [
    {
     "name": "stdout",
     "output_type": "stream",
     "text": [
      "22 4538755760\n",
      "222 4545027128\n",
      "2222 4545027296\n"
     ]
    }
   ],
   "source": [
    "s1 = '22'\n",
    "print(s1, id(s1))\n",
    "\n",
    "s1 = s1 + '2'\n",
    "print(s1, id(s1))\n",
    "s1 += '2'\n",
    "print(s1, id(s1))"
   ]
  },
  {
   "cell_type": "code",
   "execution_count": 55,
   "metadata": {},
   "outputs": [
    {
     "name": "stdout",
     "output_type": "stream",
     "text": [
      "4514656952\n"
     ]
    }
   ],
   "source": [
    "string = string + '22'\n",
    "string += '22'\n",
    "print(id(\"First str_id: \"+ string))"
   ]
  },
  {
   "cell_type": "code",
   "execution_count": 58,
   "metadata": {},
   "outputs": [
    {
     "name": "stdout",
     "output_type": "stream",
     "text": [
      "2 2 2\n"
     ]
    }
   ],
   "source": [
    "print(s1[0], s1[1], s1[3])"
   ]
  },
  {
   "cell_type": "code",
   "execution_count": 84,
   "metadata": {},
   "outputs": [
    {
     "name": "stdout",
     "output_type": "stream",
     "text": [
      "LEN=9 123456789 987654321 98 98 98\n"
     ]
    }
   ],
   "source": [
    "string = '123456789'\n",
    "print(\"LEN=\" + str(len(string)),\n",
    "      string,\n",
    "      string[::-1],\n",
    "      string[-1] + string[-2],\n",
    "      string[-1] + string[7],\n",
    "      string[8] + string[7],\n",
    "     )"
   ]
  },
  {
   "cell_type": "code",
   "execution_count": 16,
   "metadata": {},
   "outputs": [
    {
     "name": "stdout",
     "output_type": "stream",
     "text": [
      "['CC', 'XX', 'II', '222']\n",
      "CCXXII222\n",
      "CC\n",
      "XX\n",
      "II\n",
      "222\n"
     ]
    }
   ],
   "source": [
    "tag_list = 'CC, XX, II, 222'\n",
    "splitted = tag_list.split(', ')\n",
    "print(splitted)\n",
    "print(\"\".join(splitted))\n",
    "print(\"\\n\".join(splitted))"
   ]
  },
  {
   "cell_type": "markdown",
   "metadata": {},
   "source": [
    "### Placeholder"
   ]
  },
  {
   "cell_type": "code",
   "execution_count": 123,
   "metadata": {},
   "outputs": [
    {
     "name": "stdout",
     "output_type": "stream",
     "text": [
      "Number is: CCXXII - NEW FORMAT\n",
      "\n",
      "Number is: CCXXII - NEWEST\n",
      "\n",
      "Number is: CCXXII - OLD FORMAT\n"
     ]
    }
   ],
   "source": [
    "word = 'CCXXII'\n",
    "print(\"Number is: {}{}\".format(word, ' - NEW FORMAT'))\n",
    "\n",
    "form2 = 'NEWEST'\n",
    "print(f'\\nNumber is: {word} - {form2}')\n",
    "\n",
    "form = 'OLD FORMAT'\n",
    "print('\\nNumber is: %s - %s' % (word, form))"
   ]
  },
  {
   "cell_type": "code",
   "execution_count": 146,
   "metadata": {},
   "outputs": [
    {
     "name": "stdout",
     "output_type": "stream",
     "text": [
      "\t --XXX----- \n",
      "\n",
      "--XXX-----\n",
      "XXX\n"
     ]
    }
   ],
   "source": [
    "a = '\\t --XXX----- \\n'\n",
    "print(a)\n",
    "print(a.strip())\n",
    "print(a.strip().strip('-'))"
   ]
  },
  {
   "cell_type": "code",
   "execution_count": 142,
   "metadata": {},
   "outputs": [
    {
     "name": "stdout",
     "output_type": "stream",
     "text": [
      " 231 12342213 2365757484 4664545\n",
      "x231x12342213x2365757484x4664545\n"
     ]
    }
   ],
   "source": [
    "input_str = ' 231 12342213 2365757484 4664545'\n",
    "print(input_str)\n",
    "mod_str = input_str.replace(' ', 'x')\n",
    "print(mod_str)"
   ]
  },
  {
   "cell_type": "code",
   "execution_count": 148,
   "metadata": {},
   "outputs": [
    {
     "data": {
      "text/plain": [
       "True"
      ]
     },
     "execution_count": 148,
     "metadata": {},
     "output_type": "execute_result"
    }
   ],
   "source": [
    "'th' in 'Python'"
   ]
  },
  {
   "cell_type": "code",
   "execution_count": 152,
   "metadata": {},
   "outputs": [
    {
     "name": "stdout",
     "output_type": "stream",
     "text": [
      "1\n",
      "5\n"
     ]
    }
   ],
   "source": [
    "print(0 or 1)\n",
    "print(5 or 1)"
   ]
  },
  {
   "cell_type": "code",
   "execution_count": 223,
   "metadata": {},
   "outputs": [
    {
     "name": "stdout",
     "output_type": "stream",
     "text": [
      ">>> 18 - WARNING!!!\n"
     ]
    }
   ],
   "source": [
    "import random\n",
    "number = random.randint(0, 22)\n",
    "result = 'OK' if number <= 15 else \"WARNING!!!\"\n",
    "print(f'>>> {number} - {result}')"
   ]
  },
  {
   "cell_type": "code",
   "execution_count": 17,
   "metadata": {},
   "outputs": [
    {
     "name": "stdout",
     "output_type": "stream",
     "text": [
      "p\n",
      "y\n",
      "t\n",
      "h\n",
      "o\n",
      "n\n",
      "\n"
     ]
    }
   ],
   "source": [
    "for letter in 'python':\n",
    "    print(letter, end = '\\n')\n",
    "print()"
   ]
  },
  {
   "cell_type": "code",
   "execution_count": 281,
   "metadata": {},
   "outputs": [
    {
     "name": "stdout",
     "output_type": "stream",
     "text": [
      "0[p] 1[y] 2[t] 3[h] 4[o] 5[n] \n",
      "0[P] 1[Y] 2[T] 3[H] 4[O] 5[N] "
     ]
    }
   ],
   "source": [
    "word = 'python'\n",
    "\n",
    "for letter in range(len(word)):\n",
    "    print(f'{letter}[{word[letter]}]', end = \" \")\n",
    "\n",
    "print()\n",
    "\n",
    "for idx, letter in enumerate('PYTHON'):\n",
    "    print(f'{idx}[{letter}]', end = \" \")\n",
    "    "
   ]
  },
  {
   "cell_type": "code",
   "execution_count": 252,
   "metadata": {},
   "outputs": [
    {
     "name": "stdout",
     "output_type": "stream",
     "text": [
      "22, 20, 18, 16, 14, 12, 10, 8, 6, 4, \n",
      "4, 6, 8, 10, 12, 14, 16, 18, 20, 22, "
     ]
    }
   ],
   "source": [
    "for x in range(22, 2, -2):\n",
    "    print(x, end = ', ')\n",
    "\n",
    "print()\n",
    "\n",
    "for x in reversed(range(22, 2, -2)):\n",
    "    print(x, end = ', ')"
   ]
  },
  {
   "cell_type": "code",
   "execution_count": 284,
   "metadata": {},
   "outputs": [
    {
     "data": {
      "text/plain": [
       "16777215"
      ]
     },
     "execution_count": 284,
     "metadata": {},
     "output_type": "execute_result"
    }
   ],
   "source": [
    "int('FFFFFF', 16)"
   ]
  },
  {
   "cell_type": "code",
   "execution_count": 23,
   "metadata": {},
   "outputs": [
    {
     "name": "stdout",
     "output_type": "stream",
     "text": [
      "16, 17, Fizz, 19, Buzz, Fizz."
     ]
    }
   ],
   "source": [
    "for num in range(16, 22):\n",
    "    result = ''\n",
    "    \n",
    "    if num % 3 == 0:\n",
    "        result += 'Fizz'\n",
    "    if num % 5 == 0:\n",
    "        result += 'Buzz'\n",
    "\n",
    "    print(result or num, end = \", \" if num < 21 else \".\")"
   ]
  },
  {
   "cell_type": "markdown",
   "metadata": {},
   "source": [
    "<hr style=\"height:2px; background-color: rbg(0,0,0);\">\n",
    "<br>\n",
    "<p style=\"text-align: center;\"><font size=\"7\"> * * * </font></p>"
   ]
  },
  {
   "cell_type": "markdown",
   "metadata": {},
   "source": [
    "# #2"
   ]
  },
  {
   "cell_type": "code",
   "execution_count": 24,
   "metadata": {},
   "outputs": [
    {
     "name": "stdout",
     "output_type": "stream",
     "text": [
      "list_one = [None, None, None, None, None]\n",
      "list_one = [2, 22, 222, 2, 22, 222, 2, 22, 222]\n",
      "list_one = [True, None, 22, 'XXII']\n"
     ]
    }
   ],
   "source": [
    "empty_list = []\n",
    "empty_list = list()\n",
    "not_empty_list = list([22, 222, 2222])\n",
    "not_empty_list = [22, 222, 2222]\n",
    "list_one = [None] * 5\n",
    "list_two = [2, 22, 222] * 3\n",
    "list_three = [True, None, 22, 'XXII']\n",
    "print(f'list_one = {list_one}')\n",
    "print(f'list_one = {list_two}')\n",
    "print(f'list_one = {list_three}')"
   ]
  },
  {
   "cell_type": "code",
   "execution_count": 18,
   "metadata": {},
   "outputs": [
    {
     "name": "stdout",
     "output_type": "stream",
     "text": [
      "242 ns ± 52.8 ns per loop (mean ± std. dev. of 7 runs, 10000 loops each)\n"
     ]
    }
   ],
   "source": [
    "benchmark_list = []\n",
    "%timeit -n10000 benchmark_list.append(\"XXII\")"
   ]
  },
  {
   "cell_type": "code",
   "execution_count": 19,
   "metadata": {},
   "outputs": [
    {
     "name": "stdout",
     "output_type": "stream",
     "text": [
      "The slowest run took 10.69 times longer than the fastest. This could mean that an intermediate result is being cached.\n",
      "41.5 µs ± 23.3 µs per loop (mean ± std. dev. of 7 runs, 10000 loops each)\n"
     ]
    }
   ],
   "source": [
    "benchmark_list = []\n",
    "%timeit -n10000 benchmark_list.insert(0, \"XXII\")\n"
   ]
  },
  {
   "cell_type": "code",
   "execution_count": 22,
   "metadata": {},
   "outputs": [
    {
     "name": "stdout",
     "output_type": "stream",
     "text": [
      "[1, 2, 3, 4, 5, 6, 7, 8, 9]\n",
      "[1, 2, 3, 4, 5, 6, 7, 8]\n",
      "[4, 5, 6, 7, 8]\n"
     ]
    }
   ],
   "source": [
    "test_list = [1, 2, 3, 4, 5, 6, 7, 8, 9]\n",
    "print(test_list)\n",
    "del test_list[-1]\n",
    "print(test_list)\n",
    "del test_list[0:3]\n",
    "print(test_list)"
   ]
  },
  {
   "cell_type": "code",
   "execution_count": 36,
   "metadata": {},
   "outputs": [
    {
     "name": "stdout",
     "output_type": "stream",
     "text": [
      "[1, 2, 3, 4, 5, 6, 7, 8, 9, 10]\n",
      "[2, 3, 4, 5, 6, 7, 8, 9]\n",
      "[2, 4, 6, 8, 10]\n",
      "[7, 8, 9, 10]\n",
      "10\n"
     ]
    }
   ],
   "source": [
    "example_list = [x for x in range(1, 11)]\n",
    "print(example_list)\n",
    "print(example_list[1:-1])\n",
    "print(example_list[1:len(example_list):2])\n",
    "print(example_list[6:])\n",
    "print(example_list[-1])"
   ]
  },
  {
   "cell_type": "code",
   "execution_count": 50,
   "metadata": {},
   "outputs": [
    {
     "name": "stdout",
     "output_type": "stream",
     "text": [
      "[0, 1, 2, 3, 4, 5, 6, 7, 8, 9, 10]\n",
      "[0, 1, 2, 3, 4, 5, 6, 7, 8, 9, 10]\n",
      "\n",
      "list_test    = [22, 1, 2, 3, 4, 5, 6, 7, 8, 9, 10]\n",
      "another_list = [22, 1, 2, 3, 4, 5, 6, 7, 8, 9, 10]\n",
      "\n",
      "list_test_2 = [0, 1, 2, 3, 4, 5, 6, 7, 8, 9, 10]\n",
      "list_test_3 = [1, 1, 2, 3, 4, 5, 6, 7, 8, 9, 10]\n"
     ]
    }
   ],
   "source": [
    "list_test = [x for x in range(0, 11)]\n",
    "print(list_test)\n",
    "\n",
    "another_list = list_test\n",
    "print(another_list)\n",
    "\n",
    "another_list[0] = 22\n",
    "print(f'\\nlist_test    = {list_test}')\n",
    "print(f'another_list = {another_list}')\n",
    "\n",
    "list_test_2 = [x for x in range(0, 11)]\n",
    "print()\n",
    "\n",
    "list_test_3 = list_test_2[:] # Копирование через срез\n",
    "list_test_3[0] = 1\n",
    "print(f'list_test_2 = {list_test_2}')\n",
    "print(f'list_test_3 = {list_test_3}')"
   ]
  },
  {
   "cell_type": "markdown",
   "metadata": {},
   "source": [
    "<font size=\"5\"> * * * </font>\n",
    "#### SHALOW COPY"
   ]
  },
  {
   "cell_type": "code",
   "execution_count": 26,
   "metadata": {},
   "outputs": [
    {
     "name": "stdout",
     "output_type": "stream",
     "text": [
      "    another_list = [[1, 2, 3, 4], 1, 2, 3, 4]\n",
      "now another_list = [[1, 2, 3, 4, 22], 1, 2, 3, 4]\n"
     ]
    }
   ],
   "source": [
    "nested_list = [1, 2, 3, 4]\n",
    "example_list = [nested_list, 1, 2, 3, 4]\n",
    "another_list = example_list[:]\n",
    "print(f'    another_list = {another_list}')\n",
    "nested_list.append(22)\n",
    "print(f'now another_list = {another_list}')"
   ]
  },
  {
   "cell_type": "markdown",
   "metadata": {},
   "source": [
    "#### deepcopy"
   ]
  },
  {
   "cell_type": "code",
   "execution_count": 27,
   "metadata": {},
   "outputs": [
    {
     "name": "stdout",
     "output_type": "stream",
     "text": [
      "    another_list = [[1, 2, 3, 4], 1, 2, 3, 4]\n",
      "now another_list = [[1, 2, 3, 4], 1, 2, 3, 4]\n"
     ]
    }
   ],
   "source": [
    "from copy import deepcopy\n",
    "nested_list = [1, 2, 3, 4]\n",
    "example_list = [nested_list, 1, 2, 3, 4]\n",
    "another_list = deepcopy(example_list)\n",
    "print(f'    another_list = {another_list}')\n",
    "nested_list.append(22)\n",
    "print(f'now another_list = {another_list}')"
   ]
  },
  {
   "cell_type": "markdown",
   "metadata": {},
   "source": [
    "<font size=\"5\">* * *<font/>"
   ]
  },
  {
   "cell_type": "code",
   "execution_count": 60,
   "metadata": {},
   "outputs": [
    {
     "name": "stdout",
     "output_type": "stream",
     "text": [
      "[0, 1, 2, 3, 6, 7]\n",
      "[6, 3, 1, 7, 0, 2]\n"
     ]
    }
   ],
   "source": [
    "unsorted = [6, 3, 1, 7, 0, 2]\n",
    "print(sorted(unsorted))\n",
    "print(unsorted)"
   ]
  },
  {
   "cell_type": "markdown",
   "metadata": {},
   "source": [
    "#### Вывести в одну строку все цифры от 0 до 100"
   ]
  },
  {
   "cell_type": "code",
   "execution_count": 64,
   "metadata": {},
   "outputs": [
    {
     "name": "stdout",
     "output_type": "stream",
     "text": [
      "0,1,2,3,4,5,6,7,8,9,10,11,12,13,14,15,16,17,18,19,20,21,22,23,24,25,26,27,28,29,30,31,32,33,34,35,36,37,38,39,40,41,42,43,44,45,46,47,48,49,50,51,52,53,54,55,56,57,58,59,60,61,62,63,64,65,66,67,68,69,70,71,72,73,74,75,76,77,78,79,80,81,82,83,84,85,86,87,88,89,90,91,92,93,94,95,96,97,98,99,100,"
     ]
    }
   ],
   "source": [
    "for x in range(0, 101):\n",
    "    print(x, end=\",\")"
   ]
  },
  {
   "cell_type": "code",
   "execution_count": 63,
   "metadata": {},
   "outputs": [
    {
     "name": "stdout",
     "output_type": "stream",
     "text": [
      "0,1,2,3,4,5,6,7,8,9,10,11,12,13,14,15,16,17,18,19,20,21,22,23,24,25,26,27,28,29,30,31,32,33,34,35,36,37,38,39,40,41,42,43,44,45,46,47,48,49,50,51,52,53,54,55,56,57,58,59,60,61,62,63,64,65,66,67,68,69,70,71,72,73,74,75,76,77,78,79,80,81,82,83,84,85,86,87,88,89,90,91,92,93,94,95,96,97,98,99,100\n"
     ]
    }
   ],
   "source": [
    "print(\",\".join(str(item) for item in range(101)))"
   ]
  },
  {
   "cell_type": "code",
   "execution_count": 65,
   "metadata": {},
   "outputs": [
    {
     "name": "stdout",
     "output_type": "stream",
     "text": [
      "1 2 3 4 5\n"
     ]
    }
   ],
   "source": [
    "five_num_tuple = [1, 2, 3, 4, 5]\n",
    "a, b, c, d, e = five_num_tuple\n",
    "print(a, b, c, d, e)"
   ]
  },
  {
   "cell_type": "code",
   "execution_count": 69,
   "metadata": {},
   "outputs": [
    {
     "data": {
      "text/plain": [
       "2528502973977326415"
      ]
     },
     "execution_count": 69,
     "metadata": {},
     "output_type": "execute_result"
    }
   ],
   "source": [
    "hash((1, 2, 3))"
   ]
  },
  {
   "cell_type": "code",
   "execution_count": 70,
   "metadata": {},
   "outputs": [],
   "source": [
    "search_list = list(range(100000))\n",
    "search_dict = dict.fromkeys(list(range(100000)))"
   ]
  },
  {
   "cell_type": "code",
   "execution_count": 72,
   "metadata": {},
   "outputs": [
    {
     "name": "stdout",
     "output_type": "stream",
     "text": [
      "106 ns ± 45 ns per loop (mean ± std. dev. of 7 runs, 10000 loops each)\n"
     ]
    }
   ],
   "source": [
    "%timeit -n10000 0 in search_list"
   ]
  },
  {
   "cell_type": "code",
   "execution_count": 73,
   "metadata": {},
   "outputs": [
    {
     "name": "stdout",
     "output_type": "stream",
     "text": [
      "125 ns ± 31.9 ns per loop (mean ± std. dev. of 7 runs, 10000 loops each)\n"
     ]
    }
   ],
   "source": [
    "%timeit -n10000 0 in search_dict"
   ]
  },
  {
   "cell_type": "code",
   "execution_count": 77,
   "metadata": {},
   "outputs": [
    {
     "name": "stdout",
     "output_type": "stream",
     "text": [
      "3.1 ms ± 21.4 µs per loop (mean ± std. dev. of 7 runs, 1000 loops each)\n"
     ]
    }
   ],
   "source": [
    "%timeit -n1000 99999 in search_list"
   ]
  },
  {
   "cell_type": "code",
   "execution_count": 78,
   "metadata": {},
   "outputs": [
    {
     "name": "stdout",
     "output_type": "stream",
     "text": [
      "206 ns ± 43 ns per loop (mean ± std. dev. of 7 runs, 10000 loops each)\n"
     ]
    }
   ],
   "source": [
    "%timeit -n10000 99999 in search_dict"
   ]
  },
  {
   "cell_type": "code",
   "execution_count": 82,
   "metadata": {},
   "outputs": [
    {
     "name": "stdout",
     "output_type": "stream",
     "text": [
      "{'a': 22, 'b': 222, 'f': 'SECOND', 'c': 'XXII', 'd': 'CCXXII'}\n"
     ]
    }
   ],
   "source": [
    "d1 = {\"a\": 22, \"b\": 222, \"f\": \"FIRST\"}\n",
    "d2 = {\"c\": \"XXII\", \"d\": \"CCXXII\", \"f\":\"SECOND\"}\n",
    "d1.update(d2)\n",
    "print(d1)"
   ]
  },
  {
   "cell_type": "code",
   "execution_count": 92,
   "metadata": {},
   "outputs": [
    {
     "name": "stdout",
     "output_type": "stream",
     "text": [
      "[2]-3\n",
      "[22]-3\n",
      "[4]-1\n",
      "[3]-2\n",
      "[55]-1\n",
      "[5]-2\n",
      "[44]-1\n"
     ]
    }
   ],
   "source": [
    "elements = [2, 22, 2, 22, 2, 22, 4, 3, 55, 5, 5, 44, 3]\n",
    "solutions_dict = {}\n",
    "\n",
    "for item in elements:\n",
    "    if item in solutions_dict:\n",
    "        solutions_dict[item] = solutions_dict.get(item, 0) + 1\n",
    "    if not solutions_dict.get(item, None):\n",
    "        solutions_dict[item] = 1\n",
    "for key, value in solutions_dict.items():\n",
    "#    if value is 1:\n",
    "        print(f'[{key}]-{value}')"
   ]
  },
  {
   "cell_type": "code",
   "execution_count": 103,
   "metadata": {},
   "outputs": [
    {
     "name": "stdout",
     "output_type": "stream",
     "text": [
      "[1, 2, 3, 4, 5, 6, 7, 8, 9]\n",
      "[2, 3, 4, 5, 6, 7, 8, 9, 10]\n",
      "[4, 6, 8, 10]\n"
     ]
    }
   ],
   "source": [
    "item_list_1 = [1, 2, 3, 4, 5, 6, 7, 8, 9]\n",
    "item_list_2 = [item + 1 for item in item_list_1]\n",
    "item_list_3 = [item + 1 for item in item_list_2 if item % 2]\n",
    "print(f'{item_list_1}\\n{item_list_2}\\n{item_list_3}')"
   ]
  },
  {
   "cell_type": "code",
   "execution_count": 106,
   "metadata": {},
   "outputs": [
    {
     "name": "stdout",
     "output_type": "stream",
     "text": [
      "{1: 3, 3: 5, 5: 7}\n"
     ]
    }
   ],
   "source": [
    "first_list = [(1, 2), (3, 4), (5, 6)]\n",
    "first_dict = {key: value + 1 for key, value in first_list}\n",
    "print(first_dict)"
   ]
  },
  {
   "cell_type": "markdown",
   "metadata": {},
   "source": [
    "#### SET"
   ]
  },
  {
   "cell_type": "code",
   "execution_count": 115,
   "metadata": {},
   "outputs": [
    {
     "name": "stdout",
     "output_type": "stream",
     "text": [
      "{2, 4, 44, 22, 222}\n",
      "{2, 4, 44, 22, 222}\n"
     ]
    }
   ],
   "source": [
    "another_set = {3, 33, 333, 4, 44}\n",
    "example_set = {2, 22, 222, 4, 44}\n",
    "print(example_set)\n",
    "example_set.add(222)\n",
    "print(example_set)"
   ]
  },
  {
   "cell_type": "code",
   "execution_count": 117,
   "metadata": {},
   "outputs": [
    {
     "name": "stdout",
     "output_type": "stream",
     "text": [
      "{2, 222, 22}\n",
      "{33, 2, 3, 4, 44, 333, 22, 222}\n",
      "{4, 44}\n"
     ]
    }
   ],
   "source": [
    "print(example_set.difference(another_set))\n",
    "print(example_set.union(another_set))\n",
    "print(example_set.intersection(another_set))"
   ]
  },
  {
   "cell_type": "code",
   "execution_count": 119,
   "metadata": {},
   "outputs": [
    {
     "data": {
      "text/plain": [
       "22"
      ]
     },
     "execution_count": 119,
     "metadata": {},
     "output_type": "execute_result"
    }
   ],
   "source": [
    "list(example_set)[3]"
   ]
  },
  {
   "cell_type": "code",
   "execution_count": 126,
   "metadata": {},
   "outputs": [
    {
     "name": "stdout",
     "output_type": "stream",
     "text": [
      "{'Sam', 'Max'}\n"
     ]
    }
   ],
   "source": [
    "online_users = {'Bob', 'Max', 'Frank', 'Bill', 'Sam'}\n",
    "admin = {'Sam', 'Max', 'Freddy', 'Tomas'}\n",
    "admin_online = online_users.intersection(admin)\n",
    "print(admin_online)"
   ]
  },
  {
   "cell_type": "markdown",
   "metadata": {},
   "source": [
    "#### Основная задача, часто возникающая на практике. Есть список элементов, необходимо оставить уникальные. Это одна строка с использование сета:"
   ]
  },
  {
   "cell_type": "code",
   "execution_count": 7,
   "metadata": {},
   "outputs": [
    {
     "name": "stdout",
     "output_type": "stream",
     "text": [
      "element :['A', 'A', 'V', 'F', 'F', 'G', 'L', 'T', 'R', 'P', 'P', 'X', 'X', 'Z', 'S', 'A']\n",
      "set is  :{'Z', 'V', 'F', 'A', 'R', 'S', 'P', 'L', 'G', 'T', 'X'}\n"
     ]
    }
   ],
   "source": [
    "elements = ['A', 'A', 'V', 'F','F', 'G', 'L', 'T', 'R', 'P', 'P', 'X', 'X', 'Z', 'S', 'A']\n",
    "print(f'element :{elements}')\n",
    "print(f'set is  :{set(elements)}')"
   ]
  },
  {
   "cell_type": "markdown",
   "metadata": {},
   "source": [
    "#### FROSENZET"
   ]
  },
  {
   "cell_type": "code",
   "execution_count": null,
   "metadata": {},
   "outputs": [],
   "source": [
    "set1 = set()\n",
    "set1.add(frozenset([1,2,3]))\n",
    "print(set1)\n",
    "a = frozenset([1,2,3,4])"
   ]
  },
  {
   "cell_type": "markdown",
   "metadata": {},
   "source": [
    "#### COLLECTIONS"
   ]
  },
  {
   "cell_type": "code",
   "execution_count": 9,
   "metadata": {},
   "outputs": [
    {
     "name": "stdout",
     "output_type": "stream",
     "text": [
      "['deque', 'defaultdict', 'OrderedDict', 'namedtuple', 'Counter', 'ChainMap', 'UserDict', 'UserList', 'UserString', 'abc', 'Mapping', 'Iterable']\n"
     ]
    }
   ],
   "source": [
    "import collections\n",
    "print([x for x in collections.__dict__.keys() if not x.startswith('_')])"
   ]
  },
  {
   "cell_type": "code",
   "execution_count": 10,
   "metadata": {},
   "outputs": [
    {
     "name": "stdout",
     "output_type": "stream",
     "text": [
      "4: 3 times\n",
      "5: 3 times\n",
      "2: 2 times\n"
     ]
    }
   ],
   "source": [
    "counter = collections.Counter([1,2,4,2,4,6,7,84,5,3,4,5,5,6])\n",
    "for element, count in counter.most_common(3):\n",
    "    print(\"{}: {} times\".format(element, count))"
   ]
  },
  {
   "cell_type": "code",
   "execution_count": 11,
   "metadata": {},
   "outputs": [
    {
     "ename": "KeyError",
     "evalue": "1",
     "output_type": "error",
     "traceback": [
      "\u001b[0;31m---------------------------------------------------------------------------\u001b[0m",
      "\u001b[0;31mKeyError\u001b[0m                                  Traceback (most recent call last)",
      "\u001b[0;32m<ipython-input-11-15f699d0c66d>\u001b[0m in \u001b[0;36m<module>\u001b[0;34m\u001b[0m\n\u001b[1;32m      1\u001b[0m \u001b[0ma\u001b[0m \u001b[0;34m=\u001b[0m \u001b[0mdict\u001b[0m\u001b[0;34m(\u001b[0m\u001b[0;34m)\u001b[0m\u001b[0;34m\u001b[0m\u001b[0m\n\u001b[0;32m----> 2\u001b[0;31m \u001b[0ma\u001b[0m\u001b[0;34m[\u001b[0m\u001b[0;36m1\u001b[0m\u001b[0;34m]\u001b[0m \u001b[0;34m+=\u001b[0m \u001b[0;36m1\u001b[0m\u001b[0;34m\u001b[0m\u001b[0m\n\u001b[0m",
      "\u001b[0;31mKeyError\u001b[0m: 1"
     ]
    }
   ],
   "source": [
    "a = dict()\n",
    "a[1] += 1"
   ]
  },
  {
   "cell_type": "code",
   "execution_count": 17,
   "metadata": {},
   "outputs": [
    {
     "name": "stdout",
     "output_type": "stream",
     "text": [
      "defaultdict(<class 'list'>, {1: [1]})\n",
      "[]\n",
      "dict_keys([1, 2])\n",
      "0\n"
     ]
    }
   ],
   "source": [
    "# defaultdict\n",
    "def_dict = collections.defaultdict(list)\n",
    "def_dict[1].append(1)\n",
    "print(def_dict)\n",
    "def_dict[2]\n",
    "print(def_dict[2])\n",
    "print(def_dict.keys())\n",
    "def_dict2 = collections.defaultdict(int)\n",
    "print(def_dict2[2])"
   ]
  },
  {
   "cell_type": "code",
   "execution_count": 27,
   "metadata": {},
   "outputs": [
    {
     "name": "stdout",
     "output_type": "stream",
     "text": [
      "0 0\n",
      "5.0\n"
     ]
    }
   ],
   "source": [
    "# namedtuple\n",
    "import math\n",
    "Point = collections.namedtuple('Point', ['x', 'y'])\n",
    "Point1 = Point(0, 0)\n",
    "Point2 = Point(3, 4)\n",
    "print(Point1.x, Point1.y)\n",
    "distanse = math.sqrt((Point2.x - Point1.x)**2 + (Point2.y - Point1.y)**2)\n",
    "print(distanse)"
   ]
  },
  {
   "cell_type": "markdown",
   "metadata": {},
   "source": [
    "# Functions"
   ]
  },
  {
   "cell_type": "code",
   "execution_count": 62,
   "metadata": {},
   "outputs": [
    {
     "name": "stdout",
     "output_type": "stream",
     "text": [
      "Seconds now: 32\n",
      "\n"
     ]
    }
   ],
   "source": [
    "from datetime import datetime\n",
    "\n",
    "def get_seconds():\n",
    "    \"\"\"Return current seconds\"\"\"\n",
    "    return datetime.now().second\n",
    "\n",
    "print(\"Seconds now: {}\\n\".format(get_seconds()))"
   ]
  },
  {
   "cell_type": "code",
   "execution_count": 63,
   "metadata": {},
   "outputs": [
    {
     "name": "stdout",
     "output_type": "stream",
     "text": [
      "Help on function get_seconds in module __main__:\n",
      "\n",
      "get_seconds()\n",
      "    Return current seconds\n",
      "\n"
     ]
    }
   ],
   "source": [
    "help(get_seconds)"
   ]
  },
  {
   "cell_type": "code",
   "execution_count": 65,
   "metadata": {},
   "outputs": [
    {
     "data": {
      "text/plain": [
       "['AAA', 'CCXXII 222', 'XXII', 'FFF', '$$$']"
      ]
     },
     "execution_count": 65,
     "metadata": {},
     "output_type": "execute_result"
    }
   ],
   "source": [
    "def split_tags(tag_string):\n",
    "    return[item.strip() for item in tag_string.split(',')]\n",
    "\n",
    "split_tags('AAA, CCXXII 222, XXII, FFF, $$$')"
   ]
  },
  {
   "cell_type": "markdown",
   "metadata": {},
   "source": [
    "#### Функция нахождения медиаы переданного списка"
   ]
  },
  {
   "cell_type": "code",
   "execution_count": 71,
   "metadata": {},
   "outputs": [
    {
     "name": "stdout",
     "output_type": "stream",
     "text": [
      "3\n",
      "[5, 4, 2, 1]\n"
     ]
    }
   ],
   "source": [
    "def median(not_sorted_list):\n",
    "    sorted_list = not_sorted_list[:]\n",
    "    sorted_list.sort()\n",
    "    \n",
    "    if len(sorted_list) % 2 == 1:\n",
    "        return sorted_list[len(sorted_list) // 2]\n",
    "    else:\n",
    "        return (sorted_list[len(sorted_list) // 2] + sorted_list[len(sorted_list) // 2] - 1)/2\n",
    "\n",
    "not_sorted_list = [5,4,2,1]\n",
    "print(int(median(not_sorted_list)))\n",
    "print(not_sorted_list)"
   ]
  },
  {
   "cell_type": "code",
   "execution_count": 74,
   "metadata": {},
   "outputs": [],
   "source": [
    "def nlog_median(l):\n",
    "    if not len(l):\n",
    "        return None\n",
    "    l = sort(l)\n",
    "    if len(1) % 2 == 1:\n",
    "        return l[len(l) / 2]\n",
    "    else:\n",
    "        return (l[len(l) // 2 - 1] + l[len(l) // 2]) /2\n",
    "\n",
    "nlog_median([])"
   ]
  },
  {
   "cell_type": "markdown",
   "metadata": {},
   "source": [
    "#### Именованные аргументы"
   ]
  },
  {
   "cell_type": "code",
   "execution_count": 75,
   "metadata": {},
   "outputs": [
    {
     "name": "stdout",
     "output_type": "stream",
     "text": [
      "Hello Sam!\n",
      "Hi SAM!\n"
     ]
    }
   ],
   "source": [
    "def say(greeting, name):\n",
    "    print('{} {}!'.format(greeting, name))\n",
    "\n",
    "say('Hello', 'Sam')\n",
    "say(name = 'SAM', greeting = 'Hi')"
   ]
  },
  {
   "cell_type": "markdown",
   "metadata": {},
   "source": [
    "#### Аргументы по умолчанию"
   ]
  },
  {
   "cell_type": "code",
   "execution_count": 79,
   "metadata": {},
   "outputs": [
    {
     "name": "stdout",
     "output_type": "stream",
     "text": [
      "Hello, it's me...\n",
      "Hello, Bob\n",
      "(\"it's me...\",)\n"
     ]
    }
   ],
   "source": [
    "def greet(name='it\\'s me...'):\n",
    "    print('Hello, {}'.format(name))\n",
    "\n",
    "greet()\n",
    "greet('Bob')\n",
    "print(greet.__defaults__)"
   ]
  },
  {
   "cell_type": "code",
   "execution_count": 83,
   "metadata": {},
   "outputs": [
    {
     "name": "stdout",
     "output_type": "stream",
     "text": [
      "[], 3\n"
     ]
    }
   ],
   "source": [
    "def funct(iterable=None):\n",
    "    if iterable is None:\n",
    "        iterable = []\n",
    "    return iterable\n",
    "\n",
    "def funct(iterable=None):\n",
    "    iterable = iterable or []\n",
    "    return iterable\n",
    "\n",
    "print(f'{funct()}, {funct(3)}')"
   ]
  },
  {
   "cell_type": "markdown",
   "metadata": {},
   "source": [
    "#### Распаковка"
   ]
  },
  {
   "cell_type": "code",
   "execution_count": 92,
   "metadata": {},
   "outputs": [
    {
     "name": "stdout",
     "output_type": "stream",
     "text": [
      "<class 'tuple'>\n",
      "1\n",
      "2\n",
      "3\n",
      "4\n",
      "5\n"
     ]
    }
   ],
   "source": [
    "def printer(*args):\n",
    "    print(type(args))\n",
    "    \n",
    "    for argument in args:\n",
    "        print(argument)\n",
    "\n",
    "printer(1, 2, 3, 4, 5)"
   ]
  },
  {
   "cell_type": "code",
   "execution_count": 94,
   "metadata": {},
   "outputs": [
    {
     "name": "stdout",
     "output_type": "stream",
     "text": [
      "<class 'tuple'>\n",
      "A\n",
      "B\n",
      "C\n",
      "<class 'tuple'>\n",
      "1\n",
      "2\n",
      "3\n"
     ]
    }
   ],
   "source": [
    "named_list = ['A', 'B', 'C']\n",
    "printer(*named_list)\n",
    "a = [1,2,3]\n",
    "printer(*a)"
   ]
  },
  {
   "cell_type": "code",
   "execution_count": 96,
   "metadata": {},
   "outputs": [
    {
     "name": "stdout",
     "output_type": "stream",
     "text": [
      "<class 'tuple'> (1, 2, 3)\n",
      "<class 'dict'> {'a': 22, 'b': 'XXII'}\n"
     ]
    }
   ],
   "source": [
    "def printer2(*args, **kwargs):\n",
    "    print(type(args), args)\n",
    "    print(type(kwargs), kwargs)\n",
    "\n",
    "printer2(1, 2, 3, a=22, b='XXII')\n",
    "#printer2(a=222, b='CCXXII', 4, 5, 6 )"
   ]
  },
  {
   "cell_type": "markdown",
   "metadata": {},
   "source": [
    "#### Генераторы ч.2"
   ]
  },
  {
   "cell_type": "code",
   "execution_count": 99,
   "metadata": {},
   "outputs": [
    {
     "name": "stdout",
     "output_type": "stream",
     "text": [
      "0\n",
      "1\n",
      "2\n",
      "<generator object <genexpr> at 0x1083dc4f8>\n"
     ]
    }
   ],
   "source": [
    "a = (item for item in range(3))\n",
    "\n",
    "for item in a:\n",
    "    print(item)\n",
    "\n",
    "print(a)"
   ]
  },
  {
   "cell_type": "code",
   "execution_count": 101,
   "metadata": {},
   "outputs": [
    {
     "name": "stdout",
     "output_type": "stream",
     "text": [
      "2\n",
      "22\n",
      "222\n"
     ]
    }
   ],
   "source": [
    "def simple_gen():\n",
    "    yield 2\n",
    "    yield 22\n",
    "    yield 222\n",
    "\n",
    "gen = simple_gen()\n",
    "print(next(gen))\n",
    "print(next(gen))\n",
    "print(next(gen))"
   ]
  },
  {
   "cell_type": "markdown",
   "metadata": {},
   "source": [
    "<br>\n",
    "<p style=\"text-align: center;\"><font size=\"7\"> * * * </font></p>\n",
    "<hr style=\"height:2px; background-color: rbg(0,0,0);\">"
   ]
  },
  {
   "cell_type": "markdown",
   "metadata": {},
   "source": [
    "# #3"
   ]
  },
  {
   "cell_type": "markdown",
   "metadata": {},
   "source": [
    "#### Moduls"
   ]
  },
  {
   "cell_type": "code",
   "execution_count": 105,
   "metadata": {},
   "outputs": [],
   "source": [
    "import sys"
   ]
  },
  {
   "cell_type": "code",
   "execution_count": 106,
   "metadata": {},
   "outputs": [
    {
     "data": {
      "text/plain": [
       "['',\n",
       " '/Users/xxii/STD/Python/JNotebook ',\n",
       " '/usr/local/bin/python3',\n",
       " '/Users/xxii/STD/Python/JNotebook ',\n",
       " '/usr/local/Cellar/python/3.7.0/Frameworks/Python.framework/Versions/3.7/lib/python37.zip',\n",
       " '/usr/local/Cellar/python/3.7.0/Frameworks/Python.framework/Versions/3.7/lib/python3.7',\n",
       " '/usr/local/Cellar/python/3.7.0/Frameworks/Python.framework/Versions/3.7/lib/python3.7/lib-dynload',\n",
       " '/usr/local/lib/python3.7/site-packages',\n",
       " '/usr/local/lib/python3.7/site-packages/IPython/extensions',\n",
       " '/Users/xxii/.ipython']"
      ]
     },
     "execution_count": 106,
     "metadata": {},
     "output_type": "execute_result"
    }
   ],
   "source": [
    "sys.path # pythonpath"
   ]
  },
  {
   "cell_type": "code",
   "execution_count": 109,
   "metadata": {},
   "outputs": [],
   "source": [
    "sys.path.append('/Users/username/Desktop/filename')"
   ]
  },
  {
   "cell_type": "markdown",
   "metadata": {},
   "source": [
    "#### Packets"
   ]
  },
  {
   "cell_type": "code",
   "execution_count": 112,
   "metadata": {},
   "outputs": [
    {
     "ename": "ModuleNotFoundError",
     "evalue": "No module named 'geometry'",
     "output_type": "error",
     "traceback": [
      "\u001b[0;31m---------------------------------------------------------------------------\u001b[0m",
      "\u001b[0;31mModuleNotFoundError\u001b[0m                       Traceback (most recent call last)",
      "\u001b[0;32m<ipython-input-112-0fbe6887f1d9>\u001b[0m in \u001b[0;36m<module>\u001b[0;34m\u001b[0m\n\u001b[0;32m----> 1\u001b[0;31m \u001b[0;32mimport\u001b[0m \u001b[0mgeometry\u001b[0m\u001b[0;34m\u001b[0m\u001b[0m\n\u001b[0m",
      "\u001b[0;31mModuleNotFoundError\u001b[0m: No module named 'geometry'"
     ]
    }
   ],
   "source": [
    "import geometry"
   ]
  },
  {
   "cell_type": "markdown",
   "metadata": {},
   "source": [
    "#### Class"
   ]
  },
  {
   "cell_type": "code",
   "execution_count": 114,
   "metadata": {},
   "outputs": [],
   "source": [
    "class TimeInterval:\n",
    "    pass"
   ]
  },
  {
   "cell_type": "code",
   "execution_count": 121,
   "metadata": {},
   "outputs": [],
   "source": [
    "interval = TimeInterval()"
   ]
  },
  {
   "cell_type": "code",
   "execution_count": 122,
   "metadata": {},
   "outputs": [
    {
     "data": {
      "text/plain": [
       "<__main__.TimeInterval at 0x1084230f0>"
      ]
     },
     "execution_count": 122,
     "metadata": {},
     "output_type": "execute_result"
    }
   ],
   "source": [
    "interval"
   ]
  },
  {
   "cell_type": "code",
   "execution_count": 123,
   "metadata": {},
   "outputs": [
    {
     "data": {
      "text/plain": [
       "__main__.TimeInterval"
      ]
     },
     "execution_count": 123,
     "metadata": {},
     "output_type": "execute_result"
    }
   ],
   "source": [
    "type(interval)"
   ]
  },
  {
   "cell_type": "code",
   "execution_count": 124,
   "metadata": {},
   "outputs": [
    {
     "data": {
      "text/plain": [
       "type"
      ]
     },
     "execution_count": 124,
     "metadata": {},
     "output_type": "execute_result"
    }
   ],
   "source": [
    "type(TimeInterval)"
   ]
  },
  {
   "cell_type": "code",
   "execution_count": 125,
   "metadata": {},
   "outputs": [
    {
     "data": {
      "text/plain": [
       "True"
      ]
     },
     "execution_count": 125,
     "metadata": {},
     "output_type": "execute_result"
    }
   ],
   "source": [
    "TimeInterval is type(interval)"
   ]
  },
  {
   "cell_type": "code",
   "execution_count": 127,
   "metadata": {},
   "outputs": [
    {
     "data": {
      "text/plain": [
       "True"
      ]
     },
     "execution_count": 127,
     "metadata": {},
     "output_type": "execute_result"
    }
   ],
   "source": [
    "isinstance(interval, TimeInterval)"
   ]
  },
  {
   "cell_type": "markdown",
   "metadata": {},
   "source": [
    "#### Конструирование"
   ]
  },
  {
   "cell_type": "code",
   "execution_count": 21,
   "metadata": {},
   "outputs": [],
   "source": [
    "class TimeInterval:\n",
    "    def __init__(self, begin, end):\n",
    "        self.begin = begin\n",
    "        self.end = end"
   ]
  },
  {
   "cell_type": "code",
   "execution_count": 20,
   "metadata": {},
   "outputs": [],
   "source": [
    "from datetime import datetime\n",
    "interval = TimeInterval(\n",
    "        datetime(year=2018, month=1, day=1),\n",
    "        datetime(year=2019, month=1, day=2),\n",
    ")"
   ]
  },
  {
   "cell_type": "markdown",
   "metadata": {},
   "source": [
    "#### Methods"
   ]
  },
  {
   "cell_type": "code",
   "execution_count": 25,
   "metadata": {},
   "outputs": [
    {
     "data": {
      "text/plain": [
       "90439897.587874"
      ]
     },
     "execution_count": 25,
     "metadata": {},
     "output_type": "execute_result"
    }
   ],
   "source": [
    "class TimeInterval:\n",
    "    def __init__(self, begin, end):\n",
    "        self.begin = begin\n",
    "        self.end = end\n",
    "    \n",
    "    def get_light(self):\n",
    "        return self.end - self.begin\n",
    "\n",
    "interval = TimeInterval(datetime(year=2016, month=1, day=1), datetime.now())\n",
    "interval.get_light().total_seconds()"
   ]
  },
  {
   "cell_type": "code",
   "execution_count": 27,
   "metadata": {},
   "outputs": [
    {
     "data": {
      "text/plain": [
       "<bound method TimeInterval.get_light of <__main__.TimeInterval object at 0x103c07780>>"
      ]
     },
     "execution_count": 27,
     "metadata": {},
     "output_type": "execute_result"
    }
   ],
   "source": [
    "interval.get_light"
   ]
  },
  {
   "cell_type": "markdown",
   "metadata": {},
   "source": [
    "#### Атрибуты класса"
   ]
  },
  {
   "cell_type": "code",
   "execution_count": 48,
   "metadata": {},
   "outputs": [
    {
     "data": {
      "text/plain": [
       "1542047283.366319"
      ]
     },
     "execution_count": 48,
     "metadata": {},
     "output_type": "execute_result"
    }
   ],
   "source": [
    "from datetime import datetime\n",
    "\n",
    "class TimeInterval:\n",
    "    DEFAULT_BEGIN = datetime(1970, 1, 1)\n",
    "    DEFAULT_END = datetime.now()\n",
    "    \n",
    "    def __init__(self, begin=None, end=None):\n",
    "        begin = begin or self.DEFAULT_BEGIN\n",
    "        end   = end or self.DEFAULT_END\n",
    "        \n",
    "        self._begin = begin\n",
    "        self._end = end\n",
    "        \n",
    "    def get_light(self):\n",
    "        return self._end - self._begin\n",
    "    \n",
    "interval = TimeInterval()\n",
    "interval.get_light().total_seconds()"
   ]
  },
  {
   "cell_type": "markdown",
   "metadata": {},
   "source": [
    "<br>\n",
    "<p style=\"text-align: center;\"><font size=\"7\"> * * * </font></p>\n",
    "<hr style=\"height:2px; background-color: rbg(0,0,0);\">"
   ]
  },
  {
   "cell_type": "markdown",
   "metadata": {},
   "source": [
    "# #4"
   ]
  },
  {
   "cell_type": "markdown",
   "metadata": {},
   "source": [
    "### Менеджер контекста"
   ]
  },
  {
   "cell_type": "code",
   "execution_count": 1,
   "metadata": {},
   "outputs": [
    {
     "name": "stdout",
     "output_type": "stream",
     "text": [
      "Time is: 2018-11-25 07:50:53.748164\n"
     ]
    }
   ],
   "source": [
    "import datetime\n",
    "\n",
    "with open('tmp.txt', 'w') as f:\n",
    "    f.write('Time is: ' + str(datetime.datetime.now()))\n",
    "\n",
    "f = open('tmp.txt', 'r')\n",
    "print(f.read())"
   ]
  },
  {
   "cell_type": "markdown",
   "metadata": {},
   "source": [
    "### Как реализовать свой"
   ]
  },
  {
   "cell_type": "code",
   "execution_count": 7,
   "metadata": {},
   "outputs": [
    {
     "name": "stdout",
     "output_type": "stream",
     "text": [
      "Time is: 2018-11-24 11:32:14.525779\n"
     ]
    },
    {
     "ename": "ValueError",
     "evalue": "",
     "output_type": "error",
     "traceback": [
      "\u001b[0;31m---------------------------------------------------------------------------\u001b[0m",
      "\u001b[0;31mValueError\u001b[0m                                Traceback (most recent call last)",
      "\u001b[0;32m<ipython-input-7-682841a1c46b>\u001b[0m in \u001b[0;36m<module>\u001b[0;34m\u001b[0m\n\u001b[1;32m     10\u001b[0m \u001b[0;32mwith\u001b[0m \u001b[0mFile\u001b[0m\u001b[0;34m(\u001b[0m\u001b[0;34m'tmp.txt'\u001b[0m\u001b[0;34m,\u001b[0m \u001b[0;34m'r'\u001b[0m\u001b[0;34m)\u001b[0m \u001b[0;32mas\u001b[0m \u001b[0mf\u001b[0m\u001b[0;34m:\u001b[0m\u001b[0;34m\u001b[0m\u001b[0m\n\u001b[1;32m     11\u001b[0m     \u001b[0mprint\u001b[0m\u001b[0;34m(\u001b[0m\u001b[0mf\u001b[0m\u001b[0;34m.\u001b[0m\u001b[0mread\u001b[0m\u001b[0;34m(\u001b[0m\u001b[0;34m)\u001b[0m\u001b[0;34m)\u001b[0m\u001b[0;34m\u001b[0m\u001b[0m\n\u001b[0;32m---> 12\u001b[0;31m     \u001b[0;32mraise\u001b[0m\u001b[0;34m(\u001b[0m\u001b[0mValueError\u001b[0m\u001b[0;34m)\u001b[0m\u001b[0;34m\u001b[0m\u001b[0m\n\u001b[0m",
      "\u001b[0;31mValueError\u001b[0m: "
     ]
    }
   ],
   "source": [
    "class File(object):\n",
    "    def __init__(self, file_name, method):\n",
    "        self.file_obj = open(file_name, method)\n",
    "    def __enter__(self):\n",
    "        return self.file_obj\n",
    "    def __exit__(self, type, value, traceback):\n",
    "        # Здесь может быть сложная логика обработки исключения\n",
    "        self.file_obj.close()\n",
    "\n",
    "with File('tmp.txt', 'r') as f:\n",
    "    print(f.read())\n",
    "    raise(ValueError)"
   ]
  },
  {
   "cell_type": "code",
   "execution_count": 8,
   "metadata": {},
   "outputs": [
    {
     "name": "stdout",
     "output_type": "stream",
     "text": [
      "True\n"
     ]
    }
   ],
   "source": [
    "print(f.closed)"
   ]
  },
  {
   "cell_type": "markdown",
   "metadata": {},
   "source": [
    "### Это не только файлы и соединения\n",
    "##### Транзакция"
   ]
  },
  {
   "cell_type": "code",
   "execution_count": 9,
   "metadata": {},
   "outputs": [
    {
     "ename": "ModuleNotFoundError",
     "evalue": "No module named 'django'",
     "output_type": "error",
     "traceback": [
      "\u001b[0;31m---------------------------------------------------------------------------\u001b[0m",
      "\u001b[0;31mModuleNotFoundError\u001b[0m                       Traceback (most recent call last)",
      "\u001b[0;32m<ipython-input-9-505019119ae1>\u001b[0m in \u001b[0;36m<module>\u001b[0;34m\u001b[0m\n\u001b[0;32m----> 1\u001b[0;31m \u001b[0;32mfrom\u001b[0m \u001b[0mdjango\u001b[0m\u001b[0;34m.\u001b[0m\u001b[0mdb\u001b[0m \u001b[0;32mimport\u001b[0m \u001b[0mtransaction\u001b[0m\u001b[0;34m\u001b[0m\u001b[0m\n\u001b[0m\u001b[1;32m      2\u001b[0m \u001b[0;34m\u001b[0m\u001b[0m\n\u001b[1;32m      3\u001b[0m \u001b[0;32mdef\u001b[0m \u001b[0mviewfunc\u001b[0m\u001b[0;34m(\u001b[0m\u001b[0mrequest\u001b[0m\u001b[0;34m)\u001b[0m\u001b[0;34m:\u001b[0m\u001b[0;34m\u001b[0m\u001b[0m\n\u001b[1;32m      4\u001b[0m     \u001b[0;31m# This code executes in autocommit mode (Django's default)\u001b[0m\u001b[0;34m\u001b[0m\u001b[0;34m\u001b[0m\u001b[0m\n\u001b[1;32m      5\u001b[0m     \u001b[0mdo_stuff\u001b[0m\u001b[0;34m(\u001b[0m\u001b[0;34m)\u001b[0m\u001b[0;34m\u001b[0m\u001b[0m\n",
      "\u001b[0;31mModuleNotFoundError\u001b[0m: No module named 'django'"
     ]
    }
   ],
   "source": [
    "from django.db import transaction\n",
    "\n",
    "def viewfunc(request):\n",
    "    # This code executes in autocommit mode (Django's default)\n",
    "    do_stuff()\n",
    "    \n",
    "    with transaction.atomic():\n",
    "        # This code executes inside transaction.\n",
    "        do_more_stuff()"
   ]
  },
  {
   "cell_type": "markdown",
   "metadata": {},
   "source": [
    "##### Блокировка"
   ]
  },
  {
   "cell_type": "code",
   "execution_count": 10,
   "metadata": {},
   "outputs": [],
   "source": [
    "from filelock import Timeout, FileLock\n",
    "\n",
    "lock = FileLock(\"hight_ground.txt.lock\")\n",
    "\n",
    "with lock:\n",
    "        open(\"hight_ground.txt.lock\", \"a\").write(\"You were the chosen one.\")"
   ]
  },
  {
   "cell_type": "markdown",
   "metadata": {},
   "source": [
    "##### contextlib"
   ]
  },
  {
   "cell_type": "code",
   "execution_count": 11,
   "metadata": {},
   "outputs": [],
   "source": [
    "from contextlib import contextmanager\n",
    "\n",
    "@contextmanager\n",
    "def closing(thing):\n",
    "    try:\n",
    "        yield thing\n",
    "    finally:\n",
    "        thing.close()"
   ]
  },
  {
   "cell_type": "code",
   "execution_count": 12,
   "metadata": {},
   "outputs": [
    {
     "name": "stdout",
     "output_type": "stream",
     "text": [
      "Time is: 2018-11-24 11:32:14.525779\n",
      "True\n"
     ]
    }
   ],
   "source": [
    "with closing(open('tmp.txt', 'r')) as f:\n",
    "    print(f.read())\n",
    "print(f.closed)"
   ]
  },
  {
   "cell_type": "code",
   "execution_count": 14,
   "metadata": {},
   "outputs": [
    {
     "name": "stdout",
     "output_type": "stream",
     "text": [
      "b'{\"ip\": \"31.172.136.101\"}\\n'\n"
     ]
    }
   ],
   "source": [
    "from contextlib import suppress\n",
    "from urllib.request import urlopen\n",
    "\n",
    "with closing(urlopen('http://ip.jsontest.com')) as page:\n",
    "    for line in page:\n",
    "        print(line)"
   ]
  },
  {
   "cell_type": "code",
   "execution_count": 15,
   "metadata": {},
   "outputs": [
    {
     "ename": "FileNotFoundError",
     "evalue": "[Errno 2] No such file or directory: 'somefile.tmp'",
     "output_type": "error",
     "traceback": [
      "\u001b[0;31m---------------------------------------------------------------------------\u001b[0m",
      "\u001b[0;31mFileNotFoundError\u001b[0m                         Traceback (most recent call last)",
      "\u001b[0;32m<ipython-input-15-23d9f6377f51>\u001b[0m in \u001b[0;36m<module>\u001b[0;34m\u001b[0m\n\u001b[1;32m      3\u001b[0m \u001b[0;34m\u001b[0m\u001b[0m\n\u001b[1;32m      4\u001b[0m \u001b[0;32mwith\u001b[0m \u001b[0msuppress\u001b[0m\u001b[0;34m(\u001b[0m\u001b[0mFileExistsError\u001b[0m\u001b[0;34m)\u001b[0m\u001b[0;34m:\u001b[0m\u001b[0;34m\u001b[0m\u001b[0m\n\u001b[0;32m----> 5\u001b[0;31m     \u001b[0mos\u001b[0m\u001b[0;34m.\u001b[0m\u001b[0mremove\u001b[0m\u001b[0;34m(\u001b[0m\u001b[0;34m'somefile.tmp'\u001b[0m\u001b[0;34m)\u001b[0m\u001b[0;34m\u001b[0m\u001b[0m\n\u001b[0m",
      "\u001b[0;31mFileNotFoundError\u001b[0m: [Errno 2] No such file or directory: 'somefile.tmp'"
     ]
    }
   ],
   "source": [
    "import os\n",
    "from contextlib import suppress\n",
    "\n",
    "with suppress(FileExistsError):\n",
    "    os.remove('somefile.tmp')"
   ]
  },
  {
   "cell_type": "markdown",
   "metadata": {},
   "source": [
    "### Работа с файлами\n",
    "#### Базовые операции"
   ]
  },
  {
   "cell_type": "code",
   "execution_count": 16,
   "metadata": {},
   "outputs": [
    {
     "name": "stdout",
     "output_type": "stream",
     "text": [
      "Time is: 2018-11-24 11:32:35.688362\n"
     ]
    }
   ],
   "source": [
    "import datetime\n",
    "\n",
    "with open('tmp.txt', 'w') as f:\n",
    "    f.write(\"Time is: \" + str(datetime.datetime.now()))\n",
    "\n",
    "with open('tmp.txt', 'r') as f:\n",
    "    print(f.read())"
   ]
  },
  {
   "cell_type": "code",
   "execution_count": 17,
   "metadata": {},
   "outputs": [
    {
     "name": "stdout",
     "output_type": "stream",
     "text": [
      "Time is: 2018-11-24 11:32:35.688362\n"
     ]
    }
   ],
   "source": [
    "with open('tmp.txt', 'r') as f:\n",
    "    print(f.read())"
   ]
  },
  {
   "cell_type": "code",
   "execution_count": 18,
   "metadata": {},
   "outputs": [
    {
     "name": "stdout",
     "output_type": "stream",
     "text": [
      "Write date: 2018-11-24 11:32:37.704534\n",
      "Write date: 2018-11-24 11:32:37.704567\n",
      "Write date: 2018-11-24 11:32:37.704579\n",
      "Write date: 2018-11-24 11:32:37.704588\n",
      "Write date: 2018-11-24 11:32:37.704597\n"
     ]
    }
   ],
   "source": [
    "# Write to end\n",
    "with open('tmp.txt', 'w') as f:\n",
    "    for _ in range(5):\n",
    "        f.write('Write date: ' + str(datetime.datetime.now()) + '\\n')\n",
    "\n",
    "with open('tmp.txt', 'r') as f:\n",
    "    for line in f:\n",
    "        print(line.strip())"
   ]
  },
  {
   "cell_type": "code",
   "execution_count": 19,
   "metadata": {},
   "outputs": [
    {
     "name": "stdout",
     "output_type": "stream",
     "text": [
      "Write date: 2018-11-24 11:32:37.704534\n",
      "Write date: 2018-11-24 11:32:37.704567\n",
      "Write date: 2018-11-24 11:32:37.704579\n",
      "Write date: 2018-11-24 11:32:37.704588\n",
      "Write date: 2018-11-24 11:32:37.704597\n",
      "\n"
     ]
    }
   ],
   "source": [
    "# Read all\n",
    "with open('tmp.txt', 'r') as f:\n",
    "    print(f.read())"
   ]
  },
  {
   "cell_type": "code",
   "execution_count": 20,
   "metadata": {},
   "outputs": [
    {
     "name": "stdout",
     "output_type": "stream",
     "text": [
      " 11:32:37.704534\n",
      "Write date: 2\n"
     ]
    }
   ],
   "source": [
    "with open('tmp.txt', 'r') as f:\n",
    "    f.seek(22) # Set position\n",
    "    print(f.read(30)) # Set bite to read"
   ]
  },
  {
   "cell_type": "markdown",
   "metadata": {},
   "source": [
    "### Кодировки\n",
    "ASCII, Windows-1251, UTF-8, UTF-16 "
   ]
  },
  {
   "cell_type": "code",
   "execution_count": 21,
   "metadata": {},
   "outputs": [],
   "source": [
    "# Set encoding\n",
    "with open('tmp.txt', 'w', encoding='cp1251') as f:\n",
    "    f.write('Текущее время = ' + str(datetime.datetime.now()))"
   ]
  },
  {
   "cell_type": "code",
   "execution_count": 22,
   "metadata": {},
   "outputs": [
    {
     "name": "stdout",
     "output_type": "stream",
     "text": [
      "Òåêóùåå âðåìÿ = 2018-11-24 11:32:42.289659\n"
     ]
    }
   ],
   "source": [
    "with open('tmp.txt', 'r', encoding='cp1252') as f:\n",
    "    print(f.read())"
   ]
  },
  {
   "cell_type": "code",
   "execution_count": 23,
   "metadata": {},
   "outputs": [
    {
     "name": "stdout",
     "output_type": "stream",
     "text": [
      "b'\\xd2\\xe5\\xea\\xf3\\xf9\\xe5\\xe5 \\xe2\\xf0\\xe5\\xec\\xff = 2018-11-24 11:32:42.289659'\n"
     ]
    },
    {
     "data": {
      "text/plain": [
       "bytes"
      ]
     },
     "execution_count": 23,
     "metadata": {},
     "output_type": "execute_result"
    }
   ],
   "source": [
    "# read like bite\n",
    "with open('tmp.txt', 'rb') as f:\n",
    "    cont = f.read()\n",
    "print(cont)\n",
    "type(cont)"
   ]
  },
  {
   "cell_type": "code",
   "execution_count": 24,
   "metadata": {},
   "outputs": [
    {
     "name": "stdout",
     "output_type": "stream",
     "text": [
      "Текущее время = 2018-11-24 11:32:42.289659\n"
     ]
    },
    {
     "data": {
      "text/plain": [
       "str"
      ]
     },
     "execution_count": 24,
     "metadata": {},
     "output_type": "execute_result"
    }
   ],
   "source": [
    "cont_string = cont.decode('cp1251')\n",
    "print(cont_string)\n",
    "type(cont_string)"
   ]
  },
  {
   "cell_type": "code",
   "execution_count": 25,
   "metadata": {},
   "outputs": [
    {
     "data": {
      "text/plain": [
       "b'\\xd0\\xa2\\xd0\\xb5\\xd0\\xba\\xd1\\x83\\xd1\\x89\\xd0\\xb5\\xd0\\xb5 \\xd0\\xb2\\xd1\\x80\\xd0\\xb5\\xd0\\xbc\\xd1\\x8f = 2018-11-24 11:32:42.289659'"
      ]
     },
     "execution_count": 25,
     "metadata": {},
     "output_type": "execute_result"
    }
   ],
   "source": [
    "bytes(cont_string, 'utf8')"
   ]
  },
  {
   "cell_type": "code",
   "execution_count": 26,
   "metadata": {},
   "outputs": [
    {
     "data": {
      "text/plain": [
       "'Текущее время = 2018-11-24 11:32:42.289659'"
      ]
     },
     "execution_count": 26,
     "metadata": {},
     "output_type": "execute_result"
    }
   ],
   "source": [
    "bytes(cont_string, 'utf8').decode()"
   ]
  },
  {
   "cell_type": "markdown",
   "metadata": {},
   "source": [
    "##### Материал по теме: \n",
    "- хабр \n",
    "    - Что нужно знать разработчику о кодировках и наборах символов для работы с текстом\n",
    "    - Й вам не и краткое! О важности нормализации Unicode"
   ]
  },
  {
   "cell_type": "markdown",
   "metadata": {},
   "source": [
    "### Bytes"
   ]
  },
  {
   "cell_type": "code",
   "execution_count": 29,
   "metadata": {},
   "outputs": [
    {
     "name": "stdout",
     "output_type": "stream",
     "text": [
      "b'\\xd0\\xa2\\xd0\\xb5\\xd0\\xba\\xd1\\x83\\xd1\\x89\\xd0\\xb5\\xd0\\xb5 \\xd0\\xb2\\xd1\\x80\\xd0\\xb5\\xd0\\xbc\\xd1\\x8f = 2018-11-24 11:32:42.289659'\n",
      "b'\\xa2\\xd0\\xb5\\xd0'\n",
      "[b'\\xd0\\xa2\\xd0\\xb5\\xd0\\xba\\xd1\\x83\\xd1\\x89\\xd0\\xb5\\xd0\\xb5', b'\\xd0\\xb2\\xd1\\x80\\xd0\\xb5\\xd0\\xbc\\xd1\\x8f', b'=', b'2018-11-24', b'11:32:42.289659']\n"
     ]
    }
   ],
   "source": [
    "# могут интерпетироваться как строки\n",
    "b = bytes(cont_string, 'utf8')\n",
    "print(b)\n",
    "print(b[1:5])\n",
    "print(b.split())"
   ]
  },
  {
   "cell_type": "code",
   "execution_count": 31,
   "metadata": {},
   "outputs": [
    {
     "name": "stdout",
     "output_type": "stream",
     "text": [
      "186\n",
      "[208, 162, 208, 181, 208, 186, 209, 131, 209, 137, 208, 181, 208, 181, 32, 208, 178, 209, 128, 208, 181, 208, 188, 209, 143, 32, 61, 32, 50, 48, 49, 56, 45, 49, 49, 45, 50, 52, 32, 49, 49, 58, 51, 50, 58, 52, 50, 46, 50, 56, 57, 54, 53, 57]\n"
     ]
    }
   ],
   "source": [
    "# и как последовательность чисел\n",
    "print(b[5])\n",
    "print(list(b))"
   ]
  },
  {
   "cell_type": "code",
   "execution_count": 32,
   "metadata": {},
   "outputs": [
    {
     "ename": "TypeError",
     "evalue": "'bytes' object does not support item assignment",
     "output_type": "error",
     "traceback": [
      "\u001b[0;31m---------------------------------------------------------------------------\u001b[0m",
      "\u001b[0;31mTypeError\u001b[0m                                 Traceback (most recent call last)",
      "\u001b[0;32m<ipython-input-32-a9063c589b4c>\u001b[0m in \u001b[0;36m<module>\u001b[0;34m\u001b[0m\n\u001b[1;32m      1\u001b[0m \u001b[0;31m# имутабельны как строки\u001b[0m\u001b[0;34m\u001b[0m\u001b[0;34m\u001b[0m\u001b[0m\n\u001b[0;32m----> 2\u001b[0;31m \u001b[0mb\u001b[0m\u001b[0;34m[\u001b[0m\u001b[0;36m4\u001b[0m\u001b[0;34m]\u001b[0m \u001b[0;34m=\u001b[0m \u001b[0;34m'5'\u001b[0m\u001b[0;34m\u001b[0m\u001b[0m\n\u001b[0m",
      "\u001b[0;31mTypeError\u001b[0m: 'bytes' object does not support item assignment"
     ]
    }
   ],
   "source": [
    "# имутабельны как строки\n",
    "b[4] = '5'"
   ]
  },
  {
   "cell_type": "code",
   "execution_count": 34,
   "metadata": {},
   "outputs": [
    {
     "name": "stdout",
     "output_type": "stream",
     "text": [
      "bytearray(b'\\xd0\\xa2\\xd0\\xb5\\xd0')\n"
     ]
    }
   ],
   "source": [
    "# но есть и мутабельная версия\n",
    "ba = bytearray(b)\n",
    "print(ba[:5])"
   ]
  },
  {
   "cell_type": "code",
   "execution_count": 36,
   "metadata": {},
   "outputs": [
    {
     "name": "stdout",
     "output_type": "stream",
     "text": [
      "Темущее время = 2018-11-24 11:32:42.289659\n"
     ]
    }
   ],
   "source": [
    "# хоть в этом и мало смысла\n",
    "ba[5] += 1\n",
    "print(ba.decode())"
   ]
  },
  {
   "cell_type": "code",
   "execution_count": 38,
   "metadata": {},
   "outputs": [
    {
     "name": "stdout",
     "output_type": "stream",
     "text": [
      "bytearray(b'\\x00\\x01\\x02\\x03\\x04\\x05\\x06\\x07\\x08\\t\\n\\x0b\\x0c\\r\\x0e\\x0f\\x10\\x11\\x12\\x13\\x14\\x15\\x16\\x17\\x18\\x19\\x1a\\x1b\\x1c\\x1d\\x1e\\x1f !\"#$%&\\'()*+,-./01')\n",
      "[0, 1, 2, 3, 4, 5, 6, 7, 8, 9, 10, 11, 12, 13, 14, 15, 16, 17, 18, 19, 20, 21, 22, 23, 24, 25, 26, 27, 28, 29, 30, 31, 32, 33, 34, 35, 36, 37, 38, 39, 40, 41, 42, 43, 44, 45, 46, 47, 48, 49]\n",
      "\u0000\u0001\u0002\u0003\u0004\u0005\u0006\u0007\b\t\n",
      "\u000b",
      "\f",
      "\r",
      "\u000e\u000f\u0010\u0011\u0012\u0013\u0014\u0015\u0016\u0017\u0018\u0019\u001a\u001b\u001c",
      "\u001d",
      "\u001e",
      "\u001f !\"#$%&'()*+,-./01\n"
     ]
    }
   ],
   "source": [
    "# для чего-то низкоуровнего\n",
    "ba = bytearray(range(50))\n",
    "print(ba)\n",
    "print(list(ba))\n",
    "print(ba.decode())"
   ]
  },
  {
   "cell_type": "markdown",
   "metadata": {},
   "source": [
    "### Бинарные форматы"
   ]
  },
  {
   "cell_type": "code",
   "execution_count": 43,
   "metadata": {},
   "outputs": [
    {
     "name": "stdout",
     "output_type": "stream",
     "text": [
      "Type: BM\n",
      "Size: 196662\n",
      "Reserved 1: 0\n",
      "Reserved 2: 0\n",
      "Offset: 54\n",
      "DIB Header Size: 40\n",
      "Width: 256\n",
      "Height: 256\n",
      "Colour Planes: 1\n",
      "Bits per Pixel: 24\n",
      "Compression Method: 0\n",
      "Raw Image Size: 196608\n",
      "Horizontal Resolution: 2835\n",
      "Vertical Resolution: 2835\n",
      "Number of Colours: 0\n",
      "Important Colours: 0\n"
     ]
    }
   ],
   "source": [
    "import struct\n",
    "\n",
    "bmp = open('img/256.bmp', 'rb')\n",
    "print('Type:', bmp.read(2).decode())\n",
    "print('Size: %s' % struct.unpack('I', bmp.read(4)))\n",
    "print('Reserved 1: %s' % struct.unpack('H', bmp.read(2)))\n",
    "print('Reserved 2: %s' % struct.unpack('H', bmp.read(2)))\n",
    "print('Offset: %s' % struct.unpack('I', bmp.read(4)))\n",
    "\n",
    "print('DIB Header Size: %s' % struct.unpack('I', bmp.read(4)))\n",
    "print('Width: %s' % struct.unpack('I', bmp.read(4)))\n",
    "print('Height: %s' % struct.unpack('I', bmp.read(4)))\n",
    "print('Colour Planes: %s' % struct.unpack('H', bmp.read(2)))\n",
    "print('Bits per Pixel: %s' % struct.unpack('H', bmp.read(2)))\n",
    "print('Compression Method: %s' % struct.unpack('I', bmp.read(4)))\n",
    "print('Raw Image Size: %s' % struct.unpack('I', bmp.read(4)))\n",
    "print('Horizontal Resolution: %s' % struct.unpack('I', bmp.read(4)))\n",
    "print('Vertical Resolution: %s' % struct.unpack('I', bmp.read(4)))\n",
    "print('Number of Colours: %s' % struct.unpack('I', bmp.read(4)))\n",
    "print('Important Colours: %s' % struct.unpack('I', bmp.read(4)))"
   ]
  },
  {
   "cell_type": "code",
   "execution_count": 45,
   "metadata": {},
   "outputs": [
    {
     "name": "stdout",
     "output_type": "stream",
     "text": [
      "Type: BM\n",
      "(196662, 0, 0, 54, 40)\n",
      "Size: 196662; Reversed 1: 0; Reversed 2: 0; Offset 54\n"
     ]
    }
   ],
   "source": [
    "import struct\n",
    "\n",
    "bmp = open('img/256.bmp', 'rb')\n",
    "print('Type:', bmp.read(2).decode())\n",
    "tpl = struct.unpack('IHHII', bmp.read(16))\n",
    "print(tpl)\n",
    "print('Size: {}; Reversed 1: {}; Reversed 2: {}; Offset {}'.format(*tpl))"
   ]
  },
  {
   "cell_type": "code",
   "execution_count": 51,
   "metadata": {},
   "outputs": [
    {
     "name": "stdout",
     "output_type": "stream",
     "text": [
      "b'\\x0c\\x00\\x00\\x00Hello World!'\n"
     ]
    }
   ],
   "source": [
    "import struct\n",
    "\n",
    "example = 'Hello World!'\n",
    "ln = len(example)\n",
    "enc = struct.pack( 'I{}s'.format(ln), ln, example.encode())\n",
    "print(enc)"
   ]
  },
  {
   "cell_type": "code",
   "execution_count": 49,
   "metadata": {},
   "outputs": [
    {
     "data": {
      "text/plain": [
       "'I12s'"
      ]
     },
     "execution_count": 49,
     "metadata": {},
     "output_type": "execute_result"
    }
   ],
   "source": [
    "'I{}s'.format(ln)"
   ]
  },
  {
   "cell_type": "code",
   "execution_count": 48,
   "metadata": {},
   "outputs": [
    {
     "name": "stdout",
     "output_type": "stream",
     "text": [
      "12\n"
     ]
    }
   ],
   "source": [
    "import struct\n",
    "\n",
    "example = 'Hello World!'\n",
    "ln = len(example)\n",
    "enc = struct.pack( '{}s'.format(ln), enc)[0]\n",
    "print(enc)"
   ]
  },
  {
   "cell_type": "markdown",
   "metadata": {},
   "source": [
    "### Pickle"
   ]
  },
  {
   "cell_type": "code",
   "execution_count": 53,
   "metadata": {},
   "outputs": [
    {
     "name": "stdout",
     "output_type": "stream",
     "text": [
      "b'\\x80\\x03]q\\x00(K\\x01}q\\x01(X\\x01\\x00\\x00\\x00aq\\x02K\\x01K\\x02K\\x03\\x87q\\x03X\\x01\\x00\\x00\\x00bq\\x04cbuiltins\\nset\\nq\\x05]q\\x06(K\\x01K\\x02K\\x03K\\x04K\\x05e\\x85q\\x07Rq\\x08uK\\x03c__main__\\nA\\nq\\t)\\x81q\\n}q\\x0b(h\\x02K\\x04h\\x04K\\x05ube.'\n"
     ]
    }
   ],
   "source": [
    "import pickle\n",
    "\n",
    "class A:\n",
    "    fld = 123\n",
    "    \n",
    "    def __init__(self, a, b):\n",
    "        self.a = a\n",
    "        self.b = b\n",
    "        \n",
    "    def __repr__(self):\n",
    "        return 'Alll({0.a}, {0.b})'.format(self)\n",
    "\n",
    "t1 = [1, {'a': (1, 2, 3), 'b': set([1, 2, 3, 4, 5, 4, 3, 2, 1])}, 3, A(4, 5)]\n",
    "s = pickle.dumps(t1)\n",
    "print(s)"
   ]
  },
  {
   "cell_type": "code",
   "execution_count": 56,
   "metadata": {},
   "outputs": [
    {
     "name": "stdout",
     "output_type": "stream",
     "text": [
      "[1, {'a': (1, 2, 3), 'b': {1, 2, 3, 4, 5}}, 3, Alll(4, 5)]\n"
     ]
    }
   ],
   "source": [
    "t2 = pickle.loads(s)\n",
    "print(t2)"
   ]
  },
  {
   "cell_type": "markdown",
   "metadata": {},
   "source": [
    "### File system"
   ]
  },
  {
   "cell_type": "code",
   "execution_count": 1,
   "metadata": {},
   "outputs": [
    {
     "data": {
      "text/plain": [
       "True"
      ]
     },
     "execution_count": 1,
     "metadata": {},
     "output_type": "execute_result"
    }
   ],
   "source": [
    "import os #  !!!!! READ ABOUT THIS !!!!!\n",
    "\n",
    "os.path.exists('/tmp')"
   ]
  },
  {
   "cell_type": "code",
   "execution_count": 2,
   "metadata": {},
   "outputs": [
    {
     "data": {
      "text/plain": [
       "['Python_Crash_Course.ipynb',\n",
       " 'Python_Interview_Questions.ipynb',\n",
       " 'Technopark.ipynb']"
      ]
     },
     "execution_count": 2,
     "metadata": {},
     "output_type": "execute_result"
    }
   ],
   "source": [
    "from glob import glob\n",
    "glob('*.ipynb')"
   ]
  },
  {
   "cell_type": "code",
   "execution_count": null,
   "metadata": {},
   "outputs": [],
   "source": [
    "for t in os.walk('../'):\n",
    "    print(t)"
   ]
  },
  {
   "cell_type": "code",
   "execution_count": 7,
   "metadata": {},
   "outputs": [
    {
     "name": "stdout",
     "output_type": "stream",
     "text": [
      "../JNotebook/Python_Crash_Course.ipynb\n",
      "../JNotebook/Python_Interview_Questions.ipynb\n",
      "../JNotebook/Technopark.ipynb\n",
      "../JNotebook/.ipynb_checkpoints/Python_Crash_Course-checkpoint.ipynb\n",
      "../JNotebook/.ipynb_checkpoints/Technopark-checkpoint.ipynb\n",
      "../JNotebook/.ipynb_checkpoints/Python_Interview_Questions-checkpoint.ipynb\n"
     ]
    }
   ],
   "source": [
    "for cur_dir, sub_dir, files in os.walk('../'):\n",
    "    for file in files:\n",
    "        if file.endswith('.ipynb'):\n",
    "            print(os.path.join(cur_dir, file))"
   ]
  },
  {
   "cell_type": "markdown",
   "metadata": {},
   "source": [
    "### Recuest"
   ]
  },
  {
   "cell_type": "code",
   "execution_count": 9,
   "metadata": {},
   "outputs": [
    {
     "name": "stdout",
     "output_type": "stream",
     "text": [
      "<Response [200]> True 200\n",
      "b'{\\n   \"time\": \"10:41:45 AM\",\\n   \"milliseconds_since_epoch\": 1543142505002,\\n   \"date\": \"11-25-2018\"\\n}\\n'\n",
      "{'time': '10:41:45 AM', 'milliseconds_since_epoch': 1543142505002, 'date': '11-25-2018'}\n"
     ]
    }
   ],
   "source": [
    "import requests\n",
    "import json\n",
    "\n",
    "resp = requests.get('http://date.jsontest.com/')\n",
    "print(resp, resp.ok, resp.status_code)\n",
    "print(resp.content)\n",
    "print(json.loads(resp.content))"
   ]
  },
  {
   "cell_type": "code",
   "execution_count": 12,
   "metadata": {},
   "outputs": [
    {
     "name": "stdout",
     "output_type": "stream",
     "text": [
      "{'time': '10:41:45 AM', 'milliseconds_since_epoch': 1543142505002, 'date': '11-25-2018'}\n",
      "<class 'dict'>\n"
     ]
    }
   ],
   "source": [
    "print(resp.json())\n",
    "print(type(resp.json()))"
   ]
  },
  {
   "cell_type": "markdown",
   "metadata": {},
   "source": [
    "### Многопоточность\n",
    "#### Потоки"
   ]
  },
  {
   "cell_type": "code",
   "execution_count": 17,
   "metadata": {},
   "outputs": [
    {
     "name": "stdout",
     "output_type": "stream",
     "text": [
      "5a105e8b9d40e1329780d62ea2265d8a\n",
      "CPU times: user 8.47 ms, sys: 3.76 ms, total: 12.2 ms\n",
      "Wall time: 246 ms\n"
     ]
    }
   ],
   "source": [
    "%%time\n",
    "import requests\n",
    "\n",
    "base_url = \"http://md5.jsontest.com/?text=\"\n",
    "\n",
    "def slow_md5(data):\n",
    "    response = requests.get(base_url + data)\n",
    "    if response.ok:\n",
    "        rez = response.json()\n",
    "        return rez.get('md5')\n",
    "print(slow_md5('test1'))"
   ]
  },
  {
   "cell_type": "code",
   "execution_count": 18,
   "metadata": {},
   "outputs": [],
   "source": [
    "test_strings = []\n",
    "\n",
    "for number in range(50):\n",
    "    test_strings.append(f'test_{number}')"
   ]
  },
  {
   "cell_type": "code",
   "execution_count": 19,
   "metadata": {},
   "outputs": [
    {
     "name": "stdout",
     "output_type": "stream",
     "text": [
      "CPU times: user 279 ms, sys: 59 ms, total: 338 ms\n",
      "Wall time: 11.5 s\n"
     ]
    }
   ],
   "source": [
    "%%time\n",
    "rez = {}\n",
    "for data in test_strings:\n",
    "    rez[data] = slow_md5(data)"
   ]
  },
  {
   "cell_type": "code",
   "execution_count": 23,
   "metadata": {},
   "outputs": [
    {
     "name": "stdout",
     "output_type": "stream",
     "text": [
      "Threads end: 53\n",
      "Threads end: 50\n",
      "Threads end: 51\n",
      "Threads end: 54\n",
      "Threads end: 52\n",
      "CPU times: user 262 ms, sys: 71.4 ms, total: 334 ms\n",
      "Wall time: 2.67 s\n"
     ]
    }
   ],
   "source": [
    "%%time\n",
    "\n",
    "import threading\n",
    "threads_num = 5\n",
    "rez = {}\n",
    "\n",
    "def thread_run(idx):\n",
    "    while idx < len(test_strings):\n",
    "        data = test_strings[idx]\n",
    "        rez[data] = slow_md5(data)\n",
    "        idx += threads_num\n",
    "    print(f'Threads end: {idx}')\n",
    "\n",
    "threads = []\n",
    "\n",
    "for i in range(threads_num):\n",
    "    t = threading.Thread(target=thread_run, args=(i,))\n",
    "    t.start()\n",
    "    threads.append(t)\n",
    "    \n",
    "for t in threads:\n",
    "    t.join()"
   ]
  },
  {
   "cell_type": "code",
   "execution_count": 22,
   "metadata": {},
   "outputs": [
    {
     "data": {
      "text/plain": [
       "'3.7.0 (default, Sep 18 2018, 18:47:22) \\n[Clang 9.1.0 (clang-902.0.39.2)]'"
      ]
     },
     "execution_count": 22,
     "metadata": {},
     "output_type": "execute_result"
    }
   ],
   "source": [
    "import sys\n",
    "sys.version"
   ]
  },
  {
   "cell_type": "markdown",
   "metadata": {},
   "source": [
    "# GIL!!!\n",
    "- Как устроен GIL в Python https://habr.com/post/84629/\n",
    "\n",
    "## Что делать\n",
    "- numpy\n",
    "- процессы\n",
    "- Py_BEGIN_ALLOW_THREADS в C extension"
   ]
  },
  {
   "cell_type": "markdown",
   "metadata": {},
   "source": [
    "### Процессы"
   ]
  },
  {
   "cell_type": "code",
   "execution_count": 25,
   "metadata": {},
   "outputs": [
    {
     "name": "stderr",
     "output_type": "stream",
     "text": [
      "Process ForkPoolWorker-9:\n",
      "Process ForkPoolWorker-12:\n",
      "Process ForkPoolWorker-11:\n",
      "Process ForkPoolWorker-10:\n",
      "Process ForkPoolWorker-7:\n",
      "Process ForkPoolWorker-8:\n",
      "Traceback (most recent call last):\n",
      "  File \"/usr/local/Cellar/python/3.7.0/Frameworks/Python.framework/Versions/3.7/lib/python3.7/multiprocessing/process.py\", line 297, in _bootstrap\n",
      "    self.run()\n",
      "  File \"/usr/local/Cellar/python/3.7.0/Frameworks/Python.framework/Versions/3.7/lib/python3.7/multiprocessing/process.py\", line 99, in run\n",
      "    self._target(*self._args, **self._kwargs)\n",
      "  File \"/usr/local/Cellar/python/3.7.0/Frameworks/Python.framework/Versions/3.7/lib/python3.7/multiprocessing/pool.py\", line 110, in worker\n",
      "    task = get()\n",
      "  File \"/usr/local/Cellar/python/3.7.0/Frameworks/Python.framework/Versions/3.7/lib/python3.7/multiprocessing/queues.py\", line 352, in get\n",
      "    res = self._reader.recv_bytes()\n",
      "  File \"/usr/local/Cellar/python/3.7.0/Frameworks/Python.framework/Versions/3.7/lib/python3.7/multiprocessing/connection.py\", line 216, in recv_bytes\n",
      "    buf = self._recv_bytes(maxlength)\n",
      "  File \"/usr/local/Cellar/python/3.7.0/Frameworks/Python.framework/Versions/3.7/lib/python3.7/multiprocessing/connection.py\", line 407, in _recv_bytes\n",
      "    buf = self._recv(4)\n",
      "  File \"/usr/local/Cellar/python/3.7.0/Frameworks/Python.framework/Versions/3.7/lib/python3.7/multiprocessing/connection.py\", line 379, in _recv\n",
      "    chunk = read(handle, remaining)\n",
      "Traceback (most recent call last):\n",
      "KeyboardInterrupt\n",
      "  File \"/usr/local/Cellar/python/3.7.0/Frameworks/Python.framework/Versions/3.7/lib/python3.7/multiprocessing/process.py\", line 297, in _bootstrap\n",
      "    self.run()\n",
      "  File \"/usr/local/Cellar/python/3.7.0/Frameworks/Python.framework/Versions/3.7/lib/python3.7/multiprocessing/process.py\", line 99, in run\n",
      "    self._target(*self._args, **self._kwargs)\n",
      "  File \"/usr/local/Cellar/python/3.7.0/Frameworks/Python.framework/Versions/3.7/lib/python3.7/multiprocessing/pool.py\", line 110, in worker\n",
      "    task = get()\n",
      "  File \"/usr/local/Cellar/python/3.7.0/Frameworks/Python.framework/Versions/3.7/lib/python3.7/multiprocessing/queues.py\", line 351, in get\n",
      "    with self._rlock:\n",
      "Traceback (most recent call last):\n",
      "  File \"/usr/local/Cellar/python/3.7.0/Frameworks/Python.framework/Versions/3.7/lib/python3.7/multiprocessing/synchronize.py\", line 96, in __enter__\n",
      "    return self._semlock.__enter__()\n",
      "  File \"/usr/local/Cellar/python/3.7.0/Frameworks/Python.framework/Versions/3.7/lib/python3.7/multiprocessing/process.py\", line 297, in _bootstrap\n",
      "    self.run()\n",
      "Traceback (most recent call last):\n",
      "KeyboardInterrupt\n",
      "  File \"/usr/local/Cellar/python/3.7.0/Frameworks/Python.framework/Versions/3.7/lib/python3.7/multiprocessing/process.py\", line 99, in run\n",
      "    self._target(*self._args, **self._kwargs)\n",
      "  File \"/usr/local/Cellar/python/3.7.0/Frameworks/Python.framework/Versions/3.7/lib/python3.7/multiprocessing/process.py\", line 297, in _bootstrap\n",
      "    self.run()\n",
      "  File \"/usr/local/Cellar/python/3.7.0/Frameworks/Python.framework/Versions/3.7/lib/python3.7/multiprocessing/pool.py\", line 110, in worker\n",
      "    task = get()\n",
      "  File \"/usr/local/Cellar/python/3.7.0/Frameworks/Python.framework/Versions/3.7/lib/python3.7/multiprocessing/process.py\", line 99, in run\n",
      "    self._target(*self._args, **self._kwargs)\n",
      "  File \"/usr/local/Cellar/python/3.7.0/Frameworks/Python.framework/Versions/3.7/lib/python3.7/multiprocessing/queues.py\", line 351, in get\n",
      "    with self._rlock:\n",
      "  File \"/usr/local/Cellar/python/3.7.0/Frameworks/Python.framework/Versions/3.7/lib/python3.7/multiprocessing/pool.py\", line 110, in worker\n",
      "    task = get()\n",
      "Traceback (most recent call last):\n",
      "Traceback (most recent call last):\n",
      "  File \"/usr/local/Cellar/python/3.7.0/Frameworks/Python.framework/Versions/3.7/lib/python3.7/multiprocessing/queues.py\", line 351, in get\n",
      "    with self._rlock:\n",
      "  File \"/usr/local/Cellar/python/3.7.0/Frameworks/Python.framework/Versions/3.7/lib/python3.7/multiprocessing/synchronize.py\", line 96, in __enter__\n",
      "    return self._semlock.__enter__()\n",
      "  File \"/usr/local/Cellar/python/3.7.0/Frameworks/Python.framework/Versions/3.7/lib/python3.7/multiprocessing/process.py\", line 297, in _bootstrap\n",
      "    self.run()\n",
      "  File \"/usr/local/Cellar/python/3.7.0/Frameworks/Python.framework/Versions/3.7/lib/python3.7/multiprocessing/process.py\", line 297, in _bootstrap\n",
      "    self.run()\n",
      "  File \"/usr/local/Cellar/python/3.7.0/Frameworks/Python.framework/Versions/3.7/lib/python3.7/multiprocessing/synchronize.py\", line 96, in __enter__\n",
      "    return self._semlock.__enter__()\n",
      "KeyboardInterrupt\n",
      "  File \"/usr/local/Cellar/python/3.7.0/Frameworks/Python.framework/Versions/3.7/lib/python3.7/multiprocessing/process.py\", line 99, in run\n",
      "    self._target(*self._args, **self._kwargs)\n",
      "  File \"/usr/local/Cellar/python/3.7.0/Frameworks/Python.framework/Versions/3.7/lib/python3.7/multiprocessing/process.py\", line 99, in run\n",
      "    self._target(*self._args, **self._kwargs)\n",
      "KeyboardInterrupt\n",
      "  File \"/usr/local/Cellar/python/3.7.0/Frameworks/Python.framework/Versions/3.7/lib/python3.7/multiprocessing/pool.py\", line 110, in worker\n",
      "    task = get()\n",
      "  File \"/usr/local/Cellar/python/3.7.0/Frameworks/Python.framework/Versions/3.7/lib/python3.7/multiprocessing/pool.py\", line 110, in worker\n",
      "    task = get()\n",
      "  File \"/usr/local/Cellar/python/3.7.0/Frameworks/Python.framework/Versions/3.7/lib/python3.7/multiprocessing/queues.py\", line 351, in get\n",
      "    with self._rlock:\n",
      "  File \"/usr/local/Cellar/python/3.7.0/Frameworks/Python.framework/Versions/3.7/lib/python3.7/multiprocessing/queues.py\", line 351, in get\n",
      "    with self._rlock:\n",
      "  File \"/usr/local/Cellar/python/3.7.0/Frameworks/Python.framework/Versions/3.7/lib/python3.7/multiprocessing/synchronize.py\", line 96, in __enter__\n",
      "    return self._semlock.__enter__()\n",
      "  File \"/usr/local/Cellar/python/3.7.0/Frameworks/Python.framework/Versions/3.7/lib/python3.7/multiprocessing/synchronize.py\", line 96, in __enter__\n",
      "    return self._semlock.__enter__()\n",
      "KeyboardInterrupt\n",
      "KeyboardInterrupt\n"
     ]
    }
   ],
   "source": [
    "import multiprocessing\n",
    "\n",
    "# Выделяем пул процессов\n",
    "p = multiprocessing.Pool(processes=6)\n",
    "\n",
    "# Запускаем параллельную работу\n",
    "#result = p.map(slow_fib, test_ns)"
   ]
  },
  {
   "cell_type": "code",
   "execution_count": 27,
   "metadata": {},
   "outputs": [
    {
     "name": "stdout",
     "output_type": "stream",
     "text": [
      "hello\n",
      "CPU times: user 5.76 ms, sys: 8.26 ms, total: 14 ms\n",
      "Wall time: 25 ms\n"
     ]
    }
   ],
   "source": [
    "%%time\n",
    "import multiprocessing as mp\n",
    "\n",
    "def foo(q):\n",
    "    q.put('hello')\n",
    "\n",
    "if __name__ == '__main__':\n",
    "    q = mp.Queue()\n",
    "    p = mp.Process(target=foo, args=(q,))\n",
    "    p.start()\n",
    "    print(q.get())\n",
    "    p.join()"
   ]
  },
  {
   "cell_type": "code",
   "execution_count": 28,
   "metadata": {},
   "outputs": [
    {
     "ename": "Empty",
     "evalue": "",
     "output_type": "error",
     "traceback": [
      "\u001b[0;31m---------------------------------------------------------------------------\u001b[0m",
      "\u001b[0;31mEmpty\u001b[0m                                     Traceback (most recent call last)",
      "\u001b[0;32m<ipython-input-28-40c5b5608359>\u001b[0m in \u001b[0;36m<module>\u001b[0;34m\u001b[0m\n\u001b[1;32m      1\u001b[0m \u001b[0;31m# Требует аккуратного проектирования (при отсутствии timeout все бы зависло)\u001b[0m\u001b[0;34m\u001b[0m\u001b[0;34m\u001b[0m\u001b[0m\n\u001b[0;32m----> 2\u001b[0;31m \u001b[0mq\u001b[0m\u001b[0;34m.\u001b[0m\u001b[0mget\u001b[0m\u001b[0;34m(\u001b[0m\u001b[0mtimeout\u001b[0m\u001b[0;34m=\u001b[0m\u001b[0;36m2\u001b[0m\u001b[0;34m)\u001b[0m\u001b[0;34m\u001b[0m\u001b[0m\n\u001b[0m",
      "\u001b[0;32m/usr/local/Cellar/python/3.7.0/Frameworks/Python.framework/Versions/3.7/lib/python3.7/multiprocessing/queues.py\u001b[0m in \u001b[0;36mget\u001b[0;34m(self, block, timeout)\u001b[0m\n\u001b[1;32m    103\u001b[0m                     \u001b[0mtimeout\u001b[0m \u001b[0;34m=\u001b[0m \u001b[0mdeadline\u001b[0m \u001b[0;34m-\u001b[0m \u001b[0mtime\u001b[0m\u001b[0;34m.\u001b[0m\u001b[0mtime\u001b[0m\u001b[0;34m(\u001b[0m\u001b[0;34m)\u001b[0m\u001b[0;34m\u001b[0m\u001b[0m\n\u001b[1;32m    104\u001b[0m                     \u001b[0;32mif\u001b[0m \u001b[0;32mnot\u001b[0m \u001b[0mself\u001b[0m\u001b[0;34m.\u001b[0m\u001b[0m_poll\u001b[0m\u001b[0;34m(\u001b[0m\u001b[0mtimeout\u001b[0m\u001b[0;34m)\u001b[0m\u001b[0;34m:\u001b[0m\u001b[0;34m\u001b[0m\u001b[0m\n\u001b[0;32m--> 105\u001b[0;31m                         \u001b[0;32mraise\u001b[0m \u001b[0mEmpty\u001b[0m\u001b[0;34m\u001b[0m\u001b[0m\n\u001b[0m\u001b[1;32m    106\u001b[0m                 \u001b[0;32melif\u001b[0m \u001b[0;32mnot\u001b[0m \u001b[0mself\u001b[0m\u001b[0;34m.\u001b[0m\u001b[0m_poll\u001b[0m\u001b[0;34m(\u001b[0m\u001b[0;34m)\u001b[0m\u001b[0;34m:\u001b[0m\u001b[0;34m\u001b[0m\u001b[0m\n\u001b[1;32m    107\u001b[0m                     \u001b[0;32mraise\u001b[0m \u001b[0mEmpty\u001b[0m\u001b[0;34m\u001b[0m\u001b[0m\n",
      "\u001b[0;31mEmpty\u001b[0m: "
     ]
    }
   ],
   "source": [
    "# Требует аккуратного проектирования (при отсутствии timeout все бы зависло)\n",
    "q.get(timeout=2)"
   ]
  },
  {
   "cell_type": "markdown",
   "metadata": {},
   "source": [
    "### subprocess module"
   ]
  },
  {
   "cell_type": "code",
   "execution_count": 30,
   "metadata": {},
   "outputs": [],
   "source": [
    "import subprocess\n",
    "pr = subprocess.run('date')"
   ]
  },
  {
   "cell_type": "code",
   "execution_count": 32,
   "metadata": {},
   "outputs": [],
   "source": [
    "pr.stdout"
   ]
  },
  {
   "cell_type": "code",
   "execution_count": 33,
   "metadata": {},
   "outputs": [
    {
     "data": {
      "text/plain": [
       "CompletedProcess(args='date', returncode=0, stdout=b'Sun Nov 25 13:40:10 EET 2018\\n')"
      ]
     },
     "execution_count": 33,
     "metadata": {},
     "output_type": "execute_result"
    }
   ],
   "source": [
    "pr = subprocess.run('date', stdout=subprocess.PIPE)\n",
    "pr"
   ]
  },
  {
   "cell_type": "code",
   "execution_count": 34,
   "metadata": {},
   "outputs": [
    {
     "name": "stdout",
     "output_type": "stream",
     "text": [
      "Sun Nov 25 13:40:10 EET 2018\n",
      "\n"
     ]
    }
   ],
   "source": [
    "print(pr.stdout.decode())"
   ]
  },
  {
   "cell_type": "code",
   "execution_count": 36,
   "metadata": {},
   "outputs": [
    {
     "data": {
      "text/plain": [
       "CompletedProcess(args=['ls', '-l'], returncode=0, stdout=b'total 280\\n-rw-r--r--  1 xxii  staff  43289 Nov 15 20:21 Python_Crash_Course.ipynb\\n-rw-r--r--  1 xxii  staff   5251 Nov 22 20:33 Python_Interview_Questions.ipynb\\n-rw-r--r--  1 xxii  staff  78247 Nov 25 13:41 Technopark.ipynb\\n-rwxr-xr-x  1 xxii  staff     24 Nov 24 11:32 hight_ground.txt.lock\\ndrwxr-xr-x  5 xxii  staff    160 Nov 24 15:14 img\\n-rw-r--r--@ 1 xxii  staff     35 Nov 25 07:50 tmp.txt\\n')"
      ]
     },
     "execution_count": 36,
     "metadata": {},
     "output_type": "execute_result"
    }
   ],
   "source": [
    "subprocess.run(['ls', '-l'], stdout=subprocess.PIPE)"
   ]
  },
  {
   "cell_type": "markdown",
   "metadata": {},
   "source": [
    "###### Более удобный способ > https://github.com/amoffat/sh"
   ]
  },
  {
   "cell_type": "markdown",
   "metadata": {},
   "source": [
    "## Работа с сетью \n",
    "- TCP/IP"
   ]
  },
  {
   "cell_type": "markdown",
   "metadata": {},
   "source": [
    "### Сокеты"
   ]
  },
  {
   "cell_type": "code",
   "execution_count": 42,
   "metadata": {},
   "outputs": [],
   "source": [
    "import socket\n",
    "\n",
    "def listen():\n",
    "    connection = socket.socket(socket.AF_INET, socket.SOCK_STREAM)\n",
    "    connection.setsockopt(socket.SOL_SOCKET, socket.SO_REUSEADDR, 1\n",
    "                         )\n",
    "    connection.bind(('0.0.0.0', 5555))\n",
    "    connection.listen(10)\n",
    "    while True:\n",
    "        current_connection, address = connection.accept()\n",
    "        while True:\n",
    "            data = current_connection.recv(2048)\n",
    "            \n",
    "            if data == b'quit\\n':\n",
    "                current_connection.shutdown(1)\n",
    "                current_connection.close()\n",
    "                break\n",
    "            if data == b'stop\\n':\n",
    "                current_connection.shutdown(1)\n",
    "                current_connection.close()\n",
    "                return\n",
    "            elif data:\n",
    "                current_connection.send(data.upper())\n",
    "#listen()"
   ]
  },
  {
   "cell_type": "markdown",
   "metadata": {},
   "source": [
    "### HTTP под капотом"
   ]
  },
  {
   "cell_type": "code",
   "execution_count": 47,
   "metadata": {},
   "outputs": [
    {
     "name": "stdout",
     "output_type": "stream",
     "text": [
      "HTTP/1.1 200 OK\r\n",
      "Access-Control-Allow-Origin: *\r\n",
      "Content-Type: application/json; charset=ISO-8859-1\r\n",
      "X-Cloud-Trace-Context: 21c5b3eee8af7a9477c98f5db3f06328\r\n",
      "Date: Sun, 25 Nov 2018 15:12:56 GMT\r\n",
      "Server: Google Frontend\r\n",
      "Content-Length: 73\r\n",
      "\r\n",
      "{\n",
      "   \"md5\": \"5a105e8b9d40e1329780d62ea2265d8a\",\n",
      "   \"original\": \"test1\"\n",
      "}\n",
      "\n"
     ]
    }
   ],
   "source": [
    "import socket\n",
    "from http.server import BaseHTTPRequestHandler, HTTPServer\n",
    "\n",
    "s = socket.socket(socket.AF_INET, socket.SOCK_STREAM)\n",
    "host = 'md5.jsontest.com'\n",
    "port = 80\n",
    "s.connect((host, port))\n",
    "s.send(b'GET /?text=test1 HTTP/1.1\\n')\n",
    "s.send(b'host: md5.jsontest.com\\n')\n",
    "s.send(b'\\n\\n')\n",
    "data = s.recv(2048)\n",
    "print(data.decode())\n",
    "s.close()"
   ]
  },
  {
   "cell_type": "markdown",
   "metadata": {},
   "source": [
    "### HTTP с фреймворком\n",
    "- Tornado"
   ]
  },
  {
   "cell_type": "markdown",
   "metadata": {},
   "source": [
    "<br>\n",
    "<p style=\"text-align: center;\"><font size=\"7\"> * * * </font></p>\n",
    "<hr style=\"height:2px; background-color: rbg(0,0,0);\">"
   ]
  },
  {
   "cell_type": "markdown",
   "metadata": {},
   "source": [
    "# #5\n",
    "## Python data model"
   ]
  },
  {
   "cell_type": "code",
   "execution_count": 10,
   "metadata": {},
   "outputs": [],
   "source": [
    "class ListView:\n",
    "    def __init__(self, lst, start, stop):\n",
    "        self._lst = lst\n",
    "        self._start = start\n",
    "        self._stop = stop"
   ]
  },
  {
   "cell_type": "code",
   "execution_count": 17,
   "metadata": {},
   "outputs": [
    {
     "data": {
      "text/plain": [
       "<__main__.ListView at 0x108b995c0>"
      ]
     },
     "execution_count": 17,
     "metadata": {},
     "output_type": "execute_result"
    }
   ],
   "source": [
    "ListView([1, 2, 3, 4], 1, 3)"
   ]
  },
  {
   "cell_type": "markdown",
   "metadata": {},
   "source": [
    "## \\_\\_len\\_\\_"
   ]
  },
  {
   "cell_type": "code",
   "execution_count": 20,
   "metadata": {},
   "outputs": [],
   "source": [
    "class ListView:\n",
    "    def __init__(self, lst, start, stop):\n",
    "        self._lst = lst\n",
    "        self._start = start\n",
    "        self._stop = stop\n",
    "    \n",
    "    def __len__(self):\n",
    "        return self._stop - self._start"
   ]
  },
  {
   "cell_type": "code",
   "execution_count": 16,
   "metadata": {},
   "outputs": [
    {
     "data": {
      "text/plain": [
       "2"
      ]
     },
     "execution_count": 16,
     "metadata": {},
     "output_type": "execute_result"
    }
   ],
   "source": [
    "len(ListView([1, 2, 3, 4], 1, 3))"
   ]
  },
  {
   "cell_type": "markdown",
   "metadata": {},
   "source": [
    "## \\_\\_iter\\_\\_"
   ]
  },
  {
   "cell_type": "code",
   "execution_count": 28,
   "metadata": {},
   "outputs": [
    {
     "ename": "TypeError",
     "evalue": "'ListView' object is not iterable",
     "output_type": "error",
     "traceback": [
      "\u001b[0;31m---------------------------------------------------------------------------\u001b[0m",
      "\u001b[0;31mTypeError\u001b[0m                                 Traceback (most recent call last)",
      "\u001b[0;32m<ipython-input-28-6665a5e11991>\u001b[0m in \u001b[0;36m<module>\u001b[0;34m\u001b[0m\n\u001b[0;32m----> 1\u001b[0;31m \u001b[0mlist\u001b[0m\u001b[0;34m(\u001b[0m\u001b[0mListView\u001b[0m\u001b[0;34m(\u001b[0m\u001b[0;34m[\u001b[0m\u001b[0;36m1\u001b[0m\u001b[0;34m,\u001b[0m \u001b[0;36m2\u001b[0m\u001b[0;34m,\u001b[0m \u001b[0;36m3\u001b[0m\u001b[0;34m,\u001b[0m \u001b[0;36m4\u001b[0m\u001b[0;34m]\u001b[0m\u001b[0;34m,\u001b[0m \u001b[0;36m1\u001b[0m\u001b[0;34m,\u001b[0m \u001b[0;36m3\u001b[0m\u001b[0;34m)\u001b[0m\u001b[0;34m)\u001b[0m\u001b[0;34m\u001b[0m\u001b[0m\n\u001b[0m",
      "\u001b[0;31mTypeError\u001b[0m: 'ListView' object is not iterable"
     ]
    }
   ],
   "source": [
    "list(ListView([1, 2, 3, 4], 1, 3))"
   ]
  },
  {
   "cell_type": "code",
   "execution_count": 29,
   "metadata": {},
   "outputs": [],
   "source": [
    "class ListView:\n",
    "    def __init__(self, lst, start, stop):\n",
    "        self._lst = lst\n",
    "        self._start = start\n",
    "        self._stop = stop\n",
    "    \n",
    "    def __len__(self):\n",
    "        return self._stop - self._start\n",
    "    \n",
    "    def __iter__(self):\n",
    "        for i in range(self._start, self._stop):\n",
    "            yield self._lst[i]"
   ]
  },
  {
   "cell_type": "code",
   "execution_count": 41,
   "metadata": {},
   "outputs": [
    {
     "data": {
      "text/plain": [
       "[1, 2]"
      ]
     },
     "execution_count": 41,
     "metadata": {},
     "output_type": "execute_result"
    }
   ],
   "source": [
    "list(ListView([0, 1, 2, 3, 4], 1, 3))"
   ]
  },
  {
   "cell_type": "code",
   "execution_count": 46,
   "metadata": {},
   "outputs": [],
   "source": [
    "itr = iter(ListView([1, 2, 3, 4], 1, 3))"
   ]
  },
  {
   "cell_type": "code",
   "execution_count": 47,
   "metadata": {},
   "outputs": [
    {
     "data": {
      "text/plain": [
       "2"
      ]
     },
     "execution_count": 47,
     "metadata": {},
     "output_type": "execute_result"
    }
   ],
   "source": [
    "next(itr)"
   ]
  },
  {
   "cell_type": "markdown",
   "metadata": {},
   "source": [
    "## \\_\\_getitem\\_\\_"
   ]
  },
  {
   "cell_type": "code",
   "execution_count": 50,
   "metadata": {},
   "outputs": [],
   "source": [
    "class ListView:\n",
    "    def __init__(self, lst, start, stop):\n",
    "        self._lst = lst\n",
    "        self._start = start\n",
    "        self._stop = stop\n",
    "    \n",
    "    def __len__(self):\n",
    "        return self._stop - self._start\n",
    "    \n",
    "    def __getitem__(self, idx):\n",
    "        if self._start + idx < self._stop:\n",
    "            return self._lst[self._start + idx]\n",
    "        else:\n",
    "            raise IndexError(idx)"
   ]
  },
  {
   "cell_type": "code",
   "execution_count": 53,
   "metadata": {},
   "outputs": [
    {
     "data": {
      "text/plain": [
       "2"
      ]
     },
     "execution_count": 53,
     "metadata": {},
     "output_type": "execute_result"
    }
   ],
   "source": [
    "ListView([0, 1, 2, 3, 4], 1, 3)[1]"
   ]
  },
  {
   "cell_type": "code",
   "execution_count": 57,
   "metadata": {},
   "outputs": [
    {
     "data": {
      "text/plain": [
       "2"
      ]
     },
     "execution_count": 57,
     "metadata": {},
     "output_type": "execute_result"
    }
   ],
   "source": [
    "ListView([0, 1, 2, 3, 4], 1, 3)[1]"
   ]
  },
  {
   "cell_type": "code",
   "execution_count": 52,
   "metadata": {},
   "outputs": [
    {
     "data": {
      "text/plain": [
       "[1, 2]"
      ]
     },
     "execution_count": 52,
     "metadata": {},
     "output_type": "execute_result"
    }
   ],
   "source": [
    "list(ListView([0, 1, 2, 3, 4], 1, 3))"
   ]
  },
  {
   "cell_type": "markdown",
   "metadata": {},
   "source": [
    "## \\_\\_setitem\\_\\_"
   ]
  },
  {
   "cell_type": "code",
   "execution_count": 58,
   "metadata": {},
   "outputs": [],
   "source": [
    "class ListView:\n",
    "    def __init__(self, lst, start, stop):\n",
    "        self._lst = lst\n",
    "        self._start = start\n",
    "        self._stop = stop\n",
    "    \n",
    "    def __len__(self):\n",
    "        return self._stop - self._start\n",
    "    \n",
    "    def __getitem__(self, idx):\n",
    "        if self._start + idx < self._stop:\n",
    "            return self._lst[self._start + idx]\n",
    "        else:\n",
    "            raise IndexError(idx)\n",
    "\n",
    "    def __setitem__(self, idx, value):\n",
    "        if self._start + idx < self._stop:\n",
    "            self._lst[self._start + idx] = value\n",
    "        else:\n",
    "            raise IndexError(idx)"
   ]
  },
  {
   "cell_type": "code",
   "execution_count": 61,
   "metadata": {},
   "outputs": [],
   "source": [
    "lst = [0, 1, 2, 3, 4]\n",
    "view = ListView(lst, 1, 3)"
   ]
  },
  {
   "cell_type": "code",
   "execution_count": 62,
   "metadata": {},
   "outputs": [],
   "source": [
    "view[1] = 7"
   ]
  },
  {
   "cell_type": "code",
   "execution_count": 63,
   "metadata": {},
   "outputs": [
    {
     "data": {
      "text/plain": [
       "[0, 1, 7, 3, 4]"
      ]
     },
     "execution_count": 63,
     "metadata": {},
     "output_type": "execute_result"
    }
   ],
   "source": [
    "list(lst)"
   ]
  },
  {
   "cell_type": "code",
   "execution_count": 65,
   "metadata": {},
   "outputs": [
    {
     "data": {
      "text/plain": [
       "[0, 1, 7, 3, 4]"
      ]
     },
     "execution_count": 65,
     "metadata": {},
     "output_type": "execute_result"
    }
   ],
   "source": [
    "lst"
   ]
  },
  {
   "cell_type": "markdown",
   "metadata": {},
   "source": [
    "## \\_\\_add\\_\\_\n",
    "## \\_\\_radd\\_\\_"
   ]
  }
 ],
 "metadata": {
  "kernelspec": {
   "display_name": "Python 3",
   "language": "python",
   "name": "python3"
  },
  "language_info": {
   "codemirror_mode": {
    "name": "ipython",
    "version": 3
   },
   "file_extension": ".py",
   "mimetype": "text/x-python",
   "name": "python",
   "nbconvert_exporter": "python",
   "pygments_lexer": "ipython3",
   "version": "3.7.0"
  }
 },
 "nbformat": 4,
 "nbformat_minor": 2
}
