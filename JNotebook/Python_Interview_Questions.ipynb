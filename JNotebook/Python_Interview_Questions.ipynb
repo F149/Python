{
 "cells": [
  {
   "cell_type": "markdown",
   "metadata": {},
   "source": [
    "<p style=\"text-align: center;\"><font size=\"6\"> Python Interview Questions</font></p>"
   ]
  },
  {
   "cell_type": "markdown",
   "metadata": {},
   "source": [
    "<hr style=\"height:2px; background-color: rbg(0,0,0);\">\n",
    "<p style=\"text-align: center;\"><font size=\"7\"> * * * </font></p>"
   ]
  },
  {
   "cell_type": "markdown",
   "metadata": {},
   "source": [
    "### 1. What is Python?\n",
    "- Python это язык программирования с:\n",
    "    - динамической типизацией(типы данных определяются по время выполнения программы. Обратная динамической - статическая типизация, когда компилятору точно известно где и какие типы данных используются)\n",
    "    - сильной (типизацией) - не позволяет автоматически производить вычисления с данными разных типов (языки со слабой типизацией выполняют обработку данных различный типов автоматически).\n",
    "    - неявной (типизацией) - нет необходимости указывать тип переменных/функций/данных явно.\n",
    "    - функции являются объектами первого класса, их можно использовать в качестве переменных, передавать и возвращать из друхих методов."
   ]
  },
  {
   "cell_type": "markdown",
   "metadata": {},
   "source": [
    "### 2. PEP8\n",
    "- PEP8 это стандарт написания кода на языке Python. "
   ]
  },
  {
   "cell_type": "markdown",
   "metadata": {},
   "source": [
    "### 3. Какие данные есть в Python?\n",
    "- иммутабельные:\n",
    "    - Numbers\n",
    "    - Strings\n",
    "    - Tuples\n",
    "- мутабельные:\n",
    "    - List\n",
    "    - Dictionaries\n",
    "    - Sets"
   ]
  },
  {
   "cell_type": "markdown",
   "metadata": {},
   "source": [
    "### 4. Различия List [ ] и Tuple ( )\n",
    "- Основное принципиальное различие Лист мутабелен и более медленный, Тапл неизменяем и более быстрый."
   ]
  },
  {
   "cell_type": "markdown",
   "metadata": {},
   "source": [
    "### 5. Различия между deep copy и shallow copy?\n",
    "- shallow copy это копирование ссылки на объект\n",
    "- deep copy это копирование самого объекта "
   ]
  },
  {
   "cell_type": "markdown",
   "metadata": {},
   "source": [
    "### 6. Управление памятью Python\n",
    "- Python использует private heaps для управления памятью. Heap содержит все используемые Python объекты и структуры данных. Эта область доступна только компилятору, пользователь не может использовать ее. Также в Python есть сборщик мусора, который удаляет данные из памяти когда счетчик ссылок на объект равен 0."
   ]
  },
  {
   "cell_type": "markdown",
   "metadata": {},
   "source": [
    "### 7. Основные различия между def и lambda\n",
    "- def может содержать несколько выражений, в то время как лямбда одно.\n",
    "- def создает функцию и присваивает ей имя, ламбда это функция-объект и возвращает функцию.\n",
    "- def может возвращать (оператор return), лямбда нет.\n",
    "- lambda может использоваться вутри словарей и списков."
   ]
  },
  {
   "cell_type": "markdown",
   "metadata": {},
   "source": [
    "### 8. Назовите встроенную функцию для итерации по числам."
   ]
  },
  {
   "cell_type": "code",
   "execution_count": 4,
   "metadata": {},
   "outputs": [
    {
     "name": "stdout",
     "output_type": "stream",
     "text": [
      "13579"
     ]
    }
   ],
   "source": [
    "for x in range(1, 10, 2):\n",
    "    print(x, end=\"\")"
   ]
  },
  {
   "cell_type": "code",
   "execution_count": null,
   "metadata": {},
   "outputs": [],
   "source": []
  }
 ],
 "metadata": {
  "kernelspec": {
   "display_name": "Python 3",
   "language": "python",
   "name": "python3"
  },
  "language_info": {
   "codemirror_mode": {
    "name": "ipython",
    "version": 3
   },
   "file_extension": ".py",
   "mimetype": "text/x-python",
   "name": "python",
   "nbconvert_exporter": "python",
   "pygments_lexer": "ipython3",
   "version": "3.7.0"
  }
 },
 "nbformat": 4,
 "nbformat_minor": 2
}
