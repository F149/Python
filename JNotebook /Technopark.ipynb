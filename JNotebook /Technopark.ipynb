{
 "cells": [
  {
   "cell_type": "markdown",
   "metadata": {},
   "source": [
    "![title](img/002.png)"
   ]
  },
  {
   "cell_type": "code",
   "execution_count": 1,
   "metadata": {},
   "outputs": [
    {
     "name": "stdout",
     "output_type": "stream",
     "text": [
      "Hi all! o/\n"
     ]
    }
   ],
   "source": [
    "print(\"Hi all! o/\")"
   ]
  },
  {
   "cell_type": "code",
   "execution_count": 222,
   "metadata": {},
   "outputs": [
    {
     "name": "stdout",
     "output_type": "stream",
     "text": [
      "(2, 2)\n",
      "2 22\n"
     ]
    }
   ],
   "source": [
    "a = divmod(22, 10)\n",
    "print(a)\n",
    "b, c = divmod(222, 100)\n",
    "print(b, c)"
   ]
  },
  {
   "cell_type": "code",
   "execution_count": 5,
   "metadata": {},
   "outputs": [
    {
     "name": "stdout",
     "output_type": "stream",
     "text": [
      "22000000\n"
     ]
    }
   ],
   "source": [
    "big_amount = 22_000_000\n",
    "print(big_amount)"
   ]
  },
  {
   "cell_type": "code",
   "execution_count": 10,
   "metadata": {},
   "outputs": [
    {
     "name": "stdout",
     "output_type": "stream",
     "text": [
      "77689142522643953432857984943405160607459375066866993426360941500585379496167494554414812738317551290610125506942363201912811852077589887445080329133236084882706758976853160280299220802735308699614184679198052359338219884186570298955013643597740982700186080103802243114935671443344639972611689529406831778230237557486483970597676232979670032540178649466573489259451610193432410434961292070905832062516015156301535032295736862042589225660949159580073017293290337975775881136212936121912254638873440212608666735186892816384\n"
     ]
    }
   ],
   "source": [
    "big_number = 222 ** 222\n",
    "print(big_number)"
   ]
  },
  {
   "cell_type": "code",
   "execution_count": 11,
   "metadata": {},
   "outputs": [
    {
     "data": {
      "text/plain": [
       "int"
      ]
     },
     "execution_count": 11,
     "metadata": {},
     "output_type": "execute_result"
    }
   ],
   "source": [
    "type(big_number)"
   ]
  },
  {
   "cell_type": "code",
   "execution_count": 99,
   "metadata": {},
   "outputs": [
    {
     "name": "stdout",
     "output_type": "stream",
     "text": [
      "0.30000000000000004\n",
      "0.22\n",
      "0.3\n"
     ]
    }
   ],
   "source": [
    "from decimal import Decimal\n",
    "print(0.1 + 0.2)\n",
    "print(.1 + .12)\n",
    "print(Decimal('0.1') + Decimal('0.2'))"
   ]
  },
  {
   "cell_type": "code",
   "execution_count": 23,
   "metadata": {},
   "outputs": [
    {
     "ename": "ValueError",
     "evalue": "invalid literal for int() with base 10: '12dwfwef'",
     "output_type": "error",
     "traceback": [
      "\u001b[0;31m---------------------------------------------------------------------------\u001b[0m",
      "\u001b[0;31mValueError\u001b[0m                                Traceback (most recent call last)",
      "\u001b[0;32m<ipython-input-23-8c460f956c53>\u001b[0m in \u001b[0;36m<module>\u001b[0;34m\u001b[0m\n\u001b[0;32m----> 1\u001b[0;31m \u001b[0mprint\u001b[0m\u001b[0;34m(\u001b[0m\u001b[0mint\u001b[0m\u001b[0;34m(\u001b[0m\u001b[0;34m'12dwfwef'\u001b[0m\u001b[0;34m)\u001b[0m\u001b[0;34m)\u001b[0m\u001b[0;34m\u001b[0m\u001b[0m\n\u001b[0m",
      "\u001b[0;31mValueError\u001b[0m: invalid literal for int() with base 10: '12dwfwef'"
     ]
    }
   ],
   "source": [
    "print(int('12dwfwef'))"
   ]
  },
  {
   "cell_type": "code",
   "execution_count": 35,
   "metadata": {},
   "outputs": [
    {
     "name": "stdout",
     "output_type": "stream",
     "text": [
      "True False True True XXXXXX XXX\n"
     ]
    }
   ],
   "source": [
    "print('XXX' < 'XXXX',\n",
    "      'XXX' > 'XXXX',\n",
    "      'XXX' == 'XXX',\n",
    "      'XXX' is 'XXX',\n",
    "      'XXX' + 'XXX',\n",
    "      'X' * 3,\n",
    "     )\n"
   ]
  },
  {
   "cell_type": "code",
   "execution_count": 56,
   "metadata": {},
   "outputs": [
    {
     "name": "stdout",
     "output_type": "stream",
     "text": [
      "4507786184\n",
      "4514204336\n"
     ]
    }
   ],
   "source": [
    "s1 = '22'\n",
    "print(id(s1))\n",
    "\n",
    "s1 = s1 + '2'\n",
    "s1 += '2'\n",
    "print(id(s1))"
   ]
  },
  {
   "cell_type": "code",
   "execution_count": 55,
   "metadata": {},
   "outputs": [
    {
     "name": "stdout",
     "output_type": "stream",
     "text": [
      "4514656952\n"
     ]
    }
   ],
   "source": [
    "string = string + '22'\n",
    "string += '22'\n",
    "print(id(\"First str_id: \"+ string))"
   ]
  },
  {
   "cell_type": "code",
   "execution_count": 58,
   "metadata": {},
   "outputs": [
    {
     "name": "stdout",
     "output_type": "stream",
     "text": [
      "2 2 2\n"
     ]
    }
   ],
   "source": [
    "print(s1[0], s1[1], s1[3])"
   ]
  },
  {
   "cell_type": "code",
   "execution_count": 84,
   "metadata": {},
   "outputs": [
    {
     "name": "stdout",
     "output_type": "stream",
     "text": [
      "LEN=9 123456789 987654321 98 98 98\n"
     ]
    }
   ],
   "source": [
    "string = '123456789'\n",
    "print(\"LEN=\" + str(len(string)),\n",
    "      string,\n",
    "      string[::-1],\n",
    "      string[-1] + string[-2],\n",
    "      string[-1] + string[7],\n",
    "      string[8] + string[7],\n",
    "     )"
   ]
  },
  {
   "cell_type": "code",
   "execution_count": 130,
   "metadata": {},
   "outputs": [
    {
     "name": "stdout",
     "output_type": "stream",
     "text": [
      "['CC', 'XX', 'II', '222']\n",
      "CC\n",
      "XX\n",
      "II\n",
      "222\n"
     ]
    }
   ],
   "source": [
    "tag_list = 'CC, XX, II, 222'\n",
    "splitted = tag_list.split(', ')\n",
    "print(splitted)\n",
    "print(\"\\n\".join(splitted))"
   ]
  },
  {
   "cell_type": "markdown",
   "metadata": {},
   "source": [
    "### Placeholder"
   ]
  },
  {
   "cell_type": "code",
   "execution_count": 123,
   "metadata": {},
   "outputs": [
    {
     "name": "stdout",
     "output_type": "stream",
     "text": [
      "Number is: CCXXII - NEW FORMAT\n",
      "\n",
      "Number is: CCXXII - NEWEST\n",
      "\n",
      "Number is: CCXXII - OLD FORMAT\n"
     ]
    }
   ],
   "source": [
    "word = 'CCXXII'\n",
    "print(\"Number is: {}{}\".format(word, ' - NEW FORMAT'))\n",
    "\n",
    "form2 = 'NEWEST'\n",
    "print(f'\\nNumber is: {word} - {form2}')\n",
    "\n",
    "form = 'OLD FORMAT'\n",
    "print('\\nNumber is: %s - %s' % (word, form))"
   ]
  },
  {
   "cell_type": "code",
   "execution_count": 146,
   "metadata": {},
   "outputs": [
    {
     "name": "stdout",
     "output_type": "stream",
     "text": [
      "\t --XXX----- \n",
      "\n",
      "--XXX-----\n",
      "XXX\n"
     ]
    }
   ],
   "source": [
    "a = '\\t --XXX----- \\n'\n",
    "print(a)\n",
    "print(a.strip())\n",
    "print(a.strip().strip('-'))"
   ]
  },
  {
   "cell_type": "code",
   "execution_count": 142,
   "metadata": {},
   "outputs": [
    {
     "name": "stdout",
     "output_type": "stream",
     "text": [
      " 231 12342213 2365757484 4664545\n",
      "x231x12342213x2365757484x4664545\n"
     ]
    }
   ],
   "source": [
    "input_str = ' 231 12342213 2365757484 4664545'\n",
    "print(input_str)\n",
    "mod_str = input_str.replace(' ', 'x')\n",
    "print(mod_str)"
   ]
  },
  {
   "cell_type": "code",
   "execution_count": 148,
   "metadata": {},
   "outputs": [
    {
     "data": {
      "text/plain": [
       "True"
      ]
     },
     "execution_count": 148,
     "metadata": {},
     "output_type": "execute_result"
    }
   ],
   "source": [
    "'th' in 'Python'"
   ]
  },
  {
   "cell_type": "code",
   "execution_count": 152,
   "metadata": {},
   "outputs": [
    {
     "name": "stdout",
     "output_type": "stream",
     "text": [
      "1\n",
      "5\n"
     ]
    }
   ],
   "source": [
    "print(0 or 1)\n",
    "print(5 or 1)"
   ]
  },
  {
   "cell_type": "code",
   "execution_count": 223,
   "metadata": {},
   "outputs": [
    {
     "name": "stdout",
     "output_type": "stream",
     "text": [
      ">>> 18 - WARNING!!!\n"
     ]
    }
   ],
   "source": [
    "import random\n",
    "number = random.randint(0, 22)\n",
    "result = 'OK' if number <= 15 else \"WARNING!!!\"\n",
    "print(f'>>> {number} - {result}')"
   ]
  },
  {
   "cell_type": "code",
   "execution_count": 264,
   "metadata": {},
   "outputs": [
    {
     "name": "stdout",
     "output_type": "stream",
     "text": [
      "p, y, t, h, o, n, \n"
     ]
    }
   ],
   "source": [
    "for letter in 'python':\n",
    "    print(letter, end = ', ')\n",
    "print()"
   ]
  },
  {
   "cell_type": "code",
   "execution_count": 281,
   "metadata": {},
   "outputs": [
    {
     "name": "stdout",
     "output_type": "stream",
     "text": [
      "0[p] 1[y] 2[t] 3[h] 4[o] 5[n] \n",
      "0[P] 1[Y] 2[T] 3[H] 4[O] 5[N] "
     ]
    }
   ],
   "source": [
    "word = 'python'\n",
    "\n",
    "for letter in range(len(word)):\n",
    "    print(f'{letter}[{word[letter]}]', end = \" \")\n",
    "\n",
    "print()\n",
    "\n",
    "for idx, letter in enumerate('PYTHON'):\n",
    "    print(f'{idx}[{letter}]', end = \" \")\n",
    "    "
   ]
  },
  {
   "cell_type": "code",
   "execution_count": 252,
   "metadata": {},
   "outputs": [
    {
     "name": "stdout",
     "output_type": "stream",
     "text": [
      "22, 20, 18, 16, 14, 12, 10, 8, 6, 4, \n",
      "4, 6, 8, 10, 12, 14, 16, 18, 20, 22, "
     ]
    }
   ],
   "source": [
    "for x in range(22, 2, -2):\n",
    "    print(x, end = ', ')\n",
    "\n",
    "print()\n",
    "\n",
    "for x in reversed(range(22, 2, -2)):\n",
    "    print(x, end = ', ')"
   ]
  },
  {
   "cell_type": "code",
   "execution_count": 284,
   "metadata": {},
   "outputs": [
    {
     "data": {
      "text/plain": [
       "16777215"
      ]
     },
     "execution_count": 284,
     "metadata": {},
     "output_type": "execute_result"
    }
   ],
   "source": [
    "int('FFFFFF', 16)"
   ]
  },
  {
   "cell_type": "code",
   "execution_count": 287,
   "metadata": {},
   "outputs": [
    {
     "name": "stdout",
     "output_type": "stream",
     "text": [
      "16, 17, Fizz, 19, Buzz, Fizz, "
     ]
    }
   ],
   "source": [
    "for num in range(16, 22):\n",
    "    result = ''\n",
    "    \n",
    "    if num % 3 == 0:\n",
    "        result += 'Fizz'\n",
    "    if num % 5 == 0:\n",
    "        result += 'Buzz'\n",
    "\n",
    "    print(result or num, end = \", \")"
   ]
  }
 ],
 "metadata": {
  "kernelspec": {
   "display_name": "Python 3",
   "language": "python",
   "name": "python3"
  },
  "language_info": {
   "codemirror_mode": {
    "name": "ipython",
    "version": 3
   },
   "file_extension": ".py",
   "mimetype": "text/x-python",
   "name": "python",
   "nbconvert_exporter": "python",
   "pygments_lexer": "ipython3",
   "version": "3.7.0"
  }
 },
 "nbformat": 4,
 "nbformat_minor": 2
}
