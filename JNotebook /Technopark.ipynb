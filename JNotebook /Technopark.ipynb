{
 "cells": [
  {
   "cell_type": "markdown",
   "metadata": {},
   "source": [
    "![title](img/002.png)"
   ]
  },
  {
   "cell_type": "markdown",
   "metadata": {},
   "source": [
    "<p style=\"text-align: center;\"><font size=\"7\"> * * * </font></p>\n",
    "<hr style=\"height:2px; background-color: rbg(0,0,0);\">"
   ]
  },
  {
   "cell_type": "markdown",
   "metadata": {},
   "source": [
    "# #1"
   ]
  },
  {
   "cell_type": "code",
   "execution_count": 1,
   "metadata": {},
   "outputs": [
    {
     "name": "stdout",
     "output_type": "stream",
     "text": [
      "Hi all! o/\n"
     ]
    }
   ],
   "source": [
    "print(\"Hi all! o/\")"
   ]
  },
  {
   "cell_type": "code",
   "execution_count": 222,
   "metadata": {},
   "outputs": [
    {
     "name": "stdout",
     "output_type": "stream",
     "text": [
      "(2, 2)\n",
      "2 22\n"
     ]
    }
   ],
   "source": [
    "a = divmod(22, 10)\n",
    "print(a)\n",
    "b, c = divmod(222, 100)\n",
    "print(b, c)"
   ]
  },
  {
   "cell_type": "code",
   "execution_count": 5,
   "metadata": {},
   "outputs": [
    {
     "name": "stdout",
     "output_type": "stream",
     "text": [
      "22000000\n"
     ]
    }
   ],
   "source": [
    "big_amount = 22_000_000\n",
    "print(big_amount)"
   ]
  },
  {
   "cell_type": "code",
   "execution_count": 10,
   "metadata": {},
   "outputs": [
    {
     "name": "stdout",
     "output_type": "stream",
     "text": [
      "77689142522643953432857984943405160607459375066866993426360941500585379496167494554414812738317551290610125506942363201912811852077589887445080329133236084882706758976853160280299220802735308699614184679198052359338219884186570298955013643597740982700186080103802243114935671443344639972611689529406831778230237557486483970597676232979670032540178649466573489259451610193432410434961292070905832062516015156301535032295736862042589225660949159580073017293290337975775881136212936121912254638873440212608666735186892816384\n"
     ]
    }
   ],
   "source": [
    "big_number = 222 ** 222\n",
    "print(big_number)"
   ]
  },
  {
   "cell_type": "code",
   "execution_count": 11,
   "metadata": {},
   "outputs": [
    {
     "data": {
      "text/plain": [
       "int"
      ]
     },
     "execution_count": 11,
     "metadata": {},
     "output_type": "execute_result"
    }
   ],
   "source": [
    "type(big_number)"
   ]
  },
  {
   "cell_type": "code",
   "execution_count": 99,
   "metadata": {},
   "outputs": [
    {
     "name": "stdout",
     "output_type": "stream",
     "text": [
      "0.30000000000000004\n",
      "0.22\n",
      "0.3\n"
     ]
    }
   ],
   "source": [
    "from decimal import Decimal\n",
    "print(0.1 + 0.2)\n",
    "print(.1 + .12)\n",
    "print(Decimal('0.1') + Decimal('0.2'))"
   ]
  },
  {
   "cell_type": "code",
   "execution_count": 23,
   "metadata": {},
   "outputs": [
    {
     "ename": "ValueError",
     "evalue": "invalid literal for int() with base 10: '12dwfwef'",
     "output_type": "error",
     "traceback": [
      "\u001b[0;31m---------------------------------------------------------------------------\u001b[0m",
      "\u001b[0;31mValueError\u001b[0m                                Traceback (most recent call last)",
      "\u001b[0;32m<ipython-input-23-8c460f956c53>\u001b[0m in \u001b[0;36m<module>\u001b[0;34m\u001b[0m\n\u001b[0;32m----> 1\u001b[0;31m \u001b[0mprint\u001b[0m\u001b[0;34m(\u001b[0m\u001b[0mint\u001b[0m\u001b[0;34m(\u001b[0m\u001b[0;34m'12dwfwef'\u001b[0m\u001b[0;34m)\u001b[0m\u001b[0;34m)\u001b[0m\u001b[0;34m\u001b[0m\u001b[0m\n\u001b[0m",
      "\u001b[0;31mValueError\u001b[0m: invalid literal for int() with base 10: '12dwfwef'"
     ]
    }
   ],
   "source": [
    "print(int('12dwfwef'))"
   ]
  },
  {
   "cell_type": "code",
   "execution_count": 35,
   "metadata": {},
   "outputs": [
    {
     "name": "stdout",
     "output_type": "stream",
     "text": [
      "True False True True XXXXXX XXX\n"
     ]
    }
   ],
   "source": [
    "print('XXX' < 'XXXX',\n",
    "      'XXX' > 'XXXX',\n",
    "      'XXX' == 'XXX',\n",
    "      'XXX' is 'XXX',\n",
    "      'XXX' + 'XXX',\n",
    "      'X' * 3,\n",
    "     )\n"
   ]
  },
  {
   "cell_type": "code",
   "execution_count": 56,
   "metadata": {},
   "outputs": [
    {
     "name": "stdout",
     "output_type": "stream",
     "text": [
      "4507786184\n",
      "4514204336\n"
     ]
    }
   ],
   "source": [
    "s1 = '22'\n",
    "print(id(s1))\n",
    "\n",
    "s1 = s1 + '2'\n",
    "s1 += '2'\n",
    "print(id(s1))"
   ]
  },
  {
   "cell_type": "code",
   "execution_count": 55,
   "metadata": {},
   "outputs": [
    {
     "name": "stdout",
     "output_type": "stream",
     "text": [
      "4514656952\n"
     ]
    }
   ],
   "source": [
    "string = string + '22'\n",
    "string += '22'\n",
    "print(id(\"First str_id: \"+ string))"
   ]
  },
  {
   "cell_type": "code",
   "execution_count": 58,
   "metadata": {},
   "outputs": [
    {
     "name": "stdout",
     "output_type": "stream",
     "text": [
      "2 2 2\n"
     ]
    }
   ],
   "source": [
    "print(s1[0], s1[1], s1[3])"
   ]
  },
  {
   "cell_type": "code",
   "execution_count": 84,
   "metadata": {},
   "outputs": [
    {
     "name": "stdout",
     "output_type": "stream",
     "text": [
      "LEN=9 123456789 987654321 98 98 98\n"
     ]
    }
   ],
   "source": [
    "string = '123456789'\n",
    "print(\"LEN=\" + str(len(string)),\n",
    "      string,\n",
    "      string[::-1],\n",
    "      string[-1] + string[-2],\n",
    "      string[-1] + string[7],\n",
    "      string[8] + string[7],\n",
    "     )"
   ]
  },
  {
   "cell_type": "code",
   "execution_count": 130,
   "metadata": {},
   "outputs": [
    {
     "name": "stdout",
     "output_type": "stream",
     "text": [
      "['CC', 'XX', 'II', '222']\n",
      "CC\n",
      "XX\n",
      "II\n",
      "222\n"
     ]
    }
   ],
   "source": [
    "tag_list = 'CC, XX, II, 222'\n",
    "splitted = tag_list.split(', ')\n",
    "print(splitted)\n",
    "print(\"\\n\".join(splitted))"
   ]
  },
  {
   "cell_type": "markdown",
   "metadata": {},
   "source": [
    "### Placeholder"
   ]
  },
  {
   "cell_type": "code",
   "execution_count": 123,
   "metadata": {},
   "outputs": [
    {
     "name": "stdout",
     "output_type": "stream",
     "text": [
      "Number is: CCXXII - NEW FORMAT\n",
      "\n",
      "Number is: CCXXII - NEWEST\n",
      "\n",
      "Number is: CCXXII - OLD FORMAT\n"
     ]
    }
   ],
   "source": [
    "word = 'CCXXII'\n",
    "print(\"Number is: {}{}\".format(word, ' - NEW FORMAT'))\n",
    "\n",
    "form2 = 'NEWEST'\n",
    "print(f'\\nNumber is: {word} - {form2}')\n",
    "\n",
    "form = 'OLD FORMAT'\n",
    "print('\\nNumber is: %s - %s' % (word, form))"
   ]
  },
  {
   "cell_type": "code",
   "execution_count": 146,
   "metadata": {},
   "outputs": [
    {
     "name": "stdout",
     "output_type": "stream",
     "text": [
      "\t --XXX----- \n",
      "\n",
      "--XXX-----\n",
      "XXX\n"
     ]
    }
   ],
   "source": [
    "a = '\\t --XXX----- \\n'\n",
    "print(a)\n",
    "print(a.strip())\n",
    "print(a.strip().strip('-'))"
   ]
  },
  {
   "cell_type": "code",
   "execution_count": 142,
   "metadata": {},
   "outputs": [
    {
     "name": "stdout",
     "output_type": "stream",
     "text": [
      " 231 12342213 2365757484 4664545\n",
      "x231x12342213x2365757484x4664545\n"
     ]
    }
   ],
   "source": [
    "input_str = ' 231 12342213 2365757484 4664545'\n",
    "print(input_str)\n",
    "mod_str = input_str.replace(' ', 'x')\n",
    "print(mod_str)"
   ]
  },
  {
   "cell_type": "code",
   "execution_count": 148,
   "metadata": {},
   "outputs": [
    {
     "data": {
      "text/plain": [
       "True"
      ]
     },
     "execution_count": 148,
     "metadata": {},
     "output_type": "execute_result"
    }
   ],
   "source": [
    "'th' in 'Python'"
   ]
  },
  {
   "cell_type": "code",
   "execution_count": 152,
   "metadata": {},
   "outputs": [
    {
     "name": "stdout",
     "output_type": "stream",
     "text": [
      "1\n",
      "5\n"
     ]
    }
   ],
   "source": [
    "print(0 or 1)\n",
    "print(5 or 1)"
   ]
  },
  {
   "cell_type": "code",
   "execution_count": 223,
   "metadata": {},
   "outputs": [
    {
     "name": "stdout",
     "output_type": "stream",
     "text": [
      ">>> 18 - WARNING!!!\n"
     ]
    }
   ],
   "source": [
    "import random\n",
    "number = random.randint(0, 22)\n",
    "result = 'OK' if number <= 15 else \"WARNING!!!\"\n",
    "print(f'>>> {number} - {result}')"
   ]
  },
  {
   "cell_type": "code",
   "execution_count": 264,
   "metadata": {},
   "outputs": [
    {
     "name": "stdout",
     "output_type": "stream",
     "text": [
      "p, y, t, h, o, n, \n"
     ]
    }
   ],
   "source": [
    "for letter in 'python':\n",
    "    print(letter, end = ', ')\n",
    "print()"
   ]
  },
  {
   "cell_type": "code",
   "execution_count": 281,
   "metadata": {},
   "outputs": [
    {
     "name": "stdout",
     "output_type": "stream",
     "text": [
      "0[p] 1[y] 2[t] 3[h] 4[o] 5[n] \n",
      "0[P] 1[Y] 2[T] 3[H] 4[O] 5[N] "
     ]
    }
   ],
   "source": [
    "word = 'python'\n",
    "\n",
    "for letter in range(len(word)):\n",
    "    print(f'{letter}[{word[letter]}]', end = \" \")\n",
    "\n",
    "print()\n",
    "\n",
    "for idx, letter in enumerate('PYTHON'):\n",
    "    print(f'{idx}[{letter}]', end = \" \")\n",
    "    "
   ]
  },
  {
   "cell_type": "code",
   "execution_count": 252,
   "metadata": {},
   "outputs": [
    {
     "name": "stdout",
     "output_type": "stream",
     "text": [
      "22, 20, 18, 16, 14, 12, 10, 8, 6, 4, \n",
      "4, 6, 8, 10, 12, 14, 16, 18, 20, 22, "
     ]
    }
   ],
   "source": [
    "for x in range(22, 2, -2):\n",
    "    print(x, end = ', ')\n",
    "\n",
    "print()\n",
    "\n",
    "for x in reversed(range(22, 2, -2)):\n",
    "    print(x, end = ', ')"
   ]
  },
  {
   "cell_type": "code",
   "execution_count": 284,
   "metadata": {},
   "outputs": [
    {
     "data": {
      "text/plain": [
       "16777215"
      ]
     },
     "execution_count": 284,
     "metadata": {},
     "output_type": "execute_result"
    }
   ],
   "source": [
    "int('FFFFFF', 16)"
   ]
  },
  {
   "cell_type": "code",
   "execution_count": 287,
   "metadata": {},
   "outputs": [
    {
     "name": "stdout",
     "output_type": "stream",
     "text": [
      "16, 17, Fizz, 19, Buzz, Fizz, "
     ]
    }
   ],
   "source": [
    "for num in range(16, 22):\n",
    "    result = ''\n",
    "    \n",
    "    if num % 3 == 0:\n",
    "        result += 'Fizz'\n",
    "    if num % 5 == 0:\n",
    "        result += 'Buzz'\n",
    "\n",
    "    print(result or num, end = \", \")"
   ]
  },
  {
   "cell_type": "markdown",
   "metadata": {},
   "source": [
    "<hr style=\"height:2px; background-color: rbg(0,0,0);\">\n",
    "<br>\n",
    "<p style=\"text-align: center;\"><font size=\"7\"> * * * </font></p>"
   ]
  },
  {
   "cell_type": "markdown",
   "metadata": {},
   "source": [
    "# #2"
   ]
  },
  {
   "cell_type": "code",
   "execution_count": 13,
   "metadata": {},
   "outputs": [
    {
     "name": "stdout",
     "output_type": "stream",
     "text": [
      "list_one = [None, None, None, None, None]\n",
      "list_one = [2, 22, 222, 2, 22, 222, 2, 22, 222, 2, 22, 222, 2, 22, 222]\n",
      "list_one = [True, None, 22, 'XXII']\n"
     ]
    }
   ],
   "source": [
    "empty_list = []\n",
    "empty_list = list()\n",
    "not_empty_list = list([22, 222, 2222])\n",
    "not_empty_list = [22, 222, 2222]\n",
    "list_one = [None] * 5\n",
    "list_two = [2, 22, 222] * 5\n",
    "list_three = [True, None, 22, 'XXII']\n",
    "print(f'list_one = {list_one}')\n",
    "print(f'list_one = {list_two}')\n",
    "print(f'list_one = {list_three}')"
   ]
  },
  {
   "cell_type": "code",
   "execution_count": 18,
   "metadata": {},
   "outputs": [
    {
     "name": "stdout",
     "output_type": "stream",
     "text": [
      "242 ns ± 52.8 ns per loop (mean ± std. dev. of 7 runs, 10000 loops each)\n"
     ]
    }
   ],
   "source": [
    "benchmark_list = []\n",
    "%timeit -n10000 benchmark_list.append(\"XXII\")"
   ]
  },
  {
   "cell_type": "code",
   "execution_count": 19,
   "metadata": {},
   "outputs": [
    {
     "name": "stdout",
     "output_type": "stream",
     "text": [
      "The slowest run took 10.69 times longer than the fastest. This could mean that an intermediate result is being cached.\n",
      "41.5 µs ± 23.3 µs per loop (mean ± std. dev. of 7 runs, 10000 loops each)\n"
     ]
    }
   ],
   "source": [
    "benchmark_list = []\n",
    "%timeit -n10000 benchmark_list.insert(0, \"XXII\")\n"
   ]
  },
  {
   "cell_type": "code",
   "execution_count": 22,
   "metadata": {},
   "outputs": [
    {
     "name": "stdout",
     "output_type": "stream",
     "text": [
      "[1, 2, 3, 4, 5, 6, 7, 8, 9]\n",
      "[1, 2, 3, 4, 5, 6, 7, 8]\n",
      "[4, 5, 6, 7, 8]\n"
     ]
    }
   ],
   "source": [
    "test_list = [1, 2, 3, 4, 5, 6, 7, 8, 9]\n",
    "print(test_list)\n",
    "del test_list[-1]\n",
    "print(test_list)\n",
    "del test_list[0:3]\n",
    "print(test_list)"
   ]
  },
  {
   "cell_type": "code",
   "execution_count": 36,
   "metadata": {},
   "outputs": [
    {
     "name": "stdout",
     "output_type": "stream",
     "text": [
      "[1, 2, 3, 4, 5, 6, 7, 8, 9, 10]\n",
      "[2, 3, 4, 5, 6, 7, 8, 9]\n",
      "[2, 4, 6, 8, 10]\n",
      "[7, 8, 9, 10]\n",
      "10\n"
     ]
    }
   ],
   "source": [
    "example_list = [x for x in range(1, 11)]\n",
    "print(example_list)\n",
    "print(example_list[1:-1])\n",
    "print(example_list[1:len(example_list):2])\n",
    "print(example_list[6:])\n",
    "print(example_list[-1])"
   ]
  },
  {
   "cell_type": "code",
   "execution_count": 50,
   "metadata": {},
   "outputs": [
    {
     "name": "stdout",
     "output_type": "stream",
     "text": [
      "[0, 1, 2, 3, 4, 5, 6, 7, 8, 9, 10]\n",
      "[0, 1, 2, 3, 4, 5, 6, 7, 8, 9, 10]\n",
      "\n",
      "list_test    = [22, 1, 2, 3, 4, 5, 6, 7, 8, 9, 10]\n",
      "another_list = [22, 1, 2, 3, 4, 5, 6, 7, 8, 9, 10]\n",
      "\n",
      "list_test_2 = [0, 1, 2, 3, 4, 5, 6, 7, 8, 9, 10]\n",
      "list_test_3 = [1, 1, 2, 3, 4, 5, 6, 7, 8, 9, 10]\n"
     ]
    }
   ],
   "source": [
    "list_test = [x for x in range(0, 11)]\n",
    "print(list_test)\n",
    "\n",
    "another_list = list_test\n",
    "print(another_list)\n",
    "\n",
    "another_list[0] = 22\n",
    "print(f'\\nlist_test    = {list_test}')\n",
    "print(f'another_list = {another_list}')\n",
    "\n",
    "list_test_2 = [x for x in range(0, 11)]\n",
    "print()\n",
    "\n",
    "list_test_3 = list_test_2[:] # Копирование через срез\n",
    "list_test_3[0] = 1\n",
    "print(f'list_test_2 = {list_test_2}')\n",
    "print(f'list_test_3 = {list_test_3}')"
   ]
  },
  {
   "cell_type": "markdown",
   "metadata": {},
   "source": [
    "<font size=\"5\"> * * * </font>\n",
    "#### SHALOW COPY"
   ]
  },
  {
   "cell_type": "code",
   "execution_count": 56,
   "metadata": {},
   "outputs": [
    {
     "name": "stdout",
     "output_type": "stream",
     "text": [
      "    another_list = [[1, 2, 3, 4], 1, 2, 3, 4]\n",
      "now another_list = [[1, 2, 3, 4, 22], 1, 2, 3, 4]\n"
     ]
    }
   ],
   "source": [
    "nested_list = [1, 2, 3, 4]\n",
    "example_list = [nested_list, 1, 2, 3, 4]\n",
    "another_list = example_list[:]\n",
    "print(f'    another_list = {another_list}')\n",
    "nested_list.append(22)\n",
    "print(f'now another_list = {another_list}')"
   ]
  },
  {
   "cell_type": "markdown",
   "metadata": {},
   "source": [
    "#### deepcopy"
   ]
  },
  {
   "cell_type": "code",
   "execution_count": 57,
   "metadata": {},
   "outputs": [
    {
     "name": "stdout",
     "output_type": "stream",
     "text": [
      "    another_list = [[1, 2, 3, 4], 1, 2, 3, 4]\n",
      "now another_list = [[1, 2, 3, 4], 1, 2, 3, 4]\n"
     ]
    }
   ],
   "source": [
    "from copy import deepcopy\n",
    "nested_list = [1, 2, 3, 4]\n",
    "example_list = [nested_list, 1, 2, 3, 4]\n",
    "another_list = deepcopy(example_list)\n",
    "print(f'    another_list = {another_list}')\n",
    "nested_list.append(22)\n",
    "print(f'now another_list = {another_list}')"
   ]
  },
  {
   "cell_type": "markdown",
   "metadata": {},
   "source": [
    "<font size=\"5\">* * *<font/>"
   ]
  },
  {
   "cell_type": "code",
   "execution_count": 60,
   "metadata": {},
   "outputs": [
    {
     "name": "stdout",
     "output_type": "stream",
     "text": [
      "[0, 1, 2, 3, 6, 7]\n",
      "[6, 3, 1, 7, 0, 2]\n"
     ]
    }
   ],
   "source": [
    "unsorted = [6, 3, 1, 7, 0, 2]\n",
    "print(sorted(unsorted))\n",
    "print(unsorted)"
   ]
  },
  {
   "cell_type": "markdown",
   "metadata": {},
   "source": [
    "#### Вывести в одну строку все цифры от 0 до 100"
   ]
  },
  {
   "cell_type": "code",
   "execution_count": 64,
   "metadata": {},
   "outputs": [
    {
     "name": "stdout",
     "output_type": "stream",
     "text": [
      "0,1,2,3,4,5,6,7,8,9,10,11,12,13,14,15,16,17,18,19,20,21,22,23,24,25,26,27,28,29,30,31,32,33,34,35,36,37,38,39,40,41,42,43,44,45,46,47,48,49,50,51,52,53,54,55,56,57,58,59,60,61,62,63,64,65,66,67,68,69,70,71,72,73,74,75,76,77,78,79,80,81,82,83,84,85,86,87,88,89,90,91,92,93,94,95,96,97,98,99,100,"
     ]
    }
   ],
   "source": [
    "for x in range(0, 101):\n",
    "    print(x, end=\",\")"
   ]
  },
  {
   "cell_type": "code",
   "execution_count": 63,
   "metadata": {},
   "outputs": [
    {
     "name": "stdout",
     "output_type": "stream",
     "text": [
      "0,1,2,3,4,5,6,7,8,9,10,11,12,13,14,15,16,17,18,19,20,21,22,23,24,25,26,27,28,29,30,31,32,33,34,35,36,37,38,39,40,41,42,43,44,45,46,47,48,49,50,51,52,53,54,55,56,57,58,59,60,61,62,63,64,65,66,67,68,69,70,71,72,73,74,75,76,77,78,79,80,81,82,83,84,85,86,87,88,89,90,91,92,93,94,95,96,97,98,99,100\n"
     ]
    }
   ],
   "source": [
    "print(\",\".join(str(item) for item in range(101)))"
   ]
  },
  {
   "cell_type": "code",
   "execution_count": 65,
   "metadata": {},
   "outputs": [
    {
     "name": "stdout",
     "output_type": "stream",
     "text": [
      "1 2 3 4 5\n"
     ]
    }
   ],
   "source": [
    "five_num_tuple = [1, 2, 3, 4, 5]\n",
    "a, b, c, d, e = five_num_tuple\n",
    "print(a, b, c, d, e)"
   ]
  },
  {
   "cell_type": "code",
   "execution_count": 69,
   "metadata": {},
   "outputs": [
    {
     "data": {
      "text/plain": [
       "2528502973977326415"
      ]
     },
     "execution_count": 69,
     "metadata": {},
     "output_type": "execute_result"
    }
   ],
   "source": [
    "hash((1, 2, 3))"
   ]
  },
  {
   "cell_type": "code",
   "execution_count": 70,
   "metadata": {},
   "outputs": [],
   "source": [
    "search_list = list(range(100000))\n",
    "search_dict = dict.fromkeys(list(range(100000)))"
   ]
  },
  {
   "cell_type": "code",
   "execution_count": 72,
   "metadata": {},
   "outputs": [
    {
     "name": "stdout",
     "output_type": "stream",
     "text": [
      "106 ns ± 45 ns per loop (mean ± std. dev. of 7 runs, 10000 loops each)\n"
     ]
    }
   ],
   "source": [
    "%timeit -n10000 0 in search_list"
   ]
  },
  {
   "cell_type": "code",
   "execution_count": 73,
   "metadata": {},
   "outputs": [
    {
     "name": "stdout",
     "output_type": "stream",
     "text": [
      "125 ns ± 31.9 ns per loop (mean ± std. dev. of 7 runs, 10000 loops each)\n"
     ]
    }
   ],
   "source": [
    "%timeit -n10000 0 in search_dict"
   ]
  },
  {
   "cell_type": "code",
   "execution_count": 77,
   "metadata": {},
   "outputs": [
    {
     "name": "stdout",
     "output_type": "stream",
     "text": [
      "3.1 ms ± 21.4 µs per loop (mean ± std. dev. of 7 runs, 1000 loops each)\n"
     ]
    }
   ],
   "source": [
    "%timeit -n1000 99999 in search_list"
   ]
  },
  {
   "cell_type": "code",
   "execution_count": 78,
   "metadata": {},
   "outputs": [
    {
     "name": "stdout",
     "output_type": "stream",
     "text": [
      "206 ns ± 43 ns per loop (mean ± std. dev. of 7 runs, 10000 loops each)\n"
     ]
    }
   ],
   "source": [
    "%timeit -n10000 99999 in search_dict"
   ]
  },
  {
   "cell_type": "code",
   "execution_count": 82,
   "metadata": {},
   "outputs": [
    {
     "name": "stdout",
     "output_type": "stream",
     "text": [
      "{'a': 22, 'b': 222, 'f': 'SECOND', 'c': 'XXII', 'd': 'CCXXII'}\n"
     ]
    }
   ],
   "source": [
    "d1 = {\"a\": 22, \"b\": 222, \"f\": \"FIRST\"}\n",
    "d2 = {\"c\": \"XXII\", \"d\": \"CCXXII\", \"f\":\"SECOND\"}\n",
    "d1.update(d2)\n",
    "print(d1)"
   ]
  },
  {
   "cell_type": "code",
   "execution_count": 92,
   "metadata": {},
   "outputs": [
    {
     "name": "stdout",
     "output_type": "stream",
     "text": [
      "[2]-3\n",
      "[22]-3\n",
      "[4]-1\n",
      "[3]-2\n",
      "[55]-1\n",
      "[5]-2\n",
      "[44]-1\n"
     ]
    }
   ],
   "source": [
    "elements = [2, 22, 2, 22, 2, 22, 4, 3, 55, 5, 5, 44, 3]\n",
    "solutions_dict = {}\n",
    "\n",
    "for item in elements:\n",
    "    if item in solutions_dict:\n",
    "        solutions_dict[item] = solutions_dict.get(item, 0) + 1\n",
    "    if not solutions_dict.get(item, None):\n",
    "        solutions_dict[item] = 1\n",
    "for key, value in solutions_dict.items():\n",
    "#    if value is 1:\n",
    "        print(f'[{key}]-{value}')"
   ]
  },
  {
   "cell_type": "code",
   "execution_count": 103,
   "metadata": {},
   "outputs": [
    {
     "name": "stdout",
     "output_type": "stream",
     "text": [
      "[1, 2, 3, 4, 5, 6, 7, 8, 9]\n",
      "[2, 3, 4, 5, 6, 7, 8, 9, 10]\n",
      "[4, 6, 8, 10]\n"
     ]
    }
   ],
   "source": [
    "item_list_1 = [1, 2, 3, 4, 5, 6, 7, 8, 9]\n",
    "item_list_2 = [item + 1 for item in item_list_1]\n",
    "item_list_3 = [item + 1 for item in item_list_2 if item % 2]\n",
    "print(f'{item_list_1}\\n{item_list_2}\\n{item_list_3}')"
   ]
  },
  {
   "cell_type": "code",
   "execution_count": 106,
   "metadata": {},
   "outputs": [
    {
     "name": "stdout",
     "output_type": "stream",
     "text": [
      "{1: 3, 3: 5, 5: 7}\n"
     ]
    }
   ],
   "source": [
    "first_list = [(1, 2), (3, 4), (5, 6)]\n",
    "first_dict = {key: value + 1 for key, value in first_list}\n",
    "print(first_dict)"
   ]
  },
  {
   "cell_type": "markdown",
   "metadata": {},
   "source": [
    "#### SET"
   ]
  },
  {
   "cell_type": "code",
   "execution_count": 115,
   "metadata": {},
   "outputs": [
    {
     "name": "stdout",
     "output_type": "stream",
     "text": [
      "{2, 4, 44, 22, 222}\n",
      "{2, 4, 44, 22, 222}\n"
     ]
    }
   ],
   "source": [
    "another_set = {3, 33, 333, 4, 44}\n",
    "example_set = {2, 22, 222, 4, 44}\n",
    "print(example_set)\n",
    "example_set.add(222)\n",
    "print(example_set)"
   ]
  },
  {
   "cell_type": "code",
   "execution_count": 117,
   "metadata": {},
   "outputs": [
    {
     "name": "stdout",
     "output_type": "stream",
     "text": [
      "{2, 222, 22}\n",
      "{33, 2, 3, 4, 44, 333, 22, 222}\n",
      "{4, 44}\n"
     ]
    }
   ],
   "source": [
    "print(example_set.difference(another_set))\n",
    "print(example_set.union(another_set))\n",
    "print(example_set.intersection(another_set))"
   ]
  },
  {
   "cell_type": "code",
   "execution_count": 119,
   "metadata": {},
   "outputs": [
    {
     "data": {
      "text/plain": [
       "22"
      ]
     },
     "execution_count": 119,
     "metadata": {},
     "output_type": "execute_result"
    }
   ],
   "source": [
    "list(example_set)[3]"
   ]
  },
  {
   "cell_type": "code",
   "execution_count": 126,
   "metadata": {},
   "outputs": [
    {
     "name": "stdout",
     "output_type": "stream",
     "text": [
      "{'Sam', 'Max'}\n"
     ]
    }
   ],
   "source": [
    "online_users = {'Bob', 'Max', 'Frank', 'Bill', 'Sam'}\n",
    "admin = {'Sam', 'Max', 'Freddy', 'Tomas'}\n",
    "admin_online = online_users.intersection(admin)\n",
    "print(admin_online)"
   ]
  }
 ],
 "metadata": {
  "kernelspec": {
   "display_name": "Python 3",
   "language": "python",
   "name": "python3"
  },
  "language_info": {
   "codemirror_mode": {
    "name": "ipython",
    "version": 3
   },
   "file_extension": ".py",
   "mimetype": "text/x-python",
   "name": "python",
   "nbconvert_exporter": "python",
   "pygments_lexer": "ipython3",
   "version": "3.7.0"
  }
 },
 "nbformat": 4,
 "nbformat_minor": 2
}
