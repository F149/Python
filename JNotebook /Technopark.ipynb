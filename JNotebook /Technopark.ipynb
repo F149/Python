{
 "cells": [
  {
   "cell_type": "markdown",
   "metadata": {},
   "source": [
    "![title](img/002.png)"
   ]
  },
  {
   "cell_type": "markdown",
   "metadata": {},
   "source": [
    "<p style=\"text-align: center;\"><font size=\"7\"> * * * </font></p>\n",
    "<hr style=\"height:2px; background-color: rbg(0,0,0);\">"
   ]
  },
  {
   "cell_type": "markdown",
   "metadata": {},
   "source": [
    "# #1"
   ]
  },
  {
   "cell_type": "code",
   "execution_count": 1,
   "metadata": {},
   "outputs": [
    {
     "name": "stdout",
     "output_type": "stream",
     "text": [
      "Hi all! o/\n"
     ]
    }
   ],
   "source": [
    "print(\"Hi all! o/\")"
   ]
  },
  {
   "cell_type": "code",
   "execution_count": 222,
   "metadata": {},
   "outputs": [
    {
     "name": "stdout",
     "output_type": "stream",
     "text": [
      "(2, 2)\n",
      "2 22\n"
     ]
    }
   ],
   "source": [
    "a = divmod(22, 10)\n",
    "print(a)\n",
    "b, c = divmod(222, 100)\n",
    "print(b, c)"
   ]
  },
  {
   "cell_type": "code",
   "execution_count": 5,
   "metadata": {},
   "outputs": [
    {
     "name": "stdout",
     "output_type": "stream",
     "text": [
      "22000000\n"
     ]
    }
   ],
   "source": [
    "big_amount = 22_000_000\n",
    "print(big_amount)"
   ]
  },
  {
   "cell_type": "code",
   "execution_count": 10,
   "metadata": {},
   "outputs": [
    {
     "name": "stdout",
     "output_type": "stream",
     "text": [
      "77689142522643953432857984943405160607459375066866993426360941500585379496167494554414812738317551290610125506942363201912811852077589887445080329133236084882706758976853160280299220802735308699614184679198052359338219884186570298955013643597740982700186080103802243114935671443344639972611689529406831778230237557486483970597676232979670032540178649466573489259451610193432410434961292070905832062516015156301535032295736862042589225660949159580073017293290337975775881136212936121912254638873440212608666735186892816384\n"
     ]
    }
   ],
   "source": [
    "big_number = 222 ** 222\n",
    "print(big_number)"
   ]
  },
  {
   "cell_type": "code",
   "execution_count": 11,
   "metadata": {},
   "outputs": [
    {
     "data": {
      "text/plain": [
       "int"
      ]
     },
     "execution_count": 11,
     "metadata": {},
     "output_type": "execute_result"
    }
   ],
   "source": [
    "type(big_number)"
   ]
  },
  {
   "cell_type": "code",
   "execution_count": 99,
   "metadata": {},
   "outputs": [
    {
     "name": "stdout",
     "output_type": "stream",
     "text": [
      "0.30000000000000004\n",
      "0.22\n",
      "0.3\n"
     ]
    }
   ],
   "source": [
    "from decimal import Decimal\n",
    "print(0.1 + 0.2)\n",
    "print(.1 + .12)\n",
    "print(Decimal('0.1') + Decimal('0.2'))"
   ]
  },
  {
   "cell_type": "code",
   "execution_count": 23,
   "metadata": {},
   "outputs": [
    {
     "ename": "ValueError",
     "evalue": "invalid literal for int() with base 10: '12dwfwef'",
     "output_type": "error",
     "traceback": [
      "\u001b[0;31m---------------------------------------------------------------------------\u001b[0m",
      "\u001b[0;31mValueError\u001b[0m                                Traceback (most recent call last)",
      "\u001b[0;32m<ipython-input-23-8c460f956c53>\u001b[0m in \u001b[0;36m<module>\u001b[0;34m\u001b[0m\n\u001b[0;32m----> 1\u001b[0;31m \u001b[0mprint\u001b[0m\u001b[0;34m(\u001b[0m\u001b[0mint\u001b[0m\u001b[0;34m(\u001b[0m\u001b[0;34m'12dwfwef'\u001b[0m\u001b[0;34m)\u001b[0m\u001b[0;34m)\u001b[0m\u001b[0;34m\u001b[0m\u001b[0m\n\u001b[0m",
      "\u001b[0;31mValueError\u001b[0m: invalid literal for int() with base 10: '12dwfwef'"
     ]
    }
   ],
   "source": [
    "print(int('12dwfwef'))"
   ]
  },
  {
   "cell_type": "code",
   "execution_count": 35,
   "metadata": {},
   "outputs": [
    {
     "name": "stdout",
     "output_type": "stream",
     "text": [
      "True False True True XXXXXX XXX\n"
     ]
    }
   ],
   "source": [
    "print('XXX' < 'XXXX',\n",
    "      'XXX' > 'XXXX',\n",
    "      'XXX' == 'XXX',\n",
    "      'XXX' is 'XXX',\n",
    "      'XXX' + 'XXX',\n",
    "      'X' * 3,\n",
    "     )\n"
   ]
  },
  {
   "cell_type": "code",
   "execution_count": 56,
   "metadata": {},
   "outputs": [
    {
     "name": "stdout",
     "output_type": "stream",
     "text": [
      "4507786184\n",
      "4514204336\n"
     ]
    }
   ],
   "source": [
    "s1 = '22'\n",
    "print(id(s1))\n",
    "\n",
    "s1 = s1 + '2'\n",
    "s1 += '2'\n",
    "print(id(s1))"
   ]
  },
  {
   "cell_type": "code",
   "execution_count": 55,
   "metadata": {},
   "outputs": [
    {
     "name": "stdout",
     "output_type": "stream",
     "text": [
      "4514656952\n"
     ]
    }
   ],
   "source": [
    "string = string + '22'\n",
    "string += '22'\n",
    "print(id(\"First str_id: \"+ string))"
   ]
  },
  {
   "cell_type": "code",
   "execution_count": 58,
   "metadata": {},
   "outputs": [
    {
     "name": "stdout",
     "output_type": "stream",
     "text": [
      "2 2 2\n"
     ]
    }
   ],
   "source": [
    "print(s1[0], s1[1], s1[3])"
   ]
  },
  {
   "cell_type": "code",
   "execution_count": 84,
   "metadata": {},
   "outputs": [
    {
     "name": "stdout",
     "output_type": "stream",
     "text": [
      "LEN=9 123456789 987654321 98 98 98\n"
     ]
    }
   ],
   "source": [
    "string = '123456789'\n",
    "print(\"LEN=\" + str(len(string)),\n",
    "      string,\n",
    "      string[::-1],\n",
    "      string[-1] + string[-2],\n",
    "      string[-1] + string[7],\n",
    "      string[8] + string[7],\n",
    "     )"
   ]
  },
  {
   "cell_type": "code",
   "execution_count": 130,
   "metadata": {},
   "outputs": [
    {
     "name": "stdout",
     "output_type": "stream",
     "text": [
      "['CC', 'XX', 'II', '222']\n",
      "CC\n",
      "XX\n",
      "II\n",
      "222\n"
     ]
    }
   ],
   "source": [
    "tag_list = 'CC, XX, II, 222'\n",
    "splitted = tag_list.split(', ')\n",
    "print(splitted)\n",
    "print(\"\\n\".join(splitted))"
   ]
  },
  {
   "cell_type": "markdown",
   "metadata": {},
   "source": [
    "### Placeholder"
   ]
  },
  {
   "cell_type": "code",
   "execution_count": 123,
   "metadata": {},
   "outputs": [
    {
     "name": "stdout",
     "output_type": "stream",
     "text": [
      "Number is: CCXXII - NEW FORMAT\n",
      "\n",
      "Number is: CCXXII - NEWEST\n",
      "\n",
      "Number is: CCXXII - OLD FORMAT\n"
     ]
    }
   ],
   "source": [
    "word = 'CCXXII'\n",
    "print(\"Number is: {}{}\".format(word, ' - NEW FORMAT'))\n",
    "\n",
    "form2 = 'NEWEST'\n",
    "print(f'\\nNumber is: {word} - {form2}')\n",
    "\n",
    "form = 'OLD FORMAT'\n",
    "print('\\nNumber is: %s - %s' % (word, form))"
   ]
  },
  {
   "cell_type": "code",
   "execution_count": 146,
   "metadata": {},
   "outputs": [
    {
     "name": "stdout",
     "output_type": "stream",
     "text": [
      "\t --XXX----- \n",
      "\n",
      "--XXX-----\n",
      "XXX\n"
     ]
    }
   ],
   "source": [
    "a = '\\t --XXX----- \\n'\n",
    "print(a)\n",
    "print(a.strip())\n",
    "print(a.strip().strip('-'))"
   ]
  },
  {
   "cell_type": "code",
   "execution_count": 142,
   "metadata": {},
   "outputs": [
    {
     "name": "stdout",
     "output_type": "stream",
     "text": [
      " 231 12342213 2365757484 4664545\n",
      "x231x12342213x2365757484x4664545\n"
     ]
    }
   ],
   "source": [
    "input_str = ' 231 12342213 2365757484 4664545'\n",
    "print(input_str)\n",
    "mod_str = input_str.replace(' ', 'x')\n",
    "print(mod_str)"
   ]
  },
  {
   "cell_type": "code",
   "execution_count": 148,
   "metadata": {},
   "outputs": [
    {
     "data": {
      "text/plain": [
       "True"
      ]
     },
     "execution_count": 148,
     "metadata": {},
     "output_type": "execute_result"
    }
   ],
   "source": [
    "'th' in 'Python'"
   ]
  },
  {
   "cell_type": "code",
   "execution_count": 152,
   "metadata": {},
   "outputs": [
    {
     "name": "stdout",
     "output_type": "stream",
     "text": [
      "1\n",
      "5\n"
     ]
    }
   ],
   "source": [
    "print(0 or 1)\n",
    "print(5 or 1)"
   ]
  },
  {
   "cell_type": "code",
   "execution_count": 223,
   "metadata": {},
   "outputs": [
    {
     "name": "stdout",
     "output_type": "stream",
     "text": [
      ">>> 18 - WARNING!!!\n"
     ]
    }
   ],
   "source": [
    "import random\n",
    "number = random.randint(0, 22)\n",
    "result = 'OK' if number <= 15 else \"WARNING!!!\"\n",
    "print(f'>>> {number} - {result}')"
   ]
  },
  {
   "cell_type": "code",
   "execution_count": 264,
   "metadata": {},
   "outputs": [
    {
     "name": "stdout",
     "output_type": "stream",
     "text": [
      "p, y, t, h, o, n, \n"
     ]
    }
   ],
   "source": [
    "for letter in 'python':\n",
    "    print(letter, end = ', ')\n",
    "print()"
   ]
  },
  {
   "cell_type": "code",
   "execution_count": 281,
   "metadata": {},
   "outputs": [
    {
     "name": "stdout",
     "output_type": "stream",
     "text": [
      "0[p] 1[y] 2[t] 3[h] 4[o] 5[n] \n",
      "0[P] 1[Y] 2[T] 3[H] 4[O] 5[N] "
     ]
    }
   ],
   "source": [
    "word = 'python'\n",
    "\n",
    "for letter in range(len(word)):\n",
    "    print(f'{letter}[{word[letter]}]', end = \" \")\n",
    "\n",
    "print()\n",
    "\n",
    "for idx, letter in enumerate('PYTHON'):\n",
    "    print(f'{idx}[{letter}]', end = \" \")\n",
    "    "
   ]
  },
  {
   "cell_type": "code",
   "execution_count": 252,
   "metadata": {},
   "outputs": [
    {
     "name": "stdout",
     "output_type": "stream",
     "text": [
      "22, 20, 18, 16, 14, 12, 10, 8, 6, 4, \n",
      "4, 6, 8, 10, 12, 14, 16, 18, 20, 22, "
     ]
    }
   ],
   "source": [
    "for x in range(22, 2, -2):\n",
    "    print(x, end = ', ')\n",
    "\n",
    "print()\n",
    "\n",
    "for x in reversed(range(22, 2, -2)):\n",
    "    print(x, end = ', ')"
   ]
  },
  {
   "cell_type": "code",
   "execution_count": 284,
   "metadata": {},
   "outputs": [
    {
     "data": {
      "text/plain": [
       "16777215"
      ]
     },
     "execution_count": 284,
     "metadata": {},
     "output_type": "execute_result"
    }
   ],
   "source": [
    "int('FFFFFF', 16)"
   ]
  },
  {
   "cell_type": "code",
   "execution_count": 287,
   "metadata": {},
   "outputs": [
    {
     "name": "stdout",
     "output_type": "stream",
     "text": [
      "16, 17, Fizz, 19, Buzz, Fizz, "
     ]
    }
   ],
   "source": [
    "for num in range(16, 22):\n",
    "    result = ''\n",
    "    \n",
    "    if num % 3 == 0:\n",
    "        result += 'Fizz'\n",
    "    if num % 5 == 0:\n",
    "        result += 'Buzz'\n",
    "\n",
    "    print(result or num, end = \", \")"
   ]
  },
  {
   "cell_type": "markdown",
   "metadata": {},
   "source": [
    "<hr style=\"height:2px; background-color: rbg(0,0,0);\">\n",
    "<br>\n",
    "<p style=\"text-align: center;\"><font size=\"7\"> * * * </font></p>"
   ]
  },
  {
   "cell_type": "markdown",
   "metadata": {},
   "source": [
    "# #2"
   ]
  },
  {
   "cell_type": "code",
   "execution_count": 13,
   "metadata": {},
   "outputs": [
    {
     "name": "stdout",
     "output_type": "stream",
     "text": [
      "list_one = [None, None, None, None, None]\n",
      "list_one = [2, 22, 222, 2, 22, 222, 2, 22, 222, 2, 22, 222, 2, 22, 222]\n",
      "list_one = [True, None, 22, 'XXII']\n"
     ]
    }
   ],
   "source": [
    "empty_list = []\n",
    "empty_list = list()\n",
    "not_empty_list = list([22, 222, 2222])\n",
    "not_empty_list = [22, 222, 2222]\n",
    "list_one = [None] * 5\n",
    "list_two = [2, 22, 222] * 5\n",
    "list_three = [True, None, 22, 'XXII']\n",
    "print(f'list_one = {list_one}')\n",
    "print(f'list_one = {list_two}')\n",
    "print(f'list_one = {list_three}')"
   ]
  },
  {
   "cell_type": "code",
   "execution_count": 18,
   "metadata": {},
   "outputs": [
    {
     "name": "stdout",
     "output_type": "stream",
     "text": [
      "242 ns ± 52.8 ns per loop (mean ± std. dev. of 7 runs, 10000 loops each)\n"
     ]
    }
   ],
   "source": [
    "benchmark_list = []\n",
    "%timeit -n10000 benchmark_list.append(\"XXII\")"
   ]
  },
  {
   "cell_type": "code",
   "execution_count": 19,
   "metadata": {},
   "outputs": [
    {
     "name": "stdout",
     "output_type": "stream",
     "text": [
      "The slowest run took 10.69 times longer than the fastest. This could mean that an intermediate result is being cached.\n",
      "41.5 µs ± 23.3 µs per loop (mean ± std. dev. of 7 runs, 10000 loops each)\n"
     ]
    }
   ],
   "source": [
    "benchmark_list = []\n",
    "%timeit -n10000 benchmark_list.insert(0, \"XXII\")\n"
   ]
  },
  {
   "cell_type": "code",
   "execution_count": 22,
   "metadata": {},
   "outputs": [
    {
     "name": "stdout",
     "output_type": "stream",
     "text": [
      "[1, 2, 3, 4, 5, 6, 7, 8, 9]\n",
      "[1, 2, 3, 4, 5, 6, 7, 8]\n",
      "[4, 5, 6, 7, 8]\n"
     ]
    }
   ],
   "source": [
    "test_list = [1, 2, 3, 4, 5, 6, 7, 8, 9]\n",
    "print(test_list)\n",
    "del test_list[-1]\n",
    "print(test_list)\n",
    "del test_list[0:3]\n",
    "print(test_list)"
   ]
  },
  {
   "cell_type": "code",
   "execution_count": 36,
   "metadata": {},
   "outputs": [
    {
     "name": "stdout",
     "output_type": "stream",
     "text": [
      "[1, 2, 3, 4, 5, 6, 7, 8, 9, 10]\n",
      "[2, 3, 4, 5, 6, 7, 8, 9]\n",
      "[2, 4, 6, 8, 10]\n",
      "[7, 8, 9, 10]\n",
      "10\n"
     ]
    }
   ],
   "source": [
    "example_list = [x for x in range(1, 11)]\n",
    "print(example_list)\n",
    "print(example_list[1:-1])\n",
    "print(example_list[1:len(example_list):2])\n",
    "print(example_list[6:])\n",
    "print(example_list[-1])"
   ]
  },
  {
   "cell_type": "code",
   "execution_count": 50,
   "metadata": {},
   "outputs": [
    {
     "name": "stdout",
     "output_type": "stream",
     "text": [
      "[0, 1, 2, 3, 4, 5, 6, 7, 8, 9, 10]\n",
      "[0, 1, 2, 3, 4, 5, 6, 7, 8, 9, 10]\n",
      "\n",
      "list_test    = [22, 1, 2, 3, 4, 5, 6, 7, 8, 9, 10]\n",
      "another_list = [22, 1, 2, 3, 4, 5, 6, 7, 8, 9, 10]\n",
      "\n",
      "list_test_2 = [0, 1, 2, 3, 4, 5, 6, 7, 8, 9, 10]\n",
      "list_test_3 = [1, 1, 2, 3, 4, 5, 6, 7, 8, 9, 10]\n"
     ]
    }
   ],
   "source": [
    "list_test = [x for x in range(0, 11)]\n",
    "print(list_test)\n",
    "\n",
    "another_list = list_test\n",
    "print(another_list)\n",
    "\n",
    "another_list[0] = 22\n",
    "print(f'\\nlist_test    = {list_test}')\n",
    "print(f'another_list = {another_list}')\n",
    "\n",
    "list_test_2 = [x for x in range(0, 11)]\n",
    "print()\n",
    "\n",
    "list_test_3 = list_test_2[:] # Копирование через срез\n",
    "list_test_3[0] = 1\n",
    "print(f'list_test_2 = {list_test_2}')\n",
    "print(f'list_test_3 = {list_test_3}')"
   ]
  },
  {
   "cell_type": "markdown",
   "metadata": {},
   "source": [
    "<font size=\"5\"> * * * </font>\n",
    "#### SHALOW COPY"
   ]
  },
  {
   "cell_type": "code",
   "execution_count": 56,
   "metadata": {},
   "outputs": [
    {
     "name": "stdout",
     "output_type": "stream",
     "text": [
      "    another_list = [[1, 2, 3, 4], 1, 2, 3, 4]\n",
      "now another_list = [[1, 2, 3, 4, 22], 1, 2, 3, 4]\n"
     ]
    }
   ],
   "source": [
    "nested_list = [1, 2, 3, 4]\n",
    "example_list = [nested_list, 1, 2, 3, 4]\n",
    "another_list = example_list[:]\n",
    "print(f'    another_list = {another_list}')\n",
    "nested_list.append(22)\n",
    "print(f'now another_list = {another_list}')"
   ]
  },
  {
   "cell_type": "markdown",
   "metadata": {},
   "source": [
    "#### deepcopy"
   ]
  },
  {
   "cell_type": "code",
   "execution_count": 57,
   "metadata": {},
   "outputs": [
    {
     "name": "stdout",
     "output_type": "stream",
     "text": [
      "    another_list = [[1, 2, 3, 4], 1, 2, 3, 4]\n",
      "now another_list = [[1, 2, 3, 4], 1, 2, 3, 4]\n"
     ]
    }
   ],
   "source": [
    "from copy import deepcopy\n",
    "nested_list = [1, 2, 3, 4]\n",
    "example_list = [nested_list, 1, 2, 3, 4]\n",
    "another_list = deepcopy(example_list)\n",
    "print(f'    another_list = {another_list}')\n",
    "nested_list.append(22)\n",
    "print(f'now another_list = {another_list}')"
   ]
  },
  {
   "cell_type": "markdown",
   "metadata": {},
   "source": [
    "<font size=\"5\">* * *<font/>"
   ]
  },
  {
   "cell_type": "code",
   "execution_count": 60,
   "metadata": {},
   "outputs": [
    {
     "name": "stdout",
     "output_type": "stream",
     "text": [
      "[0, 1, 2, 3, 6, 7]\n",
      "[6, 3, 1, 7, 0, 2]\n"
     ]
    }
   ],
   "source": [
    "unsorted = [6, 3, 1, 7, 0, 2]\n",
    "print(sorted(unsorted))\n",
    "print(unsorted)"
   ]
  },
  {
   "cell_type": "markdown",
   "metadata": {},
   "source": [
    "#### Вывести в одну строку все цифры от 0 до 100"
   ]
  },
  {
   "cell_type": "code",
   "execution_count": 64,
   "metadata": {},
   "outputs": [
    {
     "name": "stdout",
     "output_type": "stream",
     "text": [
      "0,1,2,3,4,5,6,7,8,9,10,11,12,13,14,15,16,17,18,19,20,21,22,23,24,25,26,27,28,29,30,31,32,33,34,35,36,37,38,39,40,41,42,43,44,45,46,47,48,49,50,51,52,53,54,55,56,57,58,59,60,61,62,63,64,65,66,67,68,69,70,71,72,73,74,75,76,77,78,79,80,81,82,83,84,85,86,87,88,89,90,91,92,93,94,95,96,97,98,99,100,"
     ]
    }
   ],
   "source": [
    "for x in range(0, 101):\n",
    "    print(x, end=\",\")"
   ]
  },
  {
   "cell_type": "code",
   "execution_count": 63,
   "metadata": {},
   "outputs": [
    {
     "name": "stdout",
     "output_type": "stream",
     "text": [
      "0,1,2,3,4,5,6,7,8,9,10,11,12,13,14,15,16,17,18,19,20,21,22,23,24,25,26,27,28,29,30,31,32,33,34,35,36,37,38,39,40,41,42,43,44,45,46,47,48,49,50,51,52,53,54,55,56,57,58,59,60,61,62,63,64,65,66,67,68,69,70,71,72,73,74,75,76,77,78,79,80,81,82,83,84,85,86,87,88,89,90,91,92,93,94,95,96,97,98,99,100\n"
     ]
    }
   ],
   "source": [
    "print(\",\".join(str(item) for item in range(101)))"
   ]
  },
  {
   "cell_type": "code",
   "execution_count": 65,
   "metadata": {},
   "outputs": [
    {
     "name": "stdout",
     "output_type": "stream",
     "text": [
      "1 2 3 4 5\n"
     ]
    }
   ],
   "source": [
    "five_num_tuple = [1, 2, 3, 4, 5]\n",
    "a, b, c, d, e = five_num_tuple\n",
    "print(a, b, c, d, e)"
   ]
  },
  {
   "cell_type": "code",
   "execution_count": 69,
   "metadata": {},
   "outputs": [
    {
     "data": {
      "text/plain": [
       "2528502973977326415"
      ]
     },
     "execution_count": 69,
     "metadata": {},
     "output_type": "execute_result"
    }
   ],
   "source": [
    "hash((1, 2, 3))"
   ]
  },
  {
   "cell_type": "code",
   "execution_count": 70,
   "metadata": {},
   "outputs": [],
   "source": [
    "search_list = list(range(100000))\n",
    "search_dict = dict.fromkeys(list(range(100000)))"
   ]
  },
  {
   "cell_type": "code",
   "execution_count": 72,
   "metadata": {},
   "outputs": [
    {
     "name": "stdout",
     "output_type": "stream",
     "text": [
      "106 ns ± 45 ns per loop (mean ± std. dev. of 7 runs, 10000 loops each)\n"
     ]
    }
   ],
   "source": [
    "%timeit -n10000 0 in search_list"
   ]
  },
  {
   "cell_type": "code",
   "execution_count": 73,
   "metadata": {},
   "outputs": [
    {
     "name": "stdout",
     "output_type": "stream",
     "text": [
      "125 ns ± 31.9 ns per loop (mean ± std. dev. of 7 runs, 10000 loops each)\n"
     ]
    }
   ],
   "source": [
    "%timeit -n10000 0 in search_dict"
   ]
  },
  {
   "cell_type": "code",
   "execution_count": 77,
   "metadata": {},
   "outputs": [
    {
     "name": "stdout",
     "output_type": "stream",
     "text": [
      "3.1 ms ± 21.4 µs per loop (mean ± std. dev. of 7 runs, 1000 loops each)\n"
     ]
    }
   ],
   "source": [
    "%timeit -n1000 99999 in search_list"
   ]
  },
  {
   "cell_type": "code",
   "execution_count": 78,
   "metadata": {},
   "outputs": [
    {
     "name": "stdout",
     "output_type": "stream",
     "text": [
      "206 ns ± 43 ns per loop (mean ± std. dev. of 7 runs, 10000 loops each)\n"
     ]
    }
   ],
   "source": [
    "%timeit -n10000 99999 in search_dict"
   ]
  },
  {
   "cell_type": "code",
   "execution_count": 82,
   "metadata": {},
   "outputs": [
    {
     "name": "stdout",
     "output_type": "stream",
     "text": [
      "{'a': 22, 'b': 222, 'f': 'SECOND', 'c': 'XXII', 'd': 'CCXXII'}\n"
     ]
    }
   ],
   "source": [
    "d1 = {\"a\": 22, \"b\": 222, \"f\": \"FIRST\"}\n",
    "d2 = {\"c\": \"XXII\", \"d\": \"CCXXII\", \"f\":\"SECOND\"}\n",
    "d1.update(d2)\n",
    "print(d1)"
   ]
  },
  {
   "cell_type": "code",
   "execution_count": 92,
   "metadata": {},
   "outputs": [
    {
     "name": "stdout",
     "output_type": "stream",
     "text": [
      "[2]-3\n",
      "[22]-3\n",
      "[4]-1\n",
      "[3]-2\n",
      "[55]-1\n",
      "[5]-2\n",
      "[44]-1\n"
     ]
    }
   ],
   "source": [
    "elements = [2, 22, 2, 22, 2, 22, 4, 3, 55, 5, 5, 44, 3]\n",
    "solutions_dict = {}\n",
    "\n",
    "for item in elements:\n",
    "    if item in solutions_dict:\n",
    "        solutions_dict[item] = solutions_dict.get(item, 0) + 1\n",
    "    if not solutions_dict.get(item, None):\n",
    "        solutions_dict[item] = 1\n",
    "for key, value in solutions_dict.items():\n",
    "#    if value is 1:\n",
    "        print(f'[{key}]-{value}')"
   ]
  },
  {
   "cell_type": "code",
   "execution_count": 103,
   "metadata": {},
   "outputs": [
    {
     "name": "stdout",
     "output_type": "stream",
     "text": [
      "[1, 2, 3, 4, 5, 6, 7, 8, 9]\n",
      "[2, 3, 4, 5, 6, 7, 8, 9, 10]\n",
      "[4, 6, 8, 10]\n"
     ]
    }
   ],
   "source": [
    "item_list_1 = [1, 2, 3, 4, 5, 6, 7, 8, 9]\n",
    "item_list_2 = [item + 1 for item in item_list_1]\n",
    "item_list_3 = [item + 1 for item in item_list_2 if item % 2]\n",
    "print(f'{item_list_1}\\n{item_list_2}\\n{item_list_3}')"
   ]
  },
  {
   "cell_type": "code",
   "execution_count": 106,
   "metadata": {},
   "outputs": [
    {
     "name": "stdout",
     "output_type": "stream",
     "text": [
      "{1: 3, 3: 5, 5: 7}\n"
     ]
    }
   ],
   "source": [
    "first_list = [(1, 2), (3, 4), (5, 6)]\n",
    "first_dict = {key: value + 1 for key, value in first_list}\n",
    "print(first_dict)"
   ]
  },
  {
   "cell_type": "markdown",
   "metadata": {},
   "source": [
    "#### SET"
   ]
  },
  {
   "cell_type": "code",
   "execution_count": 115,
   "metadata": {},
   "outputs": [
    {
     "name": "stdout",
     "output_type": "stream",
     "text": [
      "{2, 4, 44, 22, 222}\n",
      "{2, 4, 44, 22, 222}\n"
     ]
    }
   ],
   "source": [
    "another_set = {3, 33, 333, 4, 44}\n",
    "example_set = {2, 22, 222, 4, 44}\n",
    "print(example_set)\n",
    "example_set.add(222)\n",
    "print(example_set)"
   ]
  },
  {
   "cell_type": "code",
   "execution_count": 117,
   "metadata": {},
   "outputs": [
    {
     "name": "stdout",
     "output_type": "stream",
     "text": [
      "{2, 222, 22}\n",
      "{33, 2, 3, 4, 44, 333, 22, 222}\n",
      "{4, 44}\n"
     ]
    }
   ],
   "source": [
    "print(example_set.difference(another_set))\n",
    "print(example_set.union(another_set))\n",
    "print(example_set.intersection(another_set))"
   ]
  },
  {
   "cell_type": "code",
   "execution_count": 119,
   "metadata": {},
   "outputs": [
    {
     "data": {
      "text/plain": [
       "22"
      ]
     },
     "execution_count": 119,
     "metadata": {},
     "output_type": "execute_result"
    }
   ],
   "source": [
    "list(example_set)[3]"
   ]
  },
  {
   "cell_type": "code",
   "execution_count": 126,
   "metadata": {},
   "outputs": [
    {
     "name": "stdout",
     "output_type": "stream",
     "text": [
      "{'Sam', 'Max'}\n"
     ]
    }
   ],
   "source": [
    "online_users = {'Bob', 'Max', 'Frank', 'Bill', 'Sam'}\n",
    "admin = {'Sam', 'Max', 'Freddy', 'Tomas'}\n",
    "admin_online = online_users.intersection(admin)\n",
    "print(admin_online)"
   ]
  },
  {
   "cell_type": "markdown",
   "metadata": {},
   "source": [
    "#### Основная задача, часто возникающая на практике. Есть список элементов, необходимо оставить уникальные. Это одна строка с использование сета:"
   ]
  },
  {
   "cell_type": "code",
   "execution_count": 7,
   "metadata": {},
   "outputs": [
    {
     "name": "stdout",
     "output_type": "stream",
     "text": [
      "element :['A', 'A', 'V', 'F', 'F', 'G', 'L', 'T', 'R', 'P', 'P', 'X', 'X', 'Z', 'S', 'A']\n",
      "set is  :{'Z', 'V', 'F', 'A', 'R', 'S', 'P', 'L', 'G', 'T', 'X'}\n"
     ]
    }
   ],
   "source": [
    "elements = ['A', 'A', 'V', 'F','F', 'G', 'L', 'T', 'R', 'P', 'P', 'X', 'X', 'Z', 'S', 'A']\n",
    "print(f'element :{elements}')\n",
    "print(f'set is  :{set(elements)}')"
   ]
  },
  {
   "cell_type": "markdown",
   "metadata": {},
   "source": [
    "#### FROSENZET"
   ]
  },
  {
   "cell_type": "code",
   "execution_count": null,
   "metadata": {},
   "outputs": [],
   "source": [
    "set1 = set()\n",
    "set1.add(frozenset([1,2,3]))\n",
    "print(set1)\n",
    "a = frozenset([1,2,3,4])"
   ]
  },
  {
   "cell_type": "markdown",
   "metadata": {},
   "source": [
    "#### COLLECTIONS"
   ]
  },
  {
   "cell_type": "code",
   "execution_count": 9,
   "metadata": {},
   "outputs": [
    {
     "name": "stdout",
     "output_type": "stream",
     "text": [
      "['deque', 'defaultdict', 'OrderedDict', 'namedtuple', 'Counter', 'ChainMap', 'UserDict', 'UserList', 'UserString', 'abc', 'Mapping', 'Iterable']\n"
     ]
    }
   ],
   "source": [
    "import collections\n",
    "print([x for x in collections.__dict__.keys() if not x.startswith('_')])"
   ]
  },
  {
   "cell_type": "code",
   "execution_count": 10,
   "metadata": {},
   "outputs": [
    {
     "name": "stdout",
     "output_type": "stream",
     "text": [
      "4: 3 times\n",
      "5: 3 times\n",
      "2: 2 times\n"
     ]
    }
   ],
   "source": [
    "counter = collections.Counter([1,2,4,2,4,6,7,84,5,3,4,5,5,6])\n",
    "for element, count in counter.most_common(3):\n",
    "    print(\"{}: {} times\".format(element, count))"
   ]
  },
  {
   "cell_type": "code",
   "execution_count": 11,
   "metadata": {},
   "outputs": [
    {
     "ename": "KeyError",
     "evalue": "1",
     "output_type": "error",
     "traceback": [
      "\u001b[0;31m---------------------------------------------------------------------------\u001b[0m",
      "\u001b[0;31mKeyError\u001b[0m                                  Traceback (most recent call last)",
      "\u001b[0;32m<ipython-input-11-15f699d0c66d>\u001b[0m in \u001b[0;36m<module>\u001b[0;34m\u001b[0m\n\u001b[1;32m      1\u001b[0m \u001b[0ma\u001b[0m \u001b[0;34m=\u001b[0m \u001b[0mdict\u001b[0m\u001b[0;34m(\u001b[0m\u001b[0;34m)\u001b[0m\u001b[0;34m\u001b[0m\u001b[0m\n\u001b[0;32m----> 2\u001b[0;31m \u001b[0ma\u001b[0m\u001b[0;34m[\u001b[0m\u001b[0;36m1\u001b[0m\u001b[0;34m]\u001b[0m \u001b[0;34m+=\u001b[0m \u001b[0;36m1\u001b[0m\u001b[0;34m\u001b[0m\u001b[0m\n\u001b[0m",
      "\u001b[0;31mKeyError\u001b[0m: 1"
     ]
    }
   ],
   "source": [
    "a = dict()\n",
    "a[1] += 1"
   ]
  },
  {
   "cell_type": "code",
   "execution_count": 17,
   "metadata": {},
   "outputs": [
    {
     "name": "stdout",
     "output_type": "stream",
     "text": [
      "defaultdict(<class 'list'>, {1: [1]})\n",
      "[]\n",
      "dict_keys([1, 2])\n",
      "0\n"
     ]
    }
   ],
   "source": [
    "# defaultdict\n",
    "def_dict = collections.defaultdict(list)\n",
    "def_dict[1].append(1)\n",
    "print(def_dict)\n",
    "def_dict[2]\n",
    "print(def_dict[2])\n",
    "print(def_dict.keys())\n",
    "def_dict2 = collections.defaultdict(int)\n",
    "print(def_dict2[2])"
   ]
  },
  {
   "cell_type": "code",
   "execution_count": 27,
   "metadata": {},
   "outputs": [
    {
     "name": "stdout",
     "output_type": "stream",
     "text": [
      "0 0\n",
      "5.0\n"
     ]
    }
   ],
   "source": [
    "# namedtuple\n",
    "import math\n",
    "Point = collections.namedtuple('Point', ['x', 'y'])\n",
    "Point1 = Point(0, 0)\n",
    "Point2 = Point(3, 4)\n",
    "print(Point1.x, Point1.y)\n",
    "distanse = math.sqrt((Point2.x - Point1.x)**2 + (Point2.y - Point1.y)**2)\n",
    "print(distanse)"
   ]
  },
  {
   "cell_type": "markdown",
   "metadata": {},
   "source": [
    "# Functions"
   ]
  },
  {
   "cell_type": "code",
   "execution_count": 62,
   "metadata": {},
   "outputs": [
    {
     "name": "stdout",
     "output_type": "stream",
     "text": [
      "Seconds now: 32\n",
      "\n"
     ]
    }
   ],
   "source": [
    "from datetime import datetime\n",
    "\n",
    "def get_seconds():\n",
    "    \"\"\"Return current seconds\"\"\"\n",
    "    return datetime.now().second\n",
    "\n",
    "print(\"Seconds now: {}\\n\".format(get_seconds()))"
   ]
  },
  {
   "cell_type": "code",
   "execution_count": 63,
   "metadata": {},
   "outputs": [
    {
     "name": "stdout",
     "output_type": "stream",
     "text": [
      "Help on function get_seconds in module __main__:\n",
      "\n",
      "get_seconds()\n",
      "    Return current seconds\n",
      "\n"
     ]
    }
   ],
   "source": [
    "help(get_seconds)"
   ]
  },
  {
   "cell_type": "code",
   "execution_count": 65,
   "metadata": {},
   "outputs": [
    {
     "data": {
      "text/plain": [
       "['AAA', 'CCXXII 222', 'XXII', 'FFF', '$$$']"
      ]
     },
     "execution_count": 65,
     "metadata": {},
     "output_type": "execute_result"
    }
   ],
   "source": [
    "def split_tags(tag_string):\n",
    "    return[item.strip() for item in tag_string.split(',')]\n",
    "\n",
    "split_tags('AAA, CCXXII 222, XXII, FFF, $$$')"
   ]
  },
  {
   "cell_type": "markdown",
   "metadata": {},
   "source": [
    "#### Функция нахождения медиаы переданного списка"
   ]
  },
  {
   "cell_type": "code",
   "execution_count": 71,
   "metadata": {},
   "outputs": [
    {
     "name": "stdout",
     "output_type": "stream",
     "text": [
      "3\n",
      "[5, 4, 2, 1]\n"
     ]
    }
   ],
   "source": [
    "def median(not_sorted_list):\n",
    "    sorted_list = not_sorted_list[:]\n",
    "    sorted_list.sort()\n",
    "    \n",
    "    if len(sorted_list) % 2 == 1:\n",
    "        return sorted_list[len(sorted_list) // 2]\n",
    "    else:\n",
    "        return (sorted_list[len(sorted_list) // 2] + sorted_list[len(sorted_list) // 2] - 1)/2\n",
    "\n",
    "not_sorted_list = [5,4,2,1]\n",
    "print(int(median(not_sorted_list)))\n",
    "print(not_sorted_list)"
   ]
  },
  {
   "cell_type": "code",
   "execution_count": 74,
   "metadata": {},
   "outputs": [],
   "source": [
    "def nlog_median(l):\n",
    "    if not len(l):\n",
    "        return None\n",
    "    l = sort(l)\n",
    "    if len(1) % 2 == 1:\n",
    "        return l[len(l) / 2]\n",
    "    else:\n",
    "        return (l[len(l) // 2 - 1] + l[len(l) // 2]) /2\n",
    "\n",
    "nlog_median([])"
   ]
  },
  {
   "cell_type": "markdown",
   "metadata": {},
   "source": [
    "#### Именованные аргументы"
   ]
  },
  {
   "cell_type": "code",
   "execution_count": 75,
   "metadata": {},
   "outputs": [
    {
     "name": "stdout",
     "output_type": "stream",
     "text": [
      "Hello Sam!\n",
      "Hi SAM!\n"
     ]
    }
   ],
   "source": [
    "def say(greeting, name):\n",
    "    print('{} {}!'.format(greeting, name))\n",
    "\n",
    "say('Hello', 'Sam')\n",
    "say(name = 'SAM', greeting = 'Hi')"
   ]
  },
  {
   "cell_type": "markdown",
   "metadata": {},
   "source": [
    "#### Аргументы по умолчанию"
   ]
  },
  {
   "cell_type": "code",
   "execution_count": 79,
   "metadata": {},
   "outputs": [
    {
     "name": "stdout",
     "output_type": "stream",
     "text": [
      "Hello, it's me...\n",
      "Hello, Bob\n",
      "(\"it's me...\",)\n"
     ]
    }
   ],
   "source": [
    "def greet(name='it\\'s me...'):\n",
    "    print('Hello, {}'.format(name))\n",
    "\n",
    "greet()\n",
    "greet('Bob')\n",
    "print(greet.__defaults__)"
   ]
  },
  {
   "cell_type": "code",
   "execution_count": 83,
   "metadata": {},
   "outputs": [
    {
     "name": "stdout",
     "output_type": "stream",
     "text": [
      "[], 3\n"
     ]
    }
   ],
   "source": [
    "def funct(iterable=None):\n",
    "    if iterable is None:\n",
    "        iterable = []\n",
    "    return iterable\n",
    "\n",
    "def funct(iterable=None):\n",
    "    iterable = iterable or []\n",
    "    return iterable\n",
    "\n",
    "print(f'{funct()}, {funct(3)}')"
   ]
  },
  {
   "cell_type": "markdown",
   "metadata": {},
   "source": [
    "#### Распаковка"
   ]
  },
  {
   "cell_type": "code",
   "execution_count": 92,
   "metadata": {},
   "outputs": [
    {
     "name": "stdout",
     "output_type": "stream",
     "text": [
      "<class 'tuple'>\n",
      "1\n",
      "2\n",
      "3\n",
      "4\n",
      "5\n"
     ]
    }
   ],
   "source": [
    "def printer(*args):\n",
    "    print(type(args))\n",
    "    \n",
    "    for argument in args:\n",
    "        print(argument)\n",
    "\n",
    "printer(1, 2, 3, 4, 5)"
   ]
  },
  {
   "cell_type": "code",
   "execution_count": 94,
   "metadata": {},
   "outputs": [
    {
     "name": "stdout",
     "output_type": "stream",
     "text": [
      "<class 'tuple'>\n",
      "A\n",
      "B\n",
      "C\n",
      "<class 'tuple'>\n",
      "1\n",
      "2\n",
      "3\n"
     ]
    }
   ],
   "source": [
    "named_list = ['A', 'B', 'C']\n",
    "printer(*named_list)\n",
    "a = [1,2,3]\n",
    "printer(*a)"
   ]
  },
  {
   "cell_type": "code",
   "execution_count": 96,
   "metadata": {},
   "outputs": [
    {
     "name": "stdout",
     "output_type": "stream",
     "text": [
      "<class 'tuple'> (1, 2, 3)\n",
      "<class 'dict'> {'a': 22, 'b': 'XXII'}\n"
     ]
    }
   ],
   "source": [
    "def printer2(*args, **kwargs):\n",
    "    print(type(args), args)\n",
    "    print(type(kwargs), kwargs)\n",
    "\n",
    "printer2(1, 2, 3, a=22, b='XXII')\n",
    "#printer2(a=222, b='CCXXII', 4, 5, 6 )"
   ]
  },
  {
   "cell_type": "markdown",
   "metadata": {},
   "source": [
    "#### Генераторы ч.2"
   ]
  },
  {
   "cell_type": "code",
   "execution_count": 99,
   "metadata": {},
   "outputs": [
    {
     "name": "stdout",
     "output_type": "stream",
     "text": [
      "0\n",
      "1\n",
      "2\n",
      "<generator object <genexpr> at 0x1083dc4f8>\n"
     ]
    }
   ],
   "source": [
    "a = (item for item in range(3))\n",
    "\n",
    "for item in a:\n",
    "    print(item)\n",
    "\n",
    "print(a)"
   ]
  },
  {
   "cell_type": "code",
   "execution_count": 101,
   "metadata": {},
   "outputs": [
    {
     "name": "stdout",
     "output_type": "stream",
     "text": [
      "2\n",
      "22\n",
      "222\n"
     ]
    }
   ],
   "source": [
    "def simple_gen():\n",
    "    yield 2\n",
    "    yield 22\n",
    "    yield 222\n",
    "\n",
    "gen = simple_gen()\n",
    "print(next(gen))\n",
    "print(next(gen))\n",
    "print(next(gen))"
   ]
  },
  {
   "cell_type": "markdown",
   "metadata": {},
   "source": [
    "<br>\n",
    "<p style=\"text-align: center;\"><font size=\"7\"> * * * </font></p>\n",
    "<hr style=\"height:2px; background-color: rbg(0,0,0);\">"
   ]
  },
  {
   "cell_type": "markdown",
   "metadata": {},
   "source": [
    "# #3"
   ]
  },
  {
   "cell_type": "markdown",
   "metadata": {},
   "source": [
    "#### Moduls"
   ]
  },
  {
   "cell_type": "code",
   "execution_count": 105,
   "metadata": {},
   "outputs": [],
   "source": [
    "import sys"
   ]
  },
  {
   "cell_type": "code",
   "execution_count": 106,
   "metadata": {},
   "outputs": [
    {
     "data": {
      "text/plain": [
       "['',\n",
       " '/Users/xxii/STD/Python/JNotebook ',\n",
       " '/usr/local/bin/python3',\n",
       " '/Users/xxii/STD/Python/JNotebook ',\n",
       " '/usr/local/Cellar/python/3.7.0/Frameworks/Python.framework/Versions/3.7/lib/python37.zip',\n",
       " '/usr/local/Cellar/python/3.7.0/Frameworks/Python.framework/Versions/3.7/lib/python3.7',\n",
       " '/usr/local/Cellar/python/3.7.0/Frameworks/Python.framework/Versions/3.7/lib/python3.7/lib-dynload',\n",
       " '/usr/local/lib/python3.7/site-packages',\n",
       " '/usr/local/lib/python3.7/site-packages/IPython/extensions',\n",
       " '/Users/xxii/.ipython']"
      ]
     },
     "execution_count": 106,
     "metadata": {},
     "output_type": "execute_result"
    }
   ],
   "source": [
    "sys.path # pythonpath"
   ]
  },
  {
   "cell_type": "code",
   "execution_count": 109,
   "metadata": {},
   "outputs": [],
   "source": [
    "sys.path.append('/Users/username/Desktop/filename')"
   ]
  },
  {
   "cell_type": "markdown",
   "metadata": {},
   "source": [
    "#### Packets"
   ]
  },
  {
   "cell_type": "code",
   "execution_count": 112,
   "metadata": {},
   "outputs": [
    {
     "ename": "ModuleNotFoundError",
     "evalue": "No module named 'geometry'",
     "output_type": "error",
     "traceback": [
      "\u001b[0;31m---------------------------------------------------------------------------\u001b[0m",
      "\u001b[0;31mModuleNotFoundError\u001b[0m                       Traceback (most recent call last)",
      "\u001b[0;32m<ipython-input-112-0fbe6887f1d9>\u001b[0m in \u001b[0;36m<module>\u001b[0;34m\u001b[0m\n\u001b[0;32m----> 1\u001b[0;31m \u001b[0;32mimport\u001b[0m \u001b[0mgeometry\u001b[0m\u001b[0;34m\u001b[0m\u001b[0m\n\u001b[0m",
      "\u001b[0;31mModuleNotFoundError\u001b[0m: No module named 'geometry'"
     ]
    }
   ],
   "source": [
    "import geometry"
   ]
  },
  {
   "cell_type": "markdown",
   "metadata": {},
   "source": [
    "#### Class"
   ]
  },
  {
   "cell_type": "code",
   "execution_count": 114,
   "metadata": {},
   "outputs": [],
   "source": [
    "class TimeInterval:\n",
    "    pass"
   ]
  },
  {
   "cell_type": "code",
   "execution_count": 121,
   "metadata": {},
   "outputs": [],
   "source": [
    "interval = TimeInterval()"
   ]
  },
  {
   "cell_type": "code",
   "execution_count": 122,
   "metadata": {},
   "outputs": [
    {
     "data": {
      "text/plain": [
       "<__main__.TimeInterval at 0x1084230f0>"
      ]
     },
     "execution_count": 122,
     "metadata": {},
     "output_type": "execute_result"
    }
   ],
   "source": [
    "interval"
   ]
  },
  {
   "cell_type": "code",
   "execution_count": 123,
   "metadata": {},
   "outputs": [
    {
     "data": {
      "text/plain": [
       "__main__.TimeInterval"
      ]
     },
     "execution_count": 123,
     "metadata": {},
     "output_type": "execute_result"
    }
   ],
   "source": [
    "type(interval)"
   ]
  },
  {
   "cell_type": "code",
   "execution_count": 124,
   "metadata": {},
   "outputs": [
    {
     "data": {
      "text/plain": [
       "type"
      ]
     },
     "execution_count": 124,
     "metadata": {},
     "output_type": "execute_result"
    }
   ],
   "source": [
    "type(TimeInterval)"
   ]
  },
  {
   "cell_type": "code",
   "execution_count": 125,
   "metadata": {},
   "outputs": [
    {
     "data": {
      "text/plain": [
       "True"
      ]
     },
     "execution_count": 125,
     "metadata": {},
     "output_type": "execute_result"
    }
   ],
   "source": [
    "TimeInterval is type(interval)"
   ]
  },
  {
   "cell_type": "code",
   "execution_count": 127,
   "metadata": {},
   "outputs": [
    {
     "data": {
      "text/plain": [
       "True"
      ]
     },
     "execution_count": 127,
     "metadata": {},
     "output_type": "execute_result"
    }
   ],
   "source": [
    "isinstance(interval, TimeInterval)"
   ]
  },
  {
   "cell_type": "markdown",
   "metadata": {},
   "source": [
    "#### Конструирование"
   ]
  },
  {
   "cell_type": "code",
   "execution_count": 21,
   "metadata": {},
   "outputs": [],
   "source": [
    "class TimeInterval:\n",
    "    def __init__(self, begin, end):\n",
    "        self.begin = begin\n",
    "        self.end = end"
   ]
  },
  {
   "cell_type": "code",
   "execution_count": 20,
   "metadata": {},
   "outputs": [],
   "source": [
    "from datetime import datetime\n",
    "interval = TimeInterval(\n",
    "        datetime(year=2018, month=1, day=1),\n",
    "        datetime(year=2019, month=1, day=2),\n",
    ")"
   ]
  },
  {
   "cell_type": "markdown",
   "metadata": {},
   "source": [
    "#### Methods"
   ]
  },
  {
   "cell_type": "code",
   "execution_count": 25,
   "metadata": {},
   "outputs": [
    {
     "data": {
      "text/plain": [
       "90439897.587874"
      ]
     },
     "execution_count": 25,
     "metadata": {},
     "output_type": "execute_result"
    }
   ],
   "source": [
    "class TimeInterval:\n",
    "    def __init__(self, begin, end):\n",
    "        self.begin = begin\n",
    "        self.end = end\n",
    "    \n",
    "    def get_light(self):\n",
    "        return self.end - self.begin\n",
    "\n",
    "interval = TimeInterval(datetime(year=2016, month=1, day=1), datetime.now())\n",
    "interval.get_light().total_seconds()"
   ]
  },
  {
   "cell_type": "code",
   "execution_count": 27,
   "metadata": {},
   "outputs": [
    {
     "data": {
      "text/plain": [
       "<bound method TimeInterval.get_light of <__main__.TimeInterval object at 0x103c07780>>"
      ]
     },
     "execution_count": 27,
     "metadata": {},
     "output_type": "execute_result"
    }
   ],
   "source": [
    "interval.get_light"
   ]
  },
  {
   "cell_type": "markdown",
   "metadata": {},
   "source": [
    "#### Атрибуты класса"
   ]
  },
  {
   "cell_type": "code",
   "execution_count": 48,
   "metadata": {},
   "outputs": [
    {
     "data": {
      "text/plain": [
       "1542047283.366319"
      ]
     },
     "execution_count": 48,
     "metadata": {},
     "output_type": "execute_result"
    }
   ],
   "source": [
    "from datetime import datetime\n",
    "\n",
    "class TimeInterval:\n",
    "    DEFAULT_BEGIN = datetime(1970, 1, 1)\n",
    "    DEFAULT_END = datetime.now()\n",
    "    \n",
    "    def __init__(self, begin=None, end=None):\n",
    "        begin = begin or self.DEFAULT_BEGIN\n",
    "        end   = end or self.DEFAULT_END\n",
    "        \n",
    "        self._begin = begin\n",
    "        self._end = end\n",
    "        \n",
    "    def get_light(self):\n",
    "        return self._end - self._begin\n",
    "    \n",
    "interval = TimeInterval()\n",
    "interval.get_light().total_seconds()"
   ]
  }
 ],
 "metadata": {
  "kernelspec": {
   "display_name": "Python 3",
   "language": "python",
   "name": "python3"
  },
  "language_info": {
   "codemirror_mode": {
    "name": "ipython",
    "version": 3
   },
   "file_extension": ".py",
   "mimetype": "text/x-python",
   "name": "python",
   "nbconvert_exporter": "python",
   "pygments_lexer": "ipython3",
   "version": "3.7.0"
  }
 },
 "nbformat": 4,
 "nbformat_minor": 2
}
