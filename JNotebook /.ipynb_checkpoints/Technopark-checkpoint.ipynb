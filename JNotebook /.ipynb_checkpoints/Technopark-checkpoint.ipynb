{
 "cells": [
  {
   "cell_type": "markdown",
   "metadata": {},
   "source": [
    "![title](img/002.png)"
   ]
  },
  {
   "cell_type": "code",
   "execution_count": 1,
   "metadata": {},
   "outputs": [
    {
     "name": "stdout",
     "output_type": "stream",
     "text": [
      "Hi all! o/\n"
     ]
    }
   ],
   "source": [
    "print(\"Hi all! o/\")"
   ]
  },
  {
   "cell_type": "code",
   "execution_count": 5,
   "metadata": {},
   "outputs": [
    {
     "name": "stdout",
     "output_type": "stream",
     "text": [
      "22000000\n"
     ]
    }
   ],
   "source": [
    "big_amount = 22_000_000\n",
    "print(big_amount)"
   ]
  },
  {
   "cell_type": "code",
   "execution_count": 10,
   "metadata": {},
   "outputs": [
    {
     "name": "stdout",
     "output_type": "stream",
     "text": [
      "77689142522643953432857984943405160607459375066866993426360941500585379496167494554414812738317551290610125506942363201912811852077589887445080329133236084882706758976853160280299220802735308699614184679198052359338219884186570298955013643597740982700186080103802243114935671443344639972611689529406831778230237557486483970597676232979670032540178649466573489259451610193432410434961292070905832062516015156301535032295736862042589225660949159580073017293290337975775881136212936121912254638873440212608666735186892816384\n"
     ]
    }
   ],
   "source": [
    "big_number = 222 ** 222\n",
    "print(big_number)"
   ]
  },
  {
   "cell_type": "code",
   "execution_count": 11,
   "metadata": {},
   "outputs": [
    {
     "data": {
      "text/plain": [
       "int"
      ]
     },
     "execution_count": 11,
     "metadata": {},
     "output_type": "execute_result"
    }
   ],
   "source": [
    "type(big_number)"
   ]
  },
  {
   "cell_type": "code",
   "execution_count": 21,
   "metadata": {},
   "outputs": [
    {
     "name": "stdout",
     "output_type": "stream",
     "text": [
      "0.020000000000000004\n",
      "0.3\n"
     ]
    }
   ],
   "source": [
    "from decimal import Decimal\n",
    "print(0.1 * 0.2)\n",
    "print(Decimal('0.1') + Decimal('0.2'))"
   ]
  }
 ],
 "metadata": {
  "kernelspec": {
   "display_name": "Python 3",
   "language": "python",
   "name": "python3"
  },
  "language_info": {
   "codemirror_mode": {
    "name": "ipython",
    "version": 3
   },
   "file_extension": ".py",
   "mimetype": "text/x-python",
   "name": "python",
   "nbconvert_exporter": "python",
   "pygments_lexer": "ipython3",
   "version": "3.7.0"
  }
 },
 "nbformat": 4,
 "nbformat_minor": 2
}
